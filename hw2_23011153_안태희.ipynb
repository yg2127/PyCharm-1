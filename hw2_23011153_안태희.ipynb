{
 "cells": [
  {
   "cell_type": "code",
   "execution_count": null,
   "id": "initial_id",
   "metadata": {
    "collapsed": true
   },
   "outputs": [],
   "source": [
    "import numpy as np\n",
    "\n",
    "# 1. 1~10 사이의 숫자로 3x4 랜덤 행렬 생성\n",
    "np.random.seed(0)  # 결과 재현을 위해 seed 설정 (제출용에서는 생략해도 무관)\n",
    "matrix = np.random.randint(1, 11, size=(3, 4))\n",
    "print(\"Random matrix:\\n\", matrix)\n",
    "\n",
    "# 2. 각 열(column)별 평균(μ)과 표준편차(σ) 계산\n",
    "mu = np.mean(matrix, axis=0)\n",
    "sigma = np.std(matrix, axis=0)\n",
    "print(\"Column-wise mean (μ):\", mu)\n",
    "print(\"Column-wise std (σ):\", sigma)\n",
    "\n",
    "# 3. 각 열마다 (μ - σ)보다 큰 element의 개수 계산\n",
    "threshold = mu - sigma  # 각 열별 기준값\n",
    "count = np.sum(matrix > threshold, axis=0)  # 조건을 만족하는 element의 개수\n",
    "print(\"Number of elements > (μ - σ) per column:\", count)"
   ]
  }
 ],
 "metadata": {
  "kernelspec": {
   "display_name": "Python 3",
   "language": "python",
   "name": "python3"
  },
  "language_info": {
   "codemirror_mode": {
    "name": "ipython",
    "version": 2
   },
   "file_extension": ".py",
   "mimetype": "text/x-python",
   "name": "python",
   "nbconvert_exporter": "python",
   "pygments_lexer": "ipython2",
   "version": "2.7.6"
  }
 },
 "nbformat": 4,
 "nbformat_minor": 5
}
