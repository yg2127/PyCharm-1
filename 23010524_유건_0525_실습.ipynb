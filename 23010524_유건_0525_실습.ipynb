{
 "cells": [
  {
   "cell_type": "code",
   "id": "initial_id",
   "metadata": {
    "collapsed": true,
    "ExecuteTime": {
     "end_time": "2025-05-25T09:12:37.646448Z",
     "start_time": "2025-05-25T09:12:37.596251Z"
    }
   },
   "source": [
    "import numpy as np\n",
    "import matplotlib.pyplot as plt\n",
    "\n",
    "# K-Means Clustering 알고리즘 직접 구현\n",
    "class KMeansClustering:\n",
    "    def __init__(self, k, max_iters=100):\n",
    "        self.k = k\n",
    "        self.max_iters = max_iters\n",
    "\n",
    "    # 데이터와 초기 중심점을 정하는 함수\n",
    "    def initialize_centroids(self, X):\n",
    "        indices = np.random.choice(len(X), self.k, replace=False)\n",
    "        centroids = X[indices]\n",
    "        return centroids\n",
    "\n",
    "    # 각 데이터를 가장 가까운 중심점으로 할당하는 함수\n",
    "    def assign_clusters(self, X, centroids):\n",
    "        clusters = [[] for _ in range(self.k)]\n",
    "        for x in X:\n",
    "            distances = [np.linalg.norm(x - centroid) for centroid in centroids]\n",
    "            closest_index = np.argmin(distances)\n",
    "            clusters[closest_index].append(x)\n",
    "        return clusters\n",
    "\n",
    "    # 중심점 재계산 함수 (평균 좌표)\n",
    "    def calculate_centroids(self, clusters):\n",
    "        centroids = np.zeros((self.k, clusters[0][0].shape[0]))\n",
    "        for idx, cluster in enumerate(clusters):\n",
    "            centroids[idx] = np.mean(cluster, axis=0)\n",
    "        return centroids\n",
    "\n",
    "    # 전체 알고리즘 수행\n",
    "    def fit(self, X):\n",
    "        centroids = self.initialize_centroids(X)\n",
    "\n",
    "        for iteration in range(self.max_iters):\n",
    "            clusters = self.assign_clusters(X, centroids)\n",
    "            previous_centroids = centroids\n",
    "            centroids = self.calculate_centroids(clusters)\n",
    "\n",
    "            # 중심점이 변하지 않으면 종료\n",
    "            if np.allclose(centroids, previous_centroids):\n",
    "                print(f\"알고리즘 수렴 (iteration {iteration})\")\n",
    "                break\n",
    "\n",
    "        self.centroids = centroids\n",
    "        self.clusters = clusters\n",
    "\n",
    "    # 군집화 결과 반환 함수 (예측)\n",
    "    def predict(self, X):\n",
    "        labels = np.zeros(len(X), dtype=int)\n",
    "        for i, x in enumerate(X):\n",
    "            distances = [np.linalg.norm(x - centroid) for centroid in self.centroids]\n",
    "            labels[i] = np.argmin(distances)\n",
    "        return labels\n",
    "\n",
    "\n",
    "# — 예시 데이터 생성: 처음 보여준 5개 값 —\n",
    "# A:2, B:3, C:11, D:12, E:20\n",
    "X = np.array([[ 2.],\n",
    "              [ 3.],\n",
    "              [11.],\n",
    "              [12.],\n",
    "              [20.]])\n",
    "\n",
    "# K-Means 알고리즘 적용 (k=2)\n",
    "kmeans = KMeansClustering(k=2)\n",
    "kmeans.fit(X)\n",
    "\n",
    "# 군집 결과 예측\n",
    "labels = kmeans.predict(X)\n",
    "\n",
    "# 클러스터 구성 출력\n",
    "for idx, cluster in enumerate(kmeans.clusters):\n",
    "    members = [float(x) for x in cluster]\n",
    "    print(f\"Cluster {idx}: {members}\")\n",
    "\n",
    "# 1D 데이터 시각화 (y=0 고정)\n",
    "y_zero = np.zeros_like(X.flatten())\n",
    "plt.scatter(X.flatten(), y_zero, c=labels, cmap='cool', s=200, edgecolors='k', alpha=0.8)\n",
    "plt.scatter(kmeans.centroids.flatten(), np.zeros_like(kmeans.centroids.flatten()),\n",
    "            c='yellow', marker='X', s=300, edgecolors='k', label='Centroids')\n",
    "plt.yticks([])  # y축 생략\n",
    "plt.xlabel(\"Value\")\n",
    "plt.title(\"K-Means Clustering on 5 Points (k=2)\")\n",
    "plt.legend()\n",
    "plt.show()"
   ],
   "outputs": [
    {
     "name": "stdout",
     "output_type": "stream",
     "text": [
      "알고리즘 수렴 (iteration 2)\n",
      "Cluster 0: [2.0, 3.0]\n",
      "Cluster 1: [11.0, 12.0, 20.0]\n"
     ]
    },
    {
     "name": "stderr",
     "output_type": "stream",
     "text": [
      "/var/folders/8s/4g_l84wj1tjg71_xcwhr91yw0000gn/T/ipykernel_22398/3832738679.py:75: DeprecationWarning: Conversion of an array with ndim > 0 to a scalar is deprecated, and will error in future. Ensure you extract a single element from your array before performing this operation. (Deprecated NumPy 1.25.)\n",
      "  members = [float(x) for x in cluster]\n"
     ]
    },
    {
     "data": {
      "text/plain": [
       "<Figure size 640x480 with 1 Axes>"
      ],
      "image/png": "[encoded data removed]"
     },
     "metadata": {},
     "output_type": "display_data"
    }
   ],
   "execution_count": 2
  },
  {
   "metadata": {},
   "cell_type": "code",
   "outputs": [],
   "execution_count": null,
   "source": "",
   "id": "295b5c6f9c917e42"
  }
 ],
 "metadata": {
  "kernelspec": {
   "display_name": "Python 3",
   "language": "python",
   "name": "python3"
  },
  "language_info": {
   "codemirror_mode": {
    "name": "ipython",
    "version": 2
   },
   "file_extension": ".py",
   "mimetype": "text/x-python",
   "name": "python",
   "nbconvert_exporter": "python",
   "pygments_lexer": "ipython2",
   "version": "2.7.6"
  }
 },
 "nbformat": 4,
 "nbformat_minor": 5
}
