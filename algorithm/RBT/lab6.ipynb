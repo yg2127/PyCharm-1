{
 "cells": [
  {
   "cell_type": "code",
   "id": "initial_id",
   "metadata": {
    "collapsed": true,
    "ExecuteTime": {
     "end_time": "2024-11-05T06:09:33.595606Z",
     "start_time": "2024-11-05T06:09:33.591201Z"
    }
   },
   "source": [
    "class TreeNode:\n",
    "    def __init__(self, key, color, left=None, right=None, parent=None):\n",
    "        self.key = key\n",
    "        self.color = color # 'R' for red, 'B' for black\n",
    "        self.left = left\n",
    "        self.right = right\n",
    "        self.parent = parent\n",
    "# Function to print the tree for visualization\n",
    "def print_tree(root, level=0, prefix=\"Root: \"):\n",
    "    if root is not None:\n",
    "        print(\" \" * (level * 4) + prefix + str(root.key) + \"(\" + str(root.color) + \")\")\n",
    "        if root.left is not None or root.right is not None:\n",
    "            if root.left:\n",
    "                print_tree(root.left, level + 1, \"L--- \")\n",
    "            if root.right:\n",
    "                print_tree(root.right, level + 1, \"R--- \")"
   ],
   "outputs": [],
   "execution_count": 2
  },
  {
   "metadata": {
    "ExecuteTime": {
     "end_time": "2024-11-05T06:13:33.888667Z",
     "start_time": "2024-11-05T06:13:33.885407Z"
    }
   },
   "cell_type": "code",
   "source": [
    "root = TreeNode(10,'B')\n",
    "root.left = TreeNode(5, 'R', parent = root)\n",
    "root.right = TreeNode(15, 'R', parent = root)\n",
    "root.right.left = TreeNode(13,'B',parent=root.right)\n",
    "root.right.right = TreeNode(17,'B',parent = root.right)"
   ],
   "id": "27028e627e84977",
   "outputs": [],
   "execution_count": 23
  },
  {
   "metadata": {
    "ExecuteTime": {
     "end_time": "2024-11-05T06:12:10.284488Z",
     "start_time": "2024-11-05T06:12:10.281136Z"
    }
   },
   "cell_type": "code",
   "source": [
    "def Left_rotate(root,x):\n",
    "    y = x.right\n",
    "    x.right = y.left\n",
    "    if y.left:\n",
    "        y.left.parent = x\n",
    "    y.parent = x.parent\n",
    "    if not x.parent:\n",
    "        root = y\n",
    "    elif x == x.parent.left:\n",
    "        x.parent.left = y\n",
    "    else:\n",
    "        x.parent.right = y\n",
    "    y.left = x\n",
    "    x.parent = y\n",
    "    return root"
   ],
   "id": "6eaee33723cde703",
   "outputs": [],
   "execution_count": 15
  },
  {
   "metadata": {
    "ExecuteTime": {
     "end_time": "2024-11-05T06:09:33.642497Z",
     "start_time": "2024-11-05T06:09:33.639660Z"
    }
   },
   "cell_type": "code",
   "source": [
    "print_tree(root)\n",
    "root = Left_rotate(root,root.right)\n",
    "print_tree(root)"
   ],
   "id": "1c4dd70a3f31f7c7",
   "outputs": [
    {
     "name": "stdout",
     "output_type": "stream",
     "text": [
      "Root: 10(B)\n",
      "    L--- 5(R)\n",
      "    R--- 15(R)\n",
      "        L--- 13(B)\n",
      "        R--- 17(B)\n",
      "Root: 10(B)\n",
      "    L--- 5(R)\n",
      "    R--- 17(B)\n",
      "        L--- 15(R)\n",
      "            L--- 13(B)\n"
     ]
    }
   ],
   "execution_count": 5
  },
  {
   "metadata": {
    "ExecuteTime": {
     "end_time": "2024-11-05T06:09:33.659335Z",
     "start_time": "2024-11-05T06:09:33.656081Z"
    }
   },
   "cell_type": "code",
   "source": [
    "def right_rotate(root,x):\n",
    "    y = x.left\n",
    "    x.left = y.right\n",
    "    if y.right:\n",
    "        y.right.parent = x\n",
    "    y.parent = x.parent\n",
    "    if not x.parent:\n",
    "        root = y\n",
    "    elif x == x.parent.right:\n",
    "        x.parent.right = y\n",
    "    else:\n",
    "        x.parent.left = y\n",
    "    y.right = x\n",
    "    x.parent = y\n",
    "    return root"
   ],
   "id": "e5e6454645906438",
   "outputs": [],
   "execution_count": 6
  },
  {
   "metadata": {
    "ExecuteTime": {
     "end_time": "2024-11-05T06:14:19.013682Z",
     "start_time": "2024-11-05T06:14:19.010120Z"
    }
   },
   "cell_type": "code",
   "source": [
    "root = TreeNode(10,'B')\n",
    "root.left = TreeNode(5, 'R', parent = root)\n",
    "root.right = TreeNode(15, 'R', parent = root)\n",
    "root.right.left = TreeNode(13,'B',parent=root.right)\n",
    "root.right.right = TreeNode(17,'B',parent = root.right)"
   ],
   "id": "c9dd25f804c4c5ed",
   "outputs": [],
   "execution_count": 28
  },
  {
   "metadata": {
    "ExecuteTime": {
     "end_time": "2024-11-05T06:14:20.680870Z",
     "start_time": "2024-11-05T06:14:20.677773Z"
    }
   },
   "cell_type": "code",
   "source": [
    "print_tree(root)\n",
    "root = right_rotate(root,root)\n",
    "print_tree(root)\n",
    "root = right_rotate(root,root.right.right)\n",
    "print_tree(root)"
   ],
   "id": "32f1dd80887e7495",
   "outputs": [
    {
     "name": "stdout",
     "output_type": "stream",
     "text": [
      "Root: 10(B)\n",
      "    L--- 5(R)\n",
      "    R--- 15(R)\n",
      "        L--- 13(B)\n",
      "        R--- 17(B)\n",
      "Root: 5(R)\n",
      "    R--- 10(B)\n",
      "        R--- 15(R)\n",
      "            L--- 13(B)\n",
      "            R--- 17(B)\n",
      "Root: 5(R)\n",
      "    R--- 10(B)\n",
      "        R--- 13(B)\n",
      "            R--- 15(R)\n",
      "                R--- 17(B)\n"
     ]
    }
   ],
   "execution_count": 29
  },
  {
   "metadata": {
    "ExecuteTime": {
     "end_time": "2024-11-05T06:36:32.067562Z",
     "start_time": "2024-11-05T06:36:32.060052Z"
    }
   },
   "cell_type": "code",
   "source": [
    "def RB_insert(root,z):\n",
    "    x = root\n",
    "    y = None\n",
    "    while x != None:\n",
    "        y = x\n",
    "        if z.key < x.key:\n",
    "            x = x.left\n",
    "        else: x = x.right\n",
    "    x.parent = y\n",
    "    if y == None:\n",
    "        root = z\n",
    "    elif z.key < y.key:\n",
    "        y.left = z\n",
    "    else: y. right = z\n",
    "    z.left = None\n",
    "    z.right = None\n",
    "    z.color = 'R'\n",
    "    RB_insert_fixup(root,z)\n",
    "\n",
    "def RB_insert_fixup(root,z):\n",
    "    while z.parent.color == 'R':\n",
    "        if z.parent == z.parent.parent.left:\n",
    "            y = z.parent.parent.right\n",
    "            if y.color == 'R':\n",
    "                z.parent.color = 'B'\n",
    "                y.color = 'B'\n",
    "                z.parent.parent.color = 'R'\n",
    "                z = z.parent.parent\n",
    "            else:\n",
    "                if z == z.parent.right:\n",
    "                    z = z.parent\n",
    "                    Left_rotate(root,z)\n",
    "                z.parent.color = 'B'\n",
    "                z.parent.parent.color = 'R'\n",
    "                right_rotate(root,z.parent.parent)\n",
    "        else:\n",
    "            y = z.parent.parent.left\n",
    "            if y.color == 'R':\n",
    "                z.parent.color = 'B'\n",
    "                y.color = 'B'\n",
    "                z.parent.parent.color = 'R'\n",
    "                z = z.parent.parent\n",
    "            else:\n",
    "                if z == z.parent.left:\n",
    "                    z = z.parent\n",
    "                    Left_rotate(root,z)\n",
    "                z.parent.color = 'B'\n",
    "                z.parent.parent.color = 'R'\n",
    "                right_rotate(root,z.parent.parent)"
   ],
   "id": "11742927569e8c4a",
   "outputs": [],
   "execution_count": 36
  },
  {
   "metadata": {
    "ExecuteTime": {
     "end_time": "2024-11-05T06:36:35.282339Z",
     "start_time": "2024-11-05T06:36:35.279189Z"
    }
   },
   "cell_type": "code",
   "source": "root1 = TreeNode(None,'B')",
   "id": "df006302b822528d",
   "outputs": [],
   "execution_count": 37
  },
  {
   "metadata": {
    "ExecuteTime": {
     "end_time": "2024-11-05T06:36:36.425059Z",
     "start_time": "2024-11-05T06:36:36.402170Z"
    }
   },
   "cell_type": "code",
   "source": "RB_insert(root1,10)",
   "id": "a1223ba86ee91f4a",
   "outputs": [
    {
     "ename": "AttributeError",
     "evalue": "'int' object has no attribute 'key'",
     "output_type": "error",
     "traceback": [
      "\u001B[0;31m---------------------------------------------------------------------------\u001B[0m",
      "\u001B[0;31mAttributeError\u001B[0m                            Traceback (most recent call last)",
      "Cell \u001B[0;32mIn[38], line 1\u001B[0m\n\u001B[0;32m----> 1\u001B[0m \u001B[43mRB_insert\u001B[49m\u001B[43m(\u001B[49m\u001B[43mroot1\u001B[49m\u001B[43m,\u001B[49m\u001B[38;5;241;43m10\u001B[39;49m\u001B[43m)\u001B[49m\n",
      "Cell \u001B[0;32mIn[36], line 6\u001B[0m, in \u001B[0;36mRB_insert\u001B[0;34m(root, z)\u001B[0m\n\u001B[1;32m      4\u001B[0m \u001B[38;5;28;01mwhile\u001B[39;00m x \u001B[38;5;241m!=\u001B[39m \u001B[38;5;28;01mNone\u001B[39;00m:\n\u001B[1;32m      5\u001B[0m     y \u001B[38;5;241m=\u001B[39m x\n\u001B[0;32m----> 6\u001B[0m     \u001B[38;5;28;01mif\u001B[39;00m \u001B[43mz\u001B[49m\u001B[38;5;241;43m.\u001B[39;49m\u001B[43mkey\u001B[49m \u001B[38;5;241m<\u001B[39m x\u001B[38;5;241m.\u001B[39mkey:\n\u001B[1;32m      7\u001B[0m         x \u001B[38;5;241m=\u001B[39m x\u001B[38;5;241m.\u001B[39mleft\n\u001B[1;32m      8\u001B[0m     \u001B[38;5;28;01melse\u001B[39;00m: x \u001B[38;5;241m=\u001B[39m x\u001B[38;5;241m.\u001B[39mright\n",
      "\u001B[0;31mAttributeError\u001B[0m: 'int' object has no attribute 'key'"
     ]
    }
   ],
   "execution_count": 38
  },
  {
   "metadata": {},
   "cell_type": "code",
   "outputs": [],
   "execution_count": null,
   "source": "",
   "id": "70f6d248314455ba"
  }
 ],
 "metadata": {
  "kernelspec": {
   "display_name": "Python 3",
   "language": "python",
   "name": "python3"
  },
  "language_info": {
   "codemirror_mode": {
    "name": "ipython",
    "version": 2
   },
   "file_extension": ".py",
   "mimetype": "text/x-python",
   "name": "python",
   "nbconvert_exporter": "python",
   "pygments_lexer": "ipython2",
   "version": "2.7.6"
  }
 },
 "nbformat": 4,
 "nbformat_minor": 5
}
