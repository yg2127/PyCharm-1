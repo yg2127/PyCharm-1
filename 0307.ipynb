{
 "cells": [
  {
   "metadata": {
    "ExecuteTime": {
     "end_time": "2025-03-07T02:00:30.927259Z",
     "start_time": "2025-03-07T02:00:30.922852Z"
    }
   },
   "cell_type": "code",
   "source": [
    "truth_values = [True, False]\n",
    "\n",
    "for p in truth_values:\n",
    "    for q in truth_values:\n",
    "        not_p_or_q = not(p or q)\n",
    "        not_p_and_q = not(p and q)\n",
    "        xor_result = not_p_or_q != not_p_and_q\n",
    "\n",
    "        print(f\"{p} {q} {not_p_or_q} {not_p_and_q} {xor_result}\")"
   ],
   "id": "a3a2fd962f478545",
   "outputs": [
    {
     "name": "stdout",
     "output_type": "stream",
     "text": [
      "True True False False False\n",
      "True False False True True\n",
      "False True False True True\n",
      "False False True True False\n"
     ]
    }
   ],
   "execution_count": 9
  },
  {
   "metadata": {
    "ExecuteTime": {
     "end_time": "2025-03-07T02:01:27.343386Z",
     "start_time": "2025-03-07T02:01:27.339438Z"
    }
   },
   "cell_type": "code",
   "source": [
    "print(\"  p    q  p -> q\")\n",
    "for p in truth_values:\n",
    "    for q in truth_values:\n",
    "# 논리 연산 p → q\n",
    "        p_implies_q = not p or q\n",
    "# 결과 출력\n",
    "        print(f\"{p} {q} {p_implies_q}\")"
   ],
   "id": "619ef8d08ed5a038",
   "outputs": [
    {
     "name": "stdout",
     "output_type": "stream",
     "text": [
      "  p    q  p -> q\n",
      "True True True\n",
      "True False False\n",
      "False True True\n",
      "False False True\n"
     ]
    }
   ],
   "execution_count": 16
  },
  {
   "metadata": {},
   "cell_type": "code",
   "outputs": [],
   "execution_count": null,
   "source": "",
   "id": "56d230e8a79b3c2a"
  }
 ],
 "metadata": {
  "kernelspec": {
   "display_name": "Python 3",
   "language": "python",
   "name": "python3"
  },
  "language_info": {
   "codemirror_mode": {
    "name": "ipython",
    "version": 2
   },
   "file_extension": ".py",
   "mimetype": "text/x-python",
   "name": "python",
   "nbconvert_exporter": "python",
   "pygments_lexer": "ipython2",
   "version": "2.7.6"
  }
 },
 "nbformat": 4,
 "nbformat_minor": 5
}
