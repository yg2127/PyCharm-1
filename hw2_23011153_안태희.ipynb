{
 "cells": [
  {
   "cell_type": "code",
   "id": "initial_id",
   "metadata": {
    "collapsed": true,
    "ExecuteTime": {
     "end_time": "2025-04-04T13:42:30.612362Z",
     "start_time": "2025-04-04T13:42:30.607895Z"
    }
   },
   "source": [
    "import numpy as np\n",
    "\n",
    "np.random.seed(0)\n",
    "matrix = np.random.randint(1, 11, size=(3, 4))\n",
    "print(matrix)\n",
    "\n",
    "mean = np.mean(matrix, axis=0)\n",
    "standard = np.std(matrix, axis=0)\n",
    "print(mean)\n",
    "print(standard)\n",
    "\n",
    "threshold = mean - standard\n",
    "count = np.sum(matrix > threshold, axis=0)\n",
    "print(count)"
   ],
   "outputs": [
    {
     "name": "stdout",
     "output_type": "stream",
     "text": [
      "[[ 6  1  4  4]\n",
      " [ 8 10  4  6]\n",
      " [ 3  5  8  7]]\n",
      "[5.66666667 5.33333333 5.33333333 5.66666667]\n",
      "[2.05480467 3.68178701 1.88561808 1.24721913]\n",
      "[2 2 3 2]\n"
     ]
    }
   ],
   "execution_count": 15
  },
  {
   "metadata": {
    "ExecuteTime": {
     "end_time": "2025-04-04T13:42:30.626409Z",
     "start_time": "2025-04-04T13:42:30.620782Z"
    }
   },
   "cell_type": "code",
   "source": [
    "import pandas as pd\n",
    "\n",
    "data = {\n",
    "    \"이름\": [\"이여섯\", \"최아홉\"],\n",
    "    \"기말\": [38, 33]\n",
    "}\n",
    "df1 = pd.DataFrame(data)\n",
    "print(df1)\n",
    "data2 = {\n",
    "    \"이름\": [\"김넷\", \"김다섯\", \"이하나\", \"이둘\", \"이셋\", \"이넷\"],\n",
    "    \"출석\": [7, 6, 5, 8, 4, 10],\n",
    "    \"과제\": [93.0, 84.0, 79.0, 98.0, 79.0, 89.0]\n",
    "}\n",
    "df2 = pd.DataFrame(data2)\n",
    "print(df2)"
   ],
   "id": "447e9e26f499e5e8",
   "outputs": [
    {
     "name": "stdout",
     "output_type": "stream",
     "text": [
      "    이름  기말\n",
      "0  이여섯  38\n",
      "1  최아홉  33\n",
      "    이름  출석    과제\n",
      "0   김넷   7  93.0\n",
      "1  김다섯   6  84.0\n",
      "2  이하나   5  79.0\n",
      "3   이둘   8  98.0\n",
      "4   이셋   4  79.0\n",
      "5   이넷  10  89.0\n"
     ]
    }
   ],
   "execution_count": 16
  },
  {
   "metadata": {
    "ExecuteTime": {
     "end_time": "2025-04-04T13:42:30.650920Z",
     "start_time": "2025-04-04T13:42:30.645355Z"
    }
   },
   "cell_type": "code",
   "source": [
    "df = pd.read_csv(\"pandas_data2.txt\", encoding=\"euc-kr\", sep=\"\\s+\", index_col=0)\n",
    "\n",
    "mean1 = df[df[\"proj\"] >= 90][\"mid\"].mean()\n",
    "print(mean1)\n",
    "\n",
    "mean2 = df[\"final\"].mean()\n",
    "\n",
    "df[\"final_HML\"] = \"M\"\n",
    "df.loc[df[\"final\"] > mean2 + 3, \"final_HML\"] = \"H\"\n",
    "df.loc[df[\"final\"] < mean2 - 3, \"final_HML\"] = \"L\"\n",
    "\n",
    "print(df[[\"final\", \"final_HML\"]])"
   ],
   "id": "8b6cfcf8da195bdb",
   "outputs": [
    {
     "name": "stdout",
     "output_type": "stream",
     "text": [
      "21.25\n",
      "        final final_HML\n",
      "name                   \n",
      "kim2       36         M\n",
      "kim3       20         L\n",
      "kim6       20         L\n",
      "kim7       44         H\n",
      "kim8       24         L\n",
      "kim9       45         H\n",
      "kim10      47         H\n",
      "lee5       35         M\n",
      "lee9       36         M\n",
      "lee10      41         H\n",
      "park1      25         L\n",
      "park2      31         M\n",
      "park6      37         H\n",
      "kim1       18         L\n",
      "park10     20         L\n",
      "choi1      39         H\n",
      "choi2      29         L\n",
      "choi3      39         H\n",
      "lee6       38         H\n",
      "lee7       32         M\n",
      "lee8       47         H\n",
      "choi8      48         H\n",
      "choi9      33         M\n",
      "choi10     50         H\n",
      "kim4       28         L\n",
      "kim5       18         L\n",
      "lee1       17         L\n",
      "lee2       42         H\n",
      "lee3       50         H\n",
      "lee4       21         L\n"
     ]
    }
   ],
   "execution_count": 17
  },
  {
   "metadata": {
    "ExecuteTime": {
     "end_time": "2025-04-04T13:42:30.687530Z",
     "start_time": "2025-04-04T13:42:30.657428Z"
    }
   },
   "cell_type": "code",
   "source": [
    "import numpy as np\n",
    "import matplotlib.pyplot as plt\n",
    "\n",
    "X = np.random.choice(range(5), size=3, replace=False)\n",
    "Y = np.random.choice(range(5), size=3, replace=False)\n",
    "\n",
    "plt.figure()\n",
    "\n",
    "for x, y in zip(X, Y):\n",
    "    if (x + y) % 2 == 0:\n",
    "        plt.plot(x, y, 'ro')\n",
    "    else:\n",
    "        plt.plot(x, y, 'b+')\n",
    "\n",
    "plt.grid(True)\n",
    "plt.xlim(0, 5)\n",
    "plt.ylim(0, 5)\n",
    "plt.show()"
   ],
   "id": "a3e392a281dce35d",
   "outputs": [
    {
     "data": {
      "text/plain": [
       "<Figure size 640x480 with 1 Axes>"
      ],
      "image/png": "[encoded data removed]"
     },
     "metadata": {},
     "output_type": "display_data"
    }
   ],
   "execution_count": 18
  },
  {
   "metadata": {
    "ExecuteTime": {
     "end_time": "2025-04-04T13:42:30.697929Z",
     "start_time": "2025-04-04T13:42:30.696279Z"
    }
   },
   "cell_type": "code",
   "source": "",
   "id": "f3a77b29fe53b485",
   "outputs": [],
   "execution_count": null
  }
 ],
 "metadata": {
  "kernelspec": {
   "display_name": "Python (conda-ygenvironment)",
   "language": "python",
   "name": "ygenvironment"
  },
  "language_info": {
   "codemirror_mode": {
    "name": "ipython",
    "version": 2
   },
   "file_extension": ".py",
   "mimetype": "text/x-python",
   "name": "python",
   "nbconvert_exporter": "python",
   "pygments_lexer": "ipython2",
   "version": "2.7.6"
  }
 },
 "nbformat": 4,
 "nbformat_minor": 5
}
