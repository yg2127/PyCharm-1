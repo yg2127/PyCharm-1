{
 "cells": [
  {
   "metadata": {
    "ExecuteTime": {
     "end_time": "2024-09-05T06:13:54.793008Z",
     "start_time": "2024-09-05T06:13:54.789562Z"
    }
   },
   "cell_type": "code",
   "source": [
    "given_range = 10\n",
    "for i in range(given_range):\n",
    "    if i % 2 == 0:\n",
    "        print(i)"
   ],
   "id": "32839acc027bbc54",
   "outputs": [
    {
     "name": "stdout",
     "output_type": "stream",
     "text": [
      "0\n",
      "2\n",
      "4\n",
      "6\n",
      "8\n"
     ]
    }
   ],
   "execution_count": 14
  },
  {
   "metadata": {
    "ExecuteTime": {
     "end_time": "2024-09-05T06:16:11.967207Z",
     "start_time": "2024-09-05T06:16:11.963147Z"
    }
   },
   "cell_type": "code",
   "source": [
    "given_number = 124975\n",
    "c = 0\n",
    "while given_number > 0:\n",
    "    given_number //= 10\n",
    "    c+=1\n",
    "print(c)"
   ],
   "id": "8889d046e684323c",
   "outputs": [
    {
     "name": "stdout",
     "output_type": "stream",
     "text": [
      "6\n"
     ]
    }
   ],
   "execution_count": 24
  },
  {
   "metadata": {},
   "cell_type": "code",
   "outputs": [],
   "execution_count": null,
   "source": [
    "given_number1 = 124975\n",
    "given_number1 = str(given_number)\n",
    "count = 0\n",
    "#뭐였지 하\n",
    "for i in range(given_number1):\n",
    "    "
   ],
   "id": "d958728ef8de9b4"
  },
  {
   "metadata": {
    "ExecuteTime": {
     "end_time": "2024-09-09T01:56:24.025879Z",
     "start_time": "2024-09-09T01:56:24.021255Z"
    }
   },
   "cell_type": "code",
   "source": [
    "given_number2 = '124975'\n",
    "print(len(given_number2))"
   ],
   "id": "29353ba5079b4562",
   "outputs": [
    {
     "name": "stdout",
     "output_type": "stream",
     "text": [
      "6\n"
     ]
    }
   ],
   "execution_count": 3
  },
  {
   "metadata": {
    "ExecuteTime": {
     "end_time": "2024-09-05T06:30:17.076823Z",
     "start_time": "2024-09-05T06:30:13.393734Z"
    }
   },
   "cell_type": "code",
   "source": [
    "\"\"\"\n",
    "사용자에게 단어 입력받고 그 단어를 역순으로 출력\n",
    "\"\"\"\n",
    "given_string = input()\n",
    "for i in range(len(given_string)):\n",
    "    print(given_string[-1-i], end = '')"
   ],
   "id": "92a4343aa8079cd0",
   "outputs": [
    {
     "name": "stdout",
     "output_type": "stream",
     "text": [
      "olleh"
     ]
    }
   ],
   "execution_count": 53
  },
  {
   "metadata": {
    "ExecuteTime": {
     "end_time": "2024-09-05T06:27:07.125666Z",
     "start_time": "2024-09-05T06:27:03.135783Z"
    }
   },
   "cell_type": "code",
   "source": [
    "given_string = input()\n",
    "reverse_string = \"\"\n",
    "\n",
    "for i in given_string:\n",
    "    reverse_string = i + reverse_string\n",
    "print(reverse_string)"
   ],
   "id": "6d7282a7ef22c057",
   "outputs": [
    {
     "name": "stdout",
     "output_type": "stream",
     "text": [
      "olleh\n"
     ]
    }
   ],
   "execution_count": 31
  },
  {
   "metadata": {
    "ExecuteTime": {
     "end_time": "2024-09-05T06:29:06.807682Z",
     "start_time": "2024-09-05T06:29:06.804149Z"
    }
   },
   "cell_type": "code",
   "source": [
    "for i in range(5,0,-1):\n",
    "    for j in range(i):\n",
    "        print(i,end = '')\n",
    "    print()"
   ],
   "id": "c19fb7c047c518e",
   "outputs": [
    {
     "name": "stdout",
     "output_type": "stream",
     "text": [
      "55555\n",
      "4444\n",
      "333\n",
      "22\n",
      "1\n"
     ]
    }
   ],
   "execution_count": 51
  }
 ],
 "metadata": {
  "kernelspec": {
   "display_name": "Python 3",
   "language": "python",
   "name": "python3"
  },
  "language_info": {
   "codemirror_mode": {
    "name": "ipython",
    "version": 2
   },
   "file_extension": ".py",
   "mimetype": "text/x-python",
   "name": "python",
   "nbconvert_exporter": "python",
   "pygments_lexer": "ipython2",
   "version": "2.7.6"
  }
 },
 "nbformat": 4,
 "nbformat_minor": 5
}
