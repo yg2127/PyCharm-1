{
 "cells": [
  {
   "cell_type": "code",
   "id": "initial_id",
   "metadata": {
    "collapsed": true,
    "ExecuteTime": {
     "end_time": "2024-10-23T15:20:32.692019Z",
     "start_time": "2024-10-23T15:20:32.687153Z"
    }
   },
   "source": [
    "class TreeNode:\n",
    "    def __init__(self, value):\n",
    "        self.key = value\n",
    "        self.left = None\n",
    "        self.right = None\n",
    "        self.parent = None\n",
    "\n",
    "root = TreeNode(5)\n",
    "root.left = TreeNode(3)\n",
    "root.right = TreeNode(8)\n",
    "root.left.left = TreeNode(2)\n",
    "root.left.right = TreeNode(4)\n",
    "root.right.left = TreeNode(7)\n",
    "root.right.right= TreeNode(9)\n",
    "\n",
    "root.left.parent = root\n",
    "root.right.parent = root\n",
    "root.left.left.parent = root.left\n",
    "root.left.right.parent = root.left\n",
    "root.right.left.parent = root.right\n",
    "root.right.right.parent = root.right"
   ],
   "outputs": [],
   "execution_count": 15
  },
  {
   "metadata": {
    "ExecuteTime": {
     "end_time": "2024-10-23T15:20:32.699494Z",
     "start_time": "2024-10-23T15:20:32.697139Z"
    }
   },
   "cell_type": "code",
   "source": [
    "def inorder_tree_walk(root):\n",
    "    if root is not None:\n",
    "        inorder_tree_walk(root.left)\n",
    "        print(root.key)\n",
    "        inorder_tree_walk(root.right)"
   ],
   "id": "1d208125bc61751c",
   "outputs": [],
   "execution_count": 16
  },
  {
   "metadata": {
    "ExecuteTime": {
     "end_time": "2024-10-23T15:20:32.710278Z",
     "start_time": "2024-10-23T15:20:32.708089Z"
    }
   },
   "cell_type": "code",
   "source": [
    "inorder_tree_walk(root)\n",
    "#중간고사 시험배점의 총점은 35점 그러나 30점 만점\n",
    "#34점 맞아도 30점 나옴 근데 28점 나오면 28점 받음"
   ],
   "id": "bc6099cb6f3864ab",
   "outputs": [
    {
     "name": "stdout",
     "output_type": "stream",
     "text": [
      "2\n",
      "3\n",
      "4\n",
      "5\n",
      "7\n",
      "8\n",
      "9\n"
     ]
    }
   ],
   "execution_count": 17
  },
  {
   "metadata": {
    "ExecuteTime": {
     "end_time": "2024-10-23T15:20:32.724647Z",
     "start_time": "2024-10-23T15:20:32.722113Z"
    }
   },
   "cell_type": "code",
   "source": [
    "def Tree_Search(x, k): #x = 현재 트리의 노드, k = 찾고자 하는 값\n",
    "    if x is None or k is x.key:\n",
    "        return root\n",
    "    if k < x.key:\n",
    "        return Tree_Search(x.left,k)\n",
    "    else:\n",
    "        return Tree_Search(x.right, k)\n",
    "        "
   ],
   "id": "2f5399404a5d04b9",
   "outputs": [],
   "execution_count": 18
  },
  {
   "metadata": {
    "ExecuteTime": {
     "end_time": "2024-10-23T15:20:32.734998Z",
     "start_time": "2024-10-23T15:20:32.732525Z"
    }
   },
   "cell_type": "code",
   "source": "print(Tree_Search(root, 3).key)",
   "id": "d4a43afce04c3bef",
   "outputs": [
    {
     "name": "stdout",
     "output_type": "stream",
     "text": [
      "5\n"
     ]
    }
   ],
   "execution_count": 19
  },
  {
   "metadata": {
    "ExecuteTime": {
     "end_time": "2024-10-23T15:20:32.746399Z",
     "start_time": "2024-10-23T15:20:32.744360Z"
    }
   },
   "cell_type": "code",
   "source": [
    "def Iterative_Tree_Search(x, k):\n",
    "    while(x is not None or k is not x.key):\n",
    "        if k < x.key:\n",
    "            x = x.left\n",
    "        else:\n",
    "            x = x.right\n",
    "    return x"
   ],
   "id": "b6ef08d2251c4fcd",
   "outputs": [],
   "execution_count": 20
  },
  {
   "metadata": {
    "ExecuteTime": {
     "end_time": "2024-10-23T15:20:32.756709Z",
     "start_time": "2024-10-23T15:20:32.754878Z"
    }
   },
   "cell_type": "code",
   "source": [
    "def Tree_Minimum(x):\n",
    "    while x.left != None:\n",
    "        x = x.left\n",
    "    return x #x의 노드값을 반환(인덱스값이라고 생각하면 된다.) "
   ],
   "id": "b974f4c213350799",
   "outputs": [],
   "execution_count": 21
  },
  {
   "metadata": {
    "ExecuteTime": {
     "end_time": "2024-10-23T15:20:32.763200Z",
     "start_time": "2024-10-23T15:20:32.761646Z"
    }
   },
   "cell_type": "code",
   "source": [
    "def Tree_Maximum(x):\n",
    "    while x.right != None:\n",
    "        x = x.right\n",
    "    return x #x의 노드값 출력"
   ],
   "id": "21eb1f9797b31e41",
   "outputs": [],
   "execution_count": 22
  },
  {
   "metadata": {
    "ExecuteTime": {
     "end_time": "2024-10-23T15:20:32.769951Z",
     "start_time": "2024-10-23T15:20:32.767910Z"
    }
   },
   "cell_type": "code",
   "source": [
    "print(Tree_Maximum(root).key)\n",
    "print(Tree_Minimum(root).key)"
   ],
   "id": "ad3fa5e7613a6378",
   "outputs": [
    {
     "name": "stdout",
     "output_type": "stream",
     "text": [
      "9\n",
      "2\n"
     ]
    }
   ],
   "execution_count": 23
  },
  {
   "metadata": {
    "ExecuteTime": {
     "end_time": "2024-10-23T15:20:32.780655Z",
     "start_time": "2024-10-23T15:20:32.778488Z"
    }
   },
   "cell_type": "code",
   "source": [
    "def Tree_successor(x):\n",
    "    if x.right is not None:\n",
    "        return Tree_Minimum(x.right)\n",
    "    else:\n",
    "        y = x.parent\n",
    "        while y is not None and x is y.right:\n",
    "            x = y\n",
    "            y = y.parent\n",
    "        return y"
   ],
   "id": "38b543e47fc4df84",
   "outputs": [],
   "execution_count": 24
  },
  {
   "metadata": {
    "ExecuteTime": {
     "end_time": "2024-10-23T15:20:32.791360Z",
     "start_time": "2024-10-23T15:20:32.789271Z"
    }
   },
   "cell_type": "code",
   "source": [
    "def Tree_Predecessor(x):\n",
    "    if x.left is not None:\n",
    "        return Tree_Maximum(x.left)\n",
    "    else:\n",
    "        y = x.parent\n",
    "        while y is not None and x is y.left:\n",
    "            x = y\n",
    "            y = y.parent\n",
    "        return y"
   ],
   "id": "ef5eb83b003098f5",
   "outputs": [],
   "execution_count": 25
  },
  {
   "metadata": {
    "ExecuteTime": {
     "end_time": "2024-10-23T15:20:32.797533Z",
     "start_time": "2024-10-23T15:20:32.795992Z"
    }
   },
   "cell_type": "code",
   "source": [
    "print(Tree_successor(root).key)\n",
    "print(Tree_Predecessor(root).key)"
   ],
   "id": "521a4e456c13e835",
   "outputs": [
    {
     "name": "stdout",
     "output_type": "stream",
     "text": [
      "7\n",
      "4\n"
     ]
    }
   ],
   "execution_count": 26
  },
  {
   "metadata": {
    "ExecuteTime": {
     "end_time": "2024-10-23T15:20:32.806242Z",
     "start_time": "2024-10-23T15:20:32.803913Z"
    }
   },
   "cell_type": "code",
   "source": [
    "def Tree_insert(T,z):\n",
    "    new_node = TreeNode(value)\n",
    "    x = root\n",
    "    y = None\n",
    "    while x is not None:\n",
    "        y = x\n",
    "        if value"
   ],
   "id": "b7d1336aff42f888",
   "outputs": [
    {
     "ename": "SyntaxError",
     "evalue": "invalid syntax (4198903201.py, line 7)",
     "output_type": "error",
     "traceback": [
      "\u001B[0;36m  Cell \u001B[0;32mIn[27], line 7\u001B[0;36m\u001B[0m\n\u001B[0;31m    if value\u001B[0m\n\u001B[0m            ^\u001B[0m\n\u001B[0;31mSyntaxError\u001B[0m\u001B[0;31m:\u001B[0m invalid syntax\n"
     ]
    }
   ],
   "execution_count": 27
  },
  {
   "metadata": {},
   "cell_type": "code",
   "outputs": [],
   "execution_count": null,
   "source": "",
   "id": "fd30f5be1479061b"
  }
 ],
 "metadata": {
  "kernelspec": {
   "display_name": "Python 3",
   "language": "python",
   "name": "python3"
  },
  "language_info": {
   "codemirror_mode": {
    "name": "ipython",
    "version": 2
   },
   "file_extension": ".py",
   "mimetype": "text/x-python",
   "name": "python",
   "nbconvert_exporter": "python",
   "pygments_lexer": "ipython2",
   "version": "2.7.6"
  }
 },
 "nbformat": 4,
 "nbformat_minor": 5
}
