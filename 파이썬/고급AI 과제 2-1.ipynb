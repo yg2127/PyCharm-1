{
 "cells": [
  {
   "cell_type": "code",
   "id": "initial_id",
   "metadata": {
    "collapsed": true,
    "ExecuteTime": {
     "end_time": "2024-10-12T14:46:18.957913Z",
     "start_time": "2024-10-12T14:46:18.952345Z"
    }
   },
   "source": [
    "#1번 문제\n",
    "\n",
    "import numpy as np\n",
    "\n",
    "arr = np.random.randint(1,11, size = (3,4))\n",
    "\n",
    "mean_0 = np.mean(arr, axis = 0)\n",
    "std_0 = np.std(arr, axis = 0)\n",
    "count = np.sum(arr > (mean_0 - std_0), axis=0)\n",
    "print(arr,\"\\n\", mean_0,\"\\n\", std_0,\"\\n\",count)"
   ],
   "outputs": [
    {
     "name": "stdout",
     "output_type": "stream",
     "text": [
      "[[10  2  1  7]\n",
      " [ 3  6  6  6]\n",
      " [ 8  4 10  3]] \n",
      " [7.         4.         5.66666667 5.33333333] \n",
      " [2.94392029 1.63299316 3.68178701 1.69967317] \n",
      " [2 2 2 2]\n"
     ]
    }
   ],
   "execution_count": 5
  },
  {
   "metadata": {
    "ExecuteTime": {
     "end_time": "2024-10-12T15:08:52.014449Z",
     "start_time": "2024-10-12T15:08:52.005322Z"
    }
   },
   "cell_type": "code",
   "source": [
    "#2번문제\n",
    "\n",
    "import pandas as pd\n",
    "\n",
    "pd1 = pd.read_csv(\"pandas_data1.txt\", sep ='\\t', encoding='cp949')\n",
    "score = pd1[pd1['이름'].isin(['이여섯', '최아홉'])][['이름', '기말']]\n",
    "print(score)\n",
    "print()\n",
    "six = pd1[['이름', '출석', '과제']].tail(6)\n",
    "print(six)"
   ],
   "id": "71e5d9711997ce13",
   "outputs": [
    {
     "name": "stdout",
     "output_type": "stream",
     "text": [
      "     이름  기말\n",
      "18  이여섯  38\n",
      "22  최아홉  33\n",
      "\n",
      "     이름  출석  과제\n",
      "24   김넷   7  93\n",
      "25  김다섯   6  84\n",
      "26  이하나   5  79\n",
      "27   이둘   8  98\n",
      "28   이셋   4  79\n",
      "29   이넷  10  89\n"
     ]
    }
   ],
   "execution_count": 9
  },
  {
   "metadata": {
    "ExecuteTime": {
     "end_time": "2024-10-12T15:24:51.950338Z",
     "start_time": "2024-10-12T15:24:51.940854Z"
    }
   },
   "cell_type": "code",
   "source": [
    "#3번문제\n",
    "\n",
    "pd2 = pd.read_csv(\"pandas_data2.txt\", sep ='\\t', encoding='cp949')\n",
    "score_a = pd2[pd2['proj'] >= 90]\n",
    "score_a_mean = score_a['mid'].mean()\n",
    "print(score_a_mean)\n",
    "final = pd2['final'].mean()\n",
    "pd2['final_HML'] = pd2['final'].apply(lambda x: 'H' if x > final + 3 else ('L' if x < final - 3 else 'M'))\n",
    "print(pd2)"
   ],
   "id": "7f5f45a885623bf5",
   "outputs": [
    {
     "name": "stdout",
     "output_type": "stream",
     "text": [
      "21.25\n",
      "      name gender  year  mid  final  att  proj final_HML\n",
      "0     kim2      F     1   12     36    5    75         M\n",
      "1     kim3      M     2   17     20    5    96         L\n",
      "2     kim6      M     2   28     20    4    83         L\n",
      "3     kim7      M     2   20     44    6    82         H\n",
      "4     kim8      F     1   20     24    8    88         L\n",
      "5     kim9      M     3   23     45   10    92         H\n",
      "6    kim10      M     3   16     47    5    83         H\n",
      "7     lee5      M     3   21     35    5    92         M\n",
      "8     lee9      M     3   20     36    5    87         M\n",
      "9    lee10      F     4   28     41    9    87         H\n",
      "10   park1      M     4   30     25    7    86         L\n",
      "11   park2      M     4   20     31    7    76         M\n",
      "12   park6      F     1   24     37    7    91         H\n",
      "13    kim1      F     2   19     18    8    88         L\n",
      "14  park10      M     3   23     20    6    80         L\n",
      "15   choi1      F     1   29     39    5    83         H\n",
      "16   choi2      M     1   18     29    5    86         L\n",
      "17   choi3      M     2   29     39    7    84         H\n",
      "18    lee6      F     3   22     38    7    78         H\n",
      "19    lee7      M     3   24     32    8    87         M\n",
      "20    lee8      F     4   17     47    5    70         H\n",
      "21   choi8      M     4   13     48    8    89         H\n",
      "22   choi9      M     1   21     33    3   100         M\n",
      "23  choi10      F     2   16     50   10   100         H\n",
      "24    kim4      M     1   18     28    7    93         L\n",
      "25    kim5      M     2   24     18    6    84         L\n",
      "26    lee1      M     3   29     17    5    79         L\n",
      "27    lee2      M     4   30     42    8    98         H\n",
      "28    lee3      M     4   22     50    4    79         H\n",
      "29    lee4      F     4   24     21   10    89         L\n"
     ]
    }
   ],
   "execution_count": 12
  },
  {
   "metadata": {
    "ExecuteTime": {
     "end_time": "2024-10-12T15:51:59.739189Z",
     "start_time": "2024-10-12T15:51:59.594223Z"
    }
   },
   "cell_type": "code",
   "source": [
    "#4번문제\n",
    "\n",
    "import matplotlib.pyplot as plt\n",
    "\n",
    "X = np.random.choice([0, 1, 2, 3, 4], 3, replace=False)\n",
    "Y = np.random.choice([0, 1, 2, 3, 4], 3, replace=False)\n",
    "\n",
    "for x, y in zip(X, Y):\n",
    "    if (x + y) % 2 == 0:\n",
    "        plt.scatter(x, y, color='red', marker='o')\n",
    "    else:\n",
    "        plt.scatter(x, y, color='blue', marker='+')\n",
    "\n",
    "plt.xlabel('X')\n",
    "plt.ylabel('Y')\n",
    "plt.title('Scatter Plot based on X and Y sum')\n",
    "plt.grid(True)\n",
    "plt.show()"
   ],
   "id": "4b8877144ec1cfc3",
   "outputs": [
    {
     "data": {
      "text/plain": [
       "<Figure size 640x480 with 1 Axes>"
      ],
      "image/png": "[encoded data removed]"
     },
     "metadata": {},
     "output_type": "display_data"
    }
   ],
   "execution_count": 15
  },
  {
   "metadata": {},
   "cell_type": "code",
   "outputs": [],
   "execution_count": null,
   "source": "",
   "id": "353dbebb8ceb176"
  }
 ],
 "metadata": {
  "kernelspec": {
   "display_name": "Python 3",
   "language": "python",
   "name": "python3"
  },
  "language_info": {
   "codemirror_mode": {
    "name": "ipython",
    "version": 2
   },
   "file_extension": ".py",
   "mimetype": "text/x-python",
   "name": "python",
   "nbconvert_exporter": "python",
   "pygments_lexer": "ipython2",
   "version": "2.7.6"
  }
 },
 "nbformat": 4,
 "nbformat_minor": 5
}
