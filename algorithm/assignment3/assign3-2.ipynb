{
 "cells": [
  {
   "cell_type": "code",
   "id": "initial_id",
   "metadata": {
    "collapsed": true,
    "ExecuteTime": {
     "end_time": "2024-11-25T12:10:12.408476Z",
     "start_time": "2024-11-25T12:10:12.401835Z"
    }
   },
   "source": [
    "class HashTable:\n",
    "    def __init__(self, size):\n",
    "        self.size = size\n",
    "        self.table = [None] * size\n",
    "\n",
    "    def hash_function(self, key):\n",
    "        return key % self.size\n",
    "\n",
    "    # because our inserted elements are 'string' names, \n",
    "    # we need a key to compute the correct location to be inserted using the Hash-Function.\n",
    "    def insert(self, key, value):\n",
    "        index = self.hash_function(key)\n",
    "        if self.table[index] is None:\n",
    "            self.table[index] = [(key, value)]\n",
    "        else:\n",
    "            for i, (k, v) in enumerate(self.table[index]):\n",
    "                if k == key:  # if key already exists (another name has the same key), we have to replace it\n",
    "                    self.table[index][i] = (key, value)\n",
    "                    return\n",
    "            self.table[index].append((key, value))\n",
    "\n",
    "    def search(self, key):\n",
    "        index = self.hash_function(key)\n",
    "        if self.table[index] is not None:\n",
    "            for k, v in self.table[index]:\n",
    "                if k == key:\n",
    "                    return v\n",
    "        return None\n",
    "\n",
    "    def delete(self, key):\n",
    "        index = self.hash_function(key)\n",
    "        if self.table[index] is not None:\n",
    "            for i, (k, v) in enumerate(self.table[index]):\n",
    "                if k == key:\n",
    "                    del self.table[index][i]\n",
    "                    return\n",
    "        print(\"key is not found!\")\n",
    "\n",
    "\n",
    "    def display(self):\n",
    "        for index, items in enumerate(self.table):\n",
    "            if items is not None:\n",
    "                print(f\"Index {index}: {items}\")\n",
    "                              "
   ],
   "outputs": [],
   "execution_count": 7
  },
  {
   "metadata": {
    "ExecuteTime": {
     "end_time": "2024-11-25T12:10:14.809127Z",
     "start_time": "2024-11-25T12:10:14.804536Z"
    }
   },
   "cell_type": "code",
   "source": [
    "h_t = HashTable(7)\n",
    "\n",
    "list = [10, 22, 31, 4, 15, 28, 17, 88, 59]\n",
    "\n",
    "for key in list:\n",
    "    h_t.insert(key, key)\n",
    "\n",
    "h_t.display()"
   ],
   "id": "8ba0817447b2ca43",
   "outputs": [
    {
     "name": "stdout",
     "output_type": "stream",
     "text": [
      "Index 0: [(28, 28)]\n",
      "Index 1: [(22, 22), (15, 15)]\n",
      "Index 3: [(10, 10), (31, 31), (17, 17), (59, 59)]\n",
      "Index 4: [(4, 4), (88, 88)]\n"
     ]
    }
   ],
   "execution_count": 8
  },
  {
   "metadata": {
    "ExecuteTime": {
     "end_time": "2024-11-25T12:10:15.813391Z",
     "start_time": "2024-11-25T12:10:15.809123Z"
    }
   },
   "cell_type": "code",
   "source": [
    "h_t.delete(17)\n",
    "h_t.delete(21)\n",
    "h_t.display()"
   ],
   "id": "5a9f846e1a544437",
   "outputs": [
    {
     "name": "stdout",
     "output_type": "stream",
     "text": [
      "key is not found!\n",
      "Index 0: [(28, 28)]\n",
      "Index 1: [(22, 22), (15, 15)]\n",
      "Index 3: [(10, 10), (31, 31), (59, 59)]\n",
      "Index 4: [(4, 4), (88, 88)]\n"
     ]
    }
   ],
   "execution_count": 9
  },
  {
   "metadata": {},
   "cell_type": "code",
   "outputs": [],
   "execution_count": null,
   "source": "",
   "id": "d0a549c0c6efe117"
  }
 ],
 "metadata": {
  "kernelspec": {
   "display_name": "Python 3",
   "language": "python",
   "name": "python3"
  },
  "language_info": {
   "codemirror_mode": {
    "name": "ipython",
    "version": 2
   },
   "file_extension": ".py",
   "mimetype": "text/x-python",
   "name": "python",
   "nbconvert_exporter": "python",
   "pygments_lexer": "ipython2",
   "version": "2.7.6"
  }
 },
 "nbformat": 4,
 "nbformat_minor": 5
}
