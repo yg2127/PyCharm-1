{
 "cells": [
  {
   "cell_type": "code",
   "id": "initial_id",
   "metadata": {
    "collapsed": true,
    "ExecuteTime": {
     "end_time": "2024-10-05T10:26:13.594244Z",
     "start_time": "2024-10-05T10:26:13.586611Z"
    }
   },
   "source": [
    "import pandas as pd\n",
    "df1 = pd.read_csv(\"student_records.csv\") #for Insertion\n",
    "df2 = pd.read_csv(\"student_records.csv\") #for Merge"
   ],
   "outputs": [],
   "execution_count": 11
  },
  {
   "metadata": {
    "ExecuteTime": {
     "end_time": "2024-10-05T10:26:15.840946Z",
     "start_time": "2024-10-05T10:26:15.835202Z"
    }
   },
   "cell_type": "code",
   "source": "print(df1)",
   "id": "80a0a4ccf2763b7e",
   "outputs": [
    {
     "name": "stdout",
     "output_type": "stream",
     "text": [
      "           Name  Age  Marks\n",
      "0      Student1   22     80\n",
      "1      Student2   20     92\n",
      "2      Student3   22     51\n",
      "3      Student4   19     78\n",
      "4      Student5   23     75\n",
      "..          ...  ...    ...\n",
      "195  Student196   22     88\n",
      "196  Student197   18     54\n",
      "197  Student198   25     72\n",
      "198  Student199   24     97\n",
      "199  Student200   21     91\n",
      "\n",
      "[200 rows x 3 columns]\n"
     ]
    }
   ],
   "execution_count": 12
  },
  {
   "metadata": {
    "ExecuteTime": {
     "end_time": "2024-10-05T10:28:37.975987Z",
     "start_time": "2024-10-05T10:28:37.972026Z"
    }
   },
   "cell_type": "code",
   "source": [
    "def Insertion_rsort(a):\n",
    "    for i in range(1,len(a)):\n",
    "        key = a[i]\n",
    "        j = i-1\n",
    "        while(j >= 0 and a[j] < key):\n",
    "            a[j+1] = a[j]\n",
    "            j -= 1\n",
    "        a[j+1] = key\n",
    "    return a"
   ],
   "id": "55eeb2fa666c0bcc",
   "outputs": [],
   "execution_count": 20
  },
  {
   "metadata": {
    "ExecuteTime": {
     "end_time": "2024-10-05T10:39:30.708790Z",
     "start_time": "2024-10-05T10:39:30.702674Z"
    }
   },
   "cell_type": "code",
   "source": [
    "marks1 = df1['Marks'].tolist()\n",
    "Insertion_rsort(marks1)\n",
    "\n",
    "df1['Marks'] = marks1\n",
    "df1 = df1.sort_values(by='Marks', ascending=False)\n",
    "\n",
    "df1.to_csv('Insertion_sorted_student_records.csv', index=False)\n",
    "\n",
    "FileLink('Insertion_sorted_student_records.csv')"
   ],
   "id": "52d106e82cbc3fdd",
   "outputs": [
    {
     "data": {
      "text/plain": [
       "/Users/yugeon/YG2127/PycharmProjects/Insertion_sorted_student_records.csv"
      ],
      "text/html": [
       "<a href='Insertion_sorted_student_records.csv' target='_blank'>Insertion_sorted_student_records.csv</a><br>"
      ]
     },
     "execution_count": 29,
     "metadata": {},
     "output_type": "execute_result"
    }
   ],
   "execution_count": 29
  },
  {
   "metadata": {
    "ExecuteTime": {
     "end_time": "2024-10-05T10:26:19.100977Z",
     "start_time": "2024-10-05T10:26:19.095249Z"
    }
   },
   "cell_type": "code",
   "source": [
    "def merge_sort(arr):\n",
    "    if len(arr)>1:\n",
    "        mid = len(arr) // 2\n",
    "        left_half = arr[:mid]\n",
    "        right_half = arr[mid:]\n",
    "        \n",
    "        merge_sort(left_half)\n",
    "        merge_sort(right_half)\n",
    "        \n",
    "        i = j = k = 0\n",
    "        while i < len(left_half) and j < len(right_half):\n",
    "            if left_half[i] < right_half[j]:\n",
    "                arr[k] = left_half[i]\n",
    "                i+=1\n",
    "            else:\n",
    "                arr[k] = right_half[j]\n",
    "                j+=1\n",
    "        while i < len(left_half):\n",
    "            arr[k] = left_half[i]\n",
    "            i += 1\n",
    "            j += 1\n",
    "        while j < len(right_half):\n",
    "            arr[k] = right_half[j]\n",
    "            j+=1\n",
    "            k+=1"
   ],
   "id": "8aa7b27bb0e4c48c",
   "outputs": [],
   "execution_count": 14
  },
  {
   "metadata": {
    "ExecuteTime": {
     "end_time": "2024-10-05T10:27:13.224631Z",
     "start_time": "2024-10-05T10:27:13.188351Z"
    }
   },
   "cell_type": "code",
   "source": [
    "marks2 = df2['Marks'].tolist()\n",
    "merge_sort(marks2)\n",
    "\n",
    "df2['Marks'] = marks2\n",
    "df2 = df2.sort_values(by='Marks', ascending=False)\n",
    "\n",
    "df2.to_csv('merge_sorted_student_records.csv', index=False)\n",
    "\n",
    "FileLink('merge_sorted_student_records.csv')"
   ],
   "id": "9ab2dc929e069012",
   "outputs": [
    {
     "data": {
      "text/plain": [
       "/Users/yugeon/YG2127/PycharmProjects/merge_sorted_student_records.csv"
      ],
      "text/html": [
       "<a href='merge_sorted_student_records.csv' target='_blank'>merge_sorted_student_records.csv</a><br>"
      ]
     },
     "execution_count": 18,
     "metadata": {},
     "output_type": "execute_result"
    }
   ],
   "execution_count": 18
  }
 ],
 "metadata": {
  "kernelspec": {
   "display_name": "Python 3",
   "language": "python",
   "name": "python3"
  },
  "language_info": {
   "codemirror_mode": {
    "name": "ipython",
    "version": 2
   },
   "file_extension": ".py",
   "mimetype": "text/x-python",
   "name": "python",
   "nbconvert_exporter": "python",
   "pygments_lexer": "ipython2",
   "version": "2.7.6"
  }
 },
 "nbformat": 4,
 "nbformat_minor": 5
}
