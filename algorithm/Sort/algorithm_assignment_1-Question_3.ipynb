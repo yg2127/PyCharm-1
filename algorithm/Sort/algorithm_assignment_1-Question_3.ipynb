{
 "cells": [
  {
   "cell_type": "code",
   "id": "initial_id",
   "metadata": {
    "collapsed": true,
    "ExecuteTime": {
     "end_time": "2024-10-05T12:30:53.683326Z",
     "start_time": "2024-10-05T12:30:40.358233Z"
    }
   },
   "source": [
    "n = int(input(\"enter the number of arrays\"))\n",
    "arr = []\n",
    "\n",
    "for i in range(n):\n",
    "    arr.append(int(input()))\n",
    "\n",
    "c = int(input(\"select your algorithm\\n1 = Selection\\n2 = Insertion\\n3 = Merge\\n4 = Heap\\n\"))"
   ],
   "outputs": [],
   "execution_count": 19
  },
  {
   "metadata": {
    "ExecuteTime": {
     "end_time": "2024-10-05T12:17:22.900684Z",
     "start_time": "2024-10-05T12:17:22.896436Z"
    }
   },
   "cell_type": "code",
   "source": [
    "def selection_rsort(arr):\n",
    "    n = len(arr)\n",
    "    for i in range(n - 1):\n",
    "        max_index = i\n",
    "        for j in range(i + 1, n):\n",
    "            if arr[j] > arr[max_index]:\n",
    "                max_index = j\n",
    "        if max_index != i:\n",
    "            arr[i], arr[max_index] = arr[max_index], arr[i]\n",
    "    return arr"
   ],
   "id": "ef2a41f34b806d26",
   "outputs": [],
   "execution_count": 4
  },
  {
   "metadata": {
    "ExecuteTime": {
     "end_time": "2024-10-05T12:30:24.662305Z",
     "start_time": "2024-10-05T12:30:24.658642Z"
    }
   },
   "cell_type": "code",
   "source": [
    "def insertion_rsort(a):\n",
    "    for i in range(1,len(a)):\n",
    "        key = a[i]\n",
    "        j = i-1\n",
    "        while(j >= 0 and a[j] < key):\n",
    "            a[j+1] = a[j]\n",
    "            j -= 1\n",
    "        a[j+1] = key\n",
    "    return a"
   ],
   "id": "30a946c2874c258a",
   "outputs": [],
   "execution_count": 11
  },
  {
   "metadata": {
    "ExecuteTime": {
     "end_time": "2024-10-05T12:30:26.252950Z",
     "start_time": "2024-10-05T12:30:26.247602Z"
    }
   },
   "cell_type": "code",
   "source": [
    "def merge_rsort(arr):\n",
    "    if len(arr) > 1:\n",
    "        mid = len(arr) // 2\n",
    "        left_half = arr[:mid]\n",
    "        right_half = arr[mid:]\n",
    "        \n",
    "        merge_rsort(left_half)\n",
    "        merge_rsort(right_half)\n",
    "        \n",
    "        i = j = k = 0\n",
    "        while i < len(left_half) and j < len(right_half):\n",
    "            if left_half[i] > right_half[j]:  # 내림차순 비교\n",
    "                arr[k] = left_half[i]\n",
    "                i += 1\n",
    "            else:\n",
    "                arr[k] = right_half[j]\n",
    "                j += 1\n",
    "            k += 1  # 여기를 추가해야 함\n",
    "\n",
    "        while i < len(left_half):\n",
    "            arr[k] = left_half[i]\n",
    "            i += 1\n",
    "            k += 1  # 여기도 k를 증가시켜야 함\n",
    "\n",
    "        while j < len(right_half):\n",
    "            arr[k] = right_half[j]\n",
    "            j += 1\n",
    "            k += 1  # 여기도 k를 증가시켜야 함"
   ],
   "id": "f16344c4cedcc071",
   "outputs": [],
   "execution_count": 12
  },
  {
   "metadata": {
    "ExecuteTime": {
     "end_time": "2024-10-05T12:30:28.249907Z",
     "start_time": "2024-10-05T12:30:28.244601Z"
    }
   },
   "cell_type": "code",
   "source": [
    "def left(i):\n",
    "    return 2 * i + 1\n",
    "\n",
    "\n",
    "def right(i):\n",
    "    return 2 * i + 2\n",
    "\n",
    "\n",
    "def parent(i):\n",
    "    return (i - 1) // 2\n",
    "\n",
    "\n",
    "def heapify(arr, n, i):\n",
    "    largest = i\n",
    "    l = left(i)\n",
    "    r = right(i)\n",
    "\n",
    "    if l < n and arr[l] > arr[largest]:\n",
    "        largest = l\n",
    "\n",
    "    if r < n and arr[r] > arr[largest]:\n",
    "        largest = r\n",
    "\n",
    "    if largest != i:\n",
    "        arr[i], arr[largest] = arr[largest], arr[i]\n",
    "        heapify(arr, n, largest)\n",
    "\n",
    "\n",
    "def Build_max_heap(arr, n):\n",
    "    for i in range(n // 2 - 1, -1, -1):\n",
    "        heapify(arr, n, i)"
   ],
   "id": "f63f46c702e6cfb6",
   "outputs": [],
   "execution_count": 13
  },
  {
   "metadata": {
    "ExecuteTime": {
     "end_time": "2024-10-05T12:30:57.230274Z",
     "start_time": "2024-10-05T12:30:57.225789Z"
    }
   },
   "cell_type": "code",
   "source": [
    "if c == 1:\n",
    "    ans = selection_rsort(arr)\n",
    "    print(ans)\n",
    "elif c == 2:\n",
    "    ans = insertion_rsort(arr)\n",
    "    print(ans)\n",
    "elif c == 3:\n",
    "    ans = merge_rsort(arr)\n",
    "    print(ans)\n",
    "elif c == 4:\n",
    "    ans = Build_max_heap(arr, len(arr))\n",
    "    print(ans)"
   ],
   "id": "900bbe19b9e40095",
   "outputs": [
    {
     "name": "stdout",
     "output_type": "stream",
     "text": [
      "None\n"
     ]
    }
   ],
   "execution_count": 20
  }
 ],
 "metadata": {
  "kernelspec": {
   "display_name": "Python 3",
   "language": "python",
   "name": "python3"
  },
  "language_info": {
   "codemirror_mode": {
    "name": "ipython",
    "version": 2
   },
   "file_extension": ".py",
   "mimetype": "text/x-python",
   "name": "python",
   "nbconvert_exporter": "python",
   "pygments_lexer": "ipython2",
   "version": "2.7.6"
  }
 },
 "nbformat": 4,
 "nbformat_minor": 5
}
