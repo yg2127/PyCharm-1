{
 "cells": [
  {
   "cell_type": "code",
   "id": "initial_id",
   "metadata": {
    "collapsed": true,
    "ExecuteTime": {
     "end_time": "2024-12-08T14:29:27.959558Z",
     "start_time": "2024-12-08T14:29:27.950096Z"
    }
   },
   "source": [
    "import pandas as pd\n",
    "\n",
    "data = pd.read_csv('광진구사고데이터.csv', encoding = 'UTF-8')\n",
    "\n",
    "#출처 = 교통사고분석시스템 GIS 서울광진경찰서 사고분석"
   ],
   "outputs": [],
   "execution_count": 61
  },
  {
   "metadata": {
    "ExecuteTime": {
     "end_time": "2024-12-08T14:29:27.975552Z",
     "start_time": "2024-12-08T14:29:27.966551Z"
    }
   },
   "cell_type": "code",
   "source": [
    "print(data.shape)\n",
    "print(data.columns)\n",
    "data.head()\n",
    "#데이터 개수 = 2513개 , 20년부터 22년까지"
   ],
   "id": "4c9e3d6c7e92c8b",
   "outputs": [
    {
     "name": "stdout",
     "output_type": "stream",
     "text": [
      "(2513, 22)\n",
      "Index(['사고번호', '발생년월', '요일', '시군구', '사고내용', '사망자수', '중상자수', '경상자수', '부상신고자수',\n",
      "       '사고유형', '법규위반', '노면상태', '기상상태', '도로형태', '가해운전자 차종', '가해운전자 성별',\n",
      "       '가해운전자 연령대', '가해운전자 상해정도', '피해운전자 차종', '피해운전자 성별', '피해운전자 연령대',\n",
      "       '피해운전자 상해정도'],\n",
      "      dtype='object')\n"
     ]
    },
    {
     "data": {
      "text/plain": [
       "               사고번호      발생년월   요일            시군구    사고내용  사망자수  중상자수  경상자수  \\\n",
       "0  2020010100100332  2020년 1월  수요일  서울특별시 광진구 구의동    중상사고     0     2     6   \n",
       "1  2020010200100441  2020년 1월  목요일  서울특별시 광진구 중곡동  부상신고사고     0     0     0   \n",
       "2  2020010300100519  2020년 1월  금요일  서울특별시 광진구 화양동    중상사고     0     1     0   \n",
       "3  2020010400100306  2020년 1월  토요일  서울특별시 광진구 자양동    경상사고     0     0     1   \n",
       "4  2020010400100346  2020년 1월  토요일  서울특별시 광진구 중곡동    경상사고     0     0     1   \n",
       "\n",
       "   부상신고자수        사고유형  ... 기상상태        도로형태 가해운전자 차종 가해운전자 성별 가해운전자 연령대  \\\n",
       "0       1    차대차 - 추돌  ...   맑음    단일로 - 기타       승용        남    65세 이상   \n",
       "1       1  차대사람 - 횡단중  ...   맑음    단일로 - 기타       승용        남    51-60세   \n",
       "2       0   차대사람 - 기타  ...   맑음    단일로 - 기타       승용        남    41-50세   \n",
       "3       0    차대차 - 충돌  ...   맑음    단일로 - 기타      자전거        남    61-64세   \n",
       "4       0    차대차 - 기타  ...   맑음  교차로 - 교차로안       이륜        남    65세 이상   \n",
       "\n",
       "  가해운전자 상해정도 피해운전자 차종 피해운전자 성별 피해운전자 연령대 피해운전자 상해정도  \n",
       "0       상해없음       승용        남    65세 이상         경상  \n",
       "1       상해없음      보행자        남    12세 이하       부상신고  \n",
       "2       상해없음      보행자        여    65세 이상         중상  \n",
       "3         경상      자전거        여    13-20세       상해없음  \n",
       "4       상해없음       이륜        남    21-30세         경상  \n",
       "\n",
       "[5 rows x 22 columns]"
      ],
      "text/html": [
       "<div>\n",
       "<style scoped>\n",
       "    .dataframe tbody tr th:only-of-type {\n",
       "        vertical-align: middle;\n",
       "    }\n",
       "\n",
       "    .dataframe tbody tr th {\n",
       "        vertical-align: top;\n",
       "    }\n",
       "\n",
       "    .dataframe thead th {\n",
       "        text-align: right;\n",
       "    }\n",
       "</style>\n",
       "<table border=\"1\" class=\"dataframe\">\n",
       "  <thead>\n",
       "    <tr style=\"text-align: right;\">\n",
       "      <th></th>\n",
       "      <th>사고번호</th>\n",
       "      <th>발생년월</th>\n",
       "      <th>요일</th>\n",
       "      <th>시군구</th>\n",
       "      <th>사고내용</th>\n",
       "      <th>사망자수</th>\n",
       "      <th>중상자수</th>\n",
       "      <th>경상자수</th>\n",
       "      <th>부상신고자수</th>\n",
       "      <th>사고유형</th>\n",
       "      <th>...</th>\n",
       "      <th>기상상태</th>\n",
       "      <th>도로형태</th>\n",
       "      <th>가해운전자 차종</th>\n",
       "      <th>가해운전자 성별</th>\n",
       "      <th>가해운전자 연령대</th>\n",
       "      <th>가해운전자 상해정도</th>\n",
       "      <th>피해운전자 차종</th>\n",
       "      <th>피해운전자 성별</th>\n",
       "      <th>피해운전자 연령대</th>\n",
       "      <th>피해운전자 상해정도</th>\n",
       "    </tr>\n",
       "  </thead>\n",
       "  <tbody>\n",
       "    <tr>\n",
       "      <th>0</th>\n",
       "      <td>2020010100100332</td>\n",
       "      <td>2020년 1월</td>\n",
       "      <td>수요일</td>\n",
       "      <td>서울특별시 광진구 구의동</td>\n",
       "      <td>중상사고</td>\n",
       "      <td>0</td>\n",
       "      <td>2</td>\n",
       "      <td>6</td>\n",
       "      <td>1</td>\n",
       "      <td>차대차 - 추돌</td>\n",
       "      <td>...</td>\n",
       "      <td>맑음</td>\n",
       "      <td>단일로 - 기타</td>\n",
       "      <td>승용</td>\n",
       "      <td>남</td>\n",
       "      <td>65세 이상</td>\n",
       "      <td>상해없음</td>\n",
       "      <td>승용</td>\n",
       "      <td>남</td>\n",
       "      <td>65세 이상</td>\n",
       "      <td>경상</td>\n",
       "    </tr>\n",
       "    <tr>\n",
       "      <th>1</th>\n",
       "      <td>2020010200100441</td>\n",
       "      <td>2020년 1월</td>\n",
       "      <td>목요일</td>\n",
       "      <td>서울특별시 광진구 중곡동</td>\n",
       "      <td>부상신고사고</td>\n",
       "      <td>0</td>\n",
       "      <td>0</td>\n",
       "      <td>0</td>\n",
       "      <td>1</td>\n",
       "      <td>차대사람 - 횡단중</td>\n",
       "      <td>...</td>\n",
       "      <td>맑음</td>\n",
       "      <td>단일로 - 기타</td>\n",
       "      <td>승용</td>\n",
       "      <td>남</td>\n",
       "      <td>51-60세</td>\n",
       "      <td>상해없음</td>\n",
       "      <td>보행자</td>\n",
       "      <td>남</td>\n",
       "      <td>12세 이하</td>\n",
       "      <td>부상신고</td>\n",
       "    </tr>\n",
       "    <tr>\n",
       "      <th>2</th>\n",
       "      <td>2020010300100519</td>\n",
       "      <td>2020년 1월</td>\n",
       "      <td>금요일</td>\n",
       "      <td>서울특별시 광진구 화양동</td>\n",
       "      <td>중상사고</td>\n",
       "      <td>0</td>\n",
       "      <td>1</td>\n",
       "      <td>0</td>\n",
       "      <td>0</td>\n",
       "      <td>차대사람 - 기타</td>\n",
       "      <td>...</td>\n",
       "      <td>맑음</td>\n",
       "      <td>단일로 - 기타</td>\n",
       "      <td>승용</td>\n",
       "      <td>남</td>\n",
       "      <td>41-50세</td>\n",
       "      <td>상해없음</td>\n",
       "      <td>보행자</td>\n",
       "      <td>여</td>\n",
       "      <td>65세 이상</td>\n",
       "      <td>중상</td>\n",
       "    </tr>\n",
       "    <tr>\n",
       "      <th>3</th>\n",
       "      <td>2020010400100306</td>\n",
       "      <td>2020년 1월</td>\n",
       "      <td>토요일</td>\n",
       "      <td>서울특별시 광진구 자양동</td>\n",
       "      <td>경상사고</td>\n",
       "      <td>0</td>\n",
       "      <td>0</td>\n",
       "      <td>1</td>\n",
       "      <td>0</td>\n",
       "      <td>차대차 - 충돌</td>\n",
       "      <td>...</td>\n",
       "      <td>맑음</td>\n",
       "      <td>단일로 - 기타</td>\n",
       "      <td>자전거</td>\n",
       "      <td>남</td>\n",
       "      <td>61-64세</td>\n",
       "      <td>경상</td>\n",
       "      <td>자전거</td>\n",
       "      <td>여</td>\n",
       "      <td>13-20세</td>\n",
       "      <td>상해없음</td>\n",
       "    </tr>\n",
       "    <tr>\n",
       "      <th>4</th>\n",
       "      <td>2020010400100346</td>\n",
       "      <td>2020년 1월</td>\n",
       "      <td>토요일</td>\n",
       "      <td>서울특별시 광진구 중곡동</td>\n",
       "      <td>경상사고</td>\n",
       "      <td>0</td>\n",
       "      <td>0</td>\n",
       "      <td>1</td>\n",
       "      <td>0</td>\n",
       "      <td>차대차 - 기타</td>\n",
       "      <td>...</td>\n",
       "      <td>맑음</td>\n",
       "      <td>교차로 - 교차로안</td>\n",
       "      <td>이륜</td>\n",
       "      <td>남</td>\n",
       "      <td>65세 이상</td>\n",
       "      <td>상해없음</td>\n",
       "      <td>이륜</td>\n",
       "      <td>남</td>\n",
       "      <td>21-30세</td>\n",
       "      <td>경상</td>\n",
       "    </tr>\n",
       "  </tbody>\n",
       "</table>\n",
       "<p>5 rows × 22 columns</p>\n",
       "</div>"
      ]
     },
     "execution_count": 62,
     "metadata": {},
     "output_type": "execute_result"
    }
   ],
   "execution_count": 62
  },
  {
   "metadata": {
    "ExecuteTime": {
     "end_time": "2024-12-08T14:29:28.074959Z",
     "start_time": "2024-12-08T14:29:28.072498Z"
    }
   },
   "cell_type": "code",
   "source": [
    "import matplotlib.pyplot as plt\n",
    "import matplotlib.font_manager as fm\n",
    "\n",
    "# MacBook의 시스템 폰트 설정 (AppleGothic 사용)\n",
    "plt.rc('font', family='AppleGothic')\n",
    "\n",
    "# 한글 깨짐 방지\n",
    "plt.rcParams['axes.unicode_minus'] = False"
   ],
   "id": "b5a33f1e576e8046",
   "outputs": [],
   "execution_count": 63
  },
  {
   "metadata": {},
   "cell_type": "markdown",
   "source": "1. 요일 중 어떤요일이 가장 많은지",
   "id": "d638525fe1afad28"
  },
  {
   "metadata": {
    "ExecuteTime": {
     "end_time": "2024-12-08T14:29:28.107996Z",
     "start_time": "2024-12-08T14:29:28.103823Z"
    }
   },
   "cell_type": "code",
   "source": [
    "day_counts = data['요일'].value_counts()\n",
    "print(day_counts)"
   ],
   "id": "58b6cb5e3ae85cb5",
   "outputs": [
    {
     "name": "stdout",
     "output_type": "stream",
     "text": [
      "요일\n",
      "금요일    397\n",
      "수요일    382\n",
      "토요일    375\n",
      "화요일    367\n",
      "월요일    352\n",
      "목요일    348\n",
      "일요일    292\n",
      "Name: count, dtype: int64\n"
     ]
    }
   ],
   "execution_count": 64
  },
  {
   "metadata": {
    "ExecuteTime": {
     "end_time": "2024-12-08T14:36:34.990705Z",
     "start_time": "2024-12-08T14:36:34.922575Z"
    }
   },
   "cell_type": "code",
   "source": [
    "import matplotlib.pyplot as plt\n",
    "import random\n",
    "# 요일별 데이터 시각화\n",
    "day_counts.plot(kind='bar')\n",
    "plt.title('요일별 데이터 개수')\n",
    "plt.xlabel('요일')\n",
    "plt.ylabel('개수')\n",
    "plt.show()"
   ],
   "id": "6ba1ec2f42bfb905",
   "outputs": [
    {
     "data": {
      "text/plain": [
       "<Figure size 640x480 with 1 Axes>"
      ],
      "image/png": "[encoded data removed]"
     },
     "metadata": {},
     "output_type": "display_data"
    }
   ],
   "execution_count": 83
  },
  {
   "metadata": {},
   "cell_type": "markdown",
   "source": "2020년부터 2022년까지 사고데이터를 조사해 보았을 때 금요일이 가장 많았다",
   "id": "a4ee223c1d4ef18b"
  },
  {
   "metadata": {},
   "cell_type": "markdown",
   "source": "2. 몇월달이 가장 많은지",
   "id": "589240bd5f43b851"
  },
  {
   "metadata": {
    "ExecuteTime": {
     "end_time": "2024-12-08T14:29:28.235169Z",
     "start_time": "2024-12-08T14:29:28.231047Z"
    }
   },
   "cell_type": "code",
   "source": [
    "# '발생년월'을 '년'과 '월'로 나누기\n",
    "\n",
    "data[['년도','월']] = data['발생년월'].str.split(' ', expand=True)"
   ],
   "id": "34446bee615193d9",
   "outputs": [],
   "execution_count": 66
  },
  {
   "metadata": {
    "ExecuteTime": {
     "end_time": "2024-12-08T14:29:28.269110Z",
     "start_time": "2024-12-08T14:29:28.266086Z"
    }
   },
   "cell_type": "code",
   "source": [
    "month_counts = data['월'].value_counts()\n",
    "print(month_counts)"
   ],
   "id": "5acfad2a2c0a5b73",
   "outputs": [
    {
     "name": "stdout",
     "output_type": "stream",
     "text": [
      "월\n",
      "5월     260\n",
      "10월    247\n",
      "4월     229\n",
      "3월     218\n",
      "7월     213\n",
      "6월     207\n",
      "1월     199\n",
      "8월     199\n",
      "11월    197\n",
      "9월     187\n",
      "2월     180\n",
      "12월    177\n",
      "Name: count, dtype: int64\n"
     ]
    }
   ],
   "execution_count": 67
  },
  {
   "metadata": {
    "ExecuteTime": {
     "end_time": "2024-12-08T14:36:48.128890Z",
     "start_time": "2024-12-08T14:36:48.058846Z"
    }
   },
   "cell_type": "code",
   "source": [
    "# 월별 데이터 시각화\n",
    "month_counts.plot(kind='bar')\n",
    "plt.title('월별 데이터 개수')\n",
    "plt.xlabel('월')\n",
    "plt.ylabel('개수')\n",
    "plt.show()"
   ],
   "id": "978e25b789b654f3",
   "outputs": [
    {
     "data": {
      "text/plain": [
       "<Figure size 640x480 with 1 Axes>"
      ],
      "image/png": "[encoded data removed]"
     },
     "metadata": {},
     "output_type": "display_data"
    }
   ],
   "execution_count": 84
  },
  {
   "metadata": {},
   "cell_type": "markdown",
   "source": [
    "5월달과 10월달이 가장 많았다. 5월에는 어린이날이 있고 10월달에는 단풍구경 때문에 어린이대공원이 목적지인 교통량이 많을 것으로 추정\n",
    "어린이대공원의 교통량이 몇 월달에 가장 많은지 조사해보면 될듯!"
   ],
   "id": "c1c520835775e1ae"
  },
  {
   "metadata": {},
   "cell_type": "markdown",
   "source": "3. 날씨에 따른 사고량",
   "id": "e660810f4f6045f"
  },
  {
   "metadata": {
    "ExecuteTime": {
     "end_time": "2024-12-08T14:29:28.396944Z",
     "start_time": "2024-12-08T14:29:28.393233Z"
    }
   },
   "cell_type": "code",
   "source": [
    "weather_counts = data['기상상태'].value_counts()\n",
    "print(weather_counts)"
   ],
   "id": "4ef8738dd033118a",
   "outputs": [
    {
     "name": "stdout",
     "output_type": "stream",
     "text": [
      "기상상태\n",
      "맑음    2302\n",
      "비      124\n",
      "흐림      66\n",
      "기타      17\n",
      "눈        4\n",
      "Name: count, dtype: int64\n"
     ]
    }
   ],
   "execution_count": 69
  },
  {
   "metadata": {},
   "cell_type": "markdown",
   "source": "전체 데이터 중에선 비온날씨가 두번째이다. 그렇다면 날씨가 주된 사고원인이 아닌 것일까?",
   "id": "550e60808fc2605"
  },
  {
   "metadata": {
    "ExecuteTime": {
     "end_time": "2024-12-08T14:52:10.893003Z",
     "start_time": "2024-12-08T14:52:10.889767Z"
    }
   },
   "cell_type": "code",
   "source": [
    "# '기상상태' 열에서 '비'인 데이터만 필터링\n",
    "rain_data = data[data['기상상태'] != '맑음']\n",
    "print(rain_data.shape)"
   ],
   "id": "15b71938472b77",
   "outputs": [
    {
     "name": "stdout",
     "output_type": "stream",
     "text": [
      "(211, 25)\n"
     ]
    }
   ],
   "execution_count": 96
  },
  {
   "metadata": {
    "ExecuteTime": {
     "end_time": "2024-12-08T14:51:09.260556Z",
     "start_time": "2024-12-08T14:51:09.255763Z"
    }
   },
   "cell_type": "code",
   "source": [
    "rain_data_month_counts = rain_data['월'].value_counts()\n",
    "print(rain_data_month_counts)"
   ],
   "id": "358087e46b26ab05",
   "outputs": [
    {
     "name": "stdout",
     "output_type": "stream",
     "text": [
      "월\n",
      "8월     44\n",
      "7월     28\n",
      "5월     24\n",
      "9월     19\n",
      "3월     15\n",
      "6월     15\n",
      "11월    14\n",
      "10월    13\n",
      "1월     12\n",
      "4월     11\n",
      "2월     10\n",
      "12월     6\n",
      "Name: count, dtype: int64\n"
     ]
    }
   ],
   "execution_count": 91
  },
  {
   "metadata": {},
   "cell_type": "markdown",
   "source": "비가 많이 내리는 7월,8월에서만 하루평균 0.77, 0.58건이 일어난다. 이는 다른 월에 비해 명확하게 높은 수치이다. (사고율이 자체적으로 높은 5월달은 제외)",
   "id": "5c81d1e06321a5d6"
  },
  {
   "metadata": {
    "ExecuteTime": {
     "end_time": "2024-12-08T14:46:50.782073Z",
     "start_time": "2024-12-08T14:46:50.705479Z"
    }
   },
   "cell_type": "code",
   "source": [
    "# 월별 비올때의 데이터 시각화\n",
    "\n",
    "rain_data_month_counts.plot(kind='bar')\n",
    "plt.title('비 올때의 데이터 중 월별 데이터 개수')\n",
    "plt.xlabel('월')\n",
    "plt.ylabel('개수')\n",
    "plt.show()"
   ],
   "id": "bc51dcc19760d266",
   "outputs": [
    {
     "data": {
      "text/plain": [
       "<Figure size 640x480 with 1 Axes>"
      ],
      "image/png": "[encoded data removed]"
     },
     "metadata": {},
     "output_type": "display_data"
    }
   ],
   "execution_count": 87
  },
  {
   "metadata": {},
   "cell_type": "markdown",
   "source": "일단 날씨가 맑음이 아닐 뿐 아니라 노면상태도 확인해 봐야 할 것 같다. 날씨가 흐림이나 맑음이여도 노면상태가 젖어있다면 사고율에 영향을 끼칠 수 있으므로!",
   "id": "c3831ca7209ae7ab"
  },
  {
   "metadata": {},
   "cell_type": "markdown",
   "source": "4. 나이대에 따른 사고량 (가해차량)",
   "id": "2efb96f8cfa73ada"
  },
  {
   "metadata": {
    "ExecuteTime": {
     "end_time": "2024-12-08T14:29:28.620829Z",
     "start_time": "2024-12-08T14:29:28.617955Z"
    }
   },
   "cell_type": "code",
   "source": [
    "offender_age_counts = data['가해운전자 연령대'].value_counts()\n",
    "print(offender_age_counts)"
   ],
   "id": "47dbf23ff2f673f5",
   "outputs": [
    {
     "name": "stdout",
     "output_type": "stream",
     "text": [
      "가해운전자 연령대\n",
      "51-60세    507\n",
      "21-30세    421\n",
      "31-40세    416\n",
      "65세 이상    400\n",
      "41-50세    375\n",
      "61-64세    215\n",
      "20세 이하    104\n",
      "기타불명       75\n",
      "Name: count, dtype: int64\n"
     ]
    }
   ],
   "execution_count": 73
  },
  {
   "metadata": {
    "ExecuteTime": {
     "end_time": "2024-12-08T14:46:58.071819Z",
     "start_time": "2024-12-08T14:46:57.997181Z"
    }
   },
   "cell_type": "code",
   "source": [
    "# 나이대에 따른 사고량(가해차량)의 데이터 시각화\n",
    "\n",
    "offender_age_counts.plot(kind='bar')\n",
    "plt.title('나이대별 데이터 개수')\n",
    "plt.xlabel('월')\n",
    "plt.ylabel('개수')\n",
    "plt.show()"
   ],
   "id": "c956d368b53c961d",
   "outputs": [
    {
     "data": {
      "text/plain": [
       "<Figure size 640x480 with 1 Axes>"
      ],
      "image/png": "[encoded data removed]"
     },
     "metadata": {},
     "output_type": "display_data"
    }
   ],
   "execution_count": 88
  },
  {
   "metadata": {},
   "cell_type": "markdown",
   "source": "5. 사고유형에 따른 사고량",
   "id": "84de3e36f17f4e53"
  },
  {
   "metadata": {
    "ExecuteTime": {
     "end_time": "2024-12-08T14:29:28.718168Z",
     "start_time": "2024-12-08T14:29:28.715360Z"
    }
   },
   "cell_type": "code",
   "source": [
    "road_shape_counts = data['사고유형'].value_counts()\n",
    "print(road_shape_counts)"
   ],
   "id": "ec83719da3a4b9f9",
   "outputs": [
    {
     "name": "stdout",
     "output_type": "stream",
     "text": [
      "사고유형\n",
      "차대차 - 충돌             971\n",
      "차대차 - 기타             512\n",
      "차대차 - 추돌             401\n",
      "차대사람 - 기타            303\n",
      "차대사람 - 횡단중           135\n",
      "차대사람 - 차도통행중          49\n",
      "차량단독 - 기타             47\n",
      "차대사람 - 보도통행중          42\n",
      "차대사람 - 길가장자리구역통행중     33\n",
      "차량단독 - 충돌             14\n",
      "차량단독 - 전도전복            6\n",
      "Name: count, dtype: int64\n"
     ]
    }
   ],
   "execution_count": 75
  },
  {
   "metadata": {},
   "cell_type": "markdown",
   "source": "전체 2500여개의 데이터 중 차대차가 1880개로 매우 높다. 차대차의 데이터만 살펴보는 과정이 필요할 듯?",
   "id": "af6f66fbc9707d15"
  },
  {
   "metadata": {},
   "cell_type": "markdown",
   "source": "",
   "id": "80cbd448337948dd"
  },
  {
   "metadata": {
    "ExecuteTime": {
     "end_time": "2024-12-08T14:29:28.753256Z",
     "start_time": "2024-12-08T14:29:28.749742Z"
    }
   },
   "cell_type": "code",
   "source": [
    "road_type_data = data['도로형태'].value_counts()\n",
    "print(road_type_data)"
   ],
   "id": "7d9a3222f50e0a66",
   "outputs": [
    {
     "name": "stdout",
     "output_type": "stream",
     "text": [
      "도로형태\n",
      "단일로 - 기타           1203\n",
      "교차로 - 교차로안          518\n",
      "기타 - 기타             318\n",
      "교차로 - 교차로부근         312\n",
      "교차로 - 교차로횡단보도내       68\n",
      "단일로 - 교량             62\n",
      "단일로 - 고가도로위          13\n",
      "주차장 - 주차장            13\n",
      "단일로 - 지하차도(도로)내       4\n",
      "단일로 - 터널              2\n",
      "Name: count, dtype: int64\n"
     ]
    }
   ],
   "execution_count": 76
  },
  {
   "metadata": {},
   "cell_type": "markdown",
   "source": [
    "도로형태는 교차로에서 사고형태가 가장 높을 것이라고 생각했는데 단일로에서 사고가 가장 많았다.\n",
    "이는 어린이대공원을 향한 교통량 증가로 인해 교차로부근에서 사고가 가장 많을 것이라는 가설을 반증하는 결과이다.\n",
    "교통사고 다발구간인 건대입구역과 군자입구역에서의 사고내역을 조사해보자 또한 교통사고량이 많은 지역들도 찾아보자."
   ],
   "id": "c284387ce0396002"
  },
  {
   "metadata": {},
   "cell_type": "markdown",
   "source": [
    "아래의 과정은 교통사고분석시스템에서 20₩22년까지 광진구의 사고다발구간인 군자역과 건대입구역(20년도의 군자역은 사고다발구간이 아님)의 csv데이터들을 불러온 후 사고번호의 대조를 통하여 20₩22년도까지의 광진구 전체 사고데이터에서 건대입구역과 군자역에서의 사고를 선별하여 새로운 피쳐 '특정장소'에 장소를 저장한 것이다. \n",
    "따라서 건대입구역과 군자역에서 반경 150m까지의 데이터 분석이므로 교통사고 다발구간과 비다발구간의 차이를 알아내는것이 궁극적인 목표이다."
   ],
   "id": "30c7b61627015039"
  },
  {
   "metadata": {
    "ExecuteTime": {
     "end_time": "2024-12-08T14:29:28.790120Z",
     "start_time": "2024-12-08T14:29:28.782965Z"
    }
   },
   "cell_type": "code",
   "source": [
    "kondae_20 = pd.read_csv('20년건대입구사고내역.csv', encoding = 'UTF - 8')\n",
    "kondae_21 = pd.read_csv('21년건대입구사고내역.csv', encoding = 'UTF - 8')\n",
    "kondae_22 = pd.read_csv('22년건대입구사고내역.csv', encoding = 'UTF - 8')\n",
    "#20년도 군자역은 사고다발구간이 아니였음\n",
    "gunja_21 = pd.read_csv('21년군자역사고내역.csv', encoding = 'UTF - 8')\n",
    "gunja_22 = pd.read_csv('22년군자역사고내역.csv', encoding = 'UTF - 8')"
   ],
   "id": "7aabcf00c0c90e65",
   "outputs": [],
   "execution_count": 77
  },
  {
   "metadata": {
    "ExecuteTime": {
     "end_time": "2024-12-08T14:29:28.821408Z",
     "start_time": "2024-12-08T14:29:28.818331Z"
    }
   },
   "cell_type": "code",
   "source": [
    "kondae = pd.concat([kondae_20,kondae_21,kondae_22], ignore_index = True)\n",
    "gunja = pd.concat([gunja_21,gunja_22], ignore_index = True)"
   ],
   "id": "3502f202612c7de4",
   "outputs": [],
   "execution_count": 78
  },
  {
   "metadata": {
    "ExecuteTime": {
     "end_time": "2024-12-08T14:29:28.853397Z",
     "start_time": "2024-12-08T14:29:28.850462Z"
    }
   },
   "cell_type": "code",
   "source": [
    "# 건대입구역, 군자역 사고 데이터의 사고번호 리스트 추출\n",
    "kondae_accident_numbers = set(kondae['사고번호'].tolist())  # 건대입구역 사고번호\n",
    "gunja_accident_numbers = set(gunja['사고번호'].tolist())   # 군자역 사고번호\n",
    "\n",
    "# '특정장소' 컬럼 추가\n",
    "def determine_location(accident_number):\n",
    "    if accident_number in kondae_accident_numbers:\n",
    "        return '건대입구'\n",
    "    elif accident_number in gunja_accident_numbers:\n",
    "        return '군자역'\n",
    "    else:\n",
    "        return '미상'\n",
    "\n",
    "# '특정장소' 칼럼 생성\n",
    "data['특정장소'] = data['사고번호'].apply(determine_location)"
   ],
   "id": "ba5568576a157705",
   "outputs": [],
   "execution_count": 79
  },
  {
   "metadata": {
    "ExecuteTime": {
     "end_time": "2024-12-08T14:29:28.894422Z",
     "start_time": "2024-12-08T14:29:28.882750Z"
    }
   },
   "cell_type": "code",
   "source": [
    "# DataFrame을 CSV 파일로 저장\n",
    "data.to_csv('data.csv', index=False, encoding='utf-8-sig')"
   ],
   "id": "5a21f874e22456c1",
   "outputs": [],
   "execution_count": 80
  },
  {
   "metadata": {
    "ExecuteTime": {
     "end_time": "2024-12-08T14:29:28.924532Z",
     "start_time": "2024-12-08T14:29:28.922427Z"
    }
   },
   "cell_type": "code",
   "source": [
    "import os\n",
    "print(os.getcwd())  # 현재 작업 디렉토리 출력"
   ],
   "id": "2e484d142501b5b9",
   "outputs": [
    {
     "name": "stdout",
     "output_type": "stream",
     "text": [
      "/Users/yugeon/YG2127/PycharmProjects/sai/1208\n"
     ]
    }
   ],
   "execution_count": 81
  },
  {
   "metadata": {},
   "cell_type": "markdown",
   "source": "이제 데이터 구현을 했으니 교통사고다발구간들의 특징점을 알아보자",
   "id": "d6619e1c5d93fd14"
  },
  {
   "metadata": {
    "ExecuteTime": {
     "end_time": "2024-12-08T14:29:28.954327Z",
     "start_time": "2024-12-08T14:29:28.952120Z"
    }
   },
   "cell_type": "code",
   "source": [
    "specific_counts = data['특정장소'].value_counts()\n",
    "print(specific_counts)"
   ],
   "id": "836870e197b4a5ba",
   "outputs": [
    {
     "name": "stdout",
     "output_type": "stream",
     "text": [
      "특정장소\n",
      "미상      2366\n",
      "건대입구      97\n",
      "군자역       50\n",
      "Name: count, dtype: int64\n"
     ]
    }
   ],
   "execution_count": 82
  },
  {
   "metadata": {},
   "cell_type": "markdown",
   "source": "",
   "id": "9b67f76082d31a03"
  },
  {
   "metadata": {
    "ExecuteTime": {
     "end_time": "2024-12-08T14:29:28.983871Z",
     "start_time": "2024-12-08T14:29:28.982603Z"
    }
   },
   "cell_type": "code",
   "source": "",
   "id": "f38ea8470664b072",
   "outputs": [],
   "execution_count": null
  }
 ],
 "metadata": {
  "kernelspec": {
   "display_name": "Python 3",
   "language": "python",
   "name": "python3"
  },
  "language_info": {
   "codemirror_mode": {
    "name": "ipython",
    "version": 2
   },
   "file_extension": ".py",
   "mimetype": "text/x-python",
   "name": "python",
   "nbconvert_exporter": "python",
   "pygments_lexer": "ipython2",
   "version": "2.7.6"
  }
 },
 "nbformat": 4,
 "nbformat_minor": 5
}
