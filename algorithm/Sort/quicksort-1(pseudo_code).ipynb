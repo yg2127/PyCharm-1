{
 "cells": [
  {
   "metadata": {
    "ExecuteTime": {
     "end_time": "2024-10-14T12:42:45.137575Z",
     "start_time": "2024-10-14T12:42:45.132491Z"
    }
   },
   "cell_type": "code",
   "source": [
    "def partition(A,p,r):\n",
    "    pivot = A[r]\n",
    "    i = p-1\n",
    "    for j in range(p,r):\n",
    "        if A[j] <= pivot: # 맨 마지막 값을 기준으로 기준보다 작으면\n",
    "            i += 1 # i를 +1시키고 (맨 처음엔 p부터)\n",
    "            A[i],A[j] = A[j],A[i] # 맨 앞의 위치로 보낸다.\n",
    "    # 위 반복문을 거치며 앞쪽에는 작은값이, 뒤로 갈 수록 큰 값을 갖는다.\n",
    "    #반복문이 다 끝난 후에 j는 r값을 가지며 (맨 뒤의 값) 인덱스 i 앞으로는 A[r]보다 작은 값만 오게 된다. \n",
    "    A[i+1],A[j+1] = A[j+1],A[i+1]\n",
    "    # 왜 j에 +1을 해줘야만 하지? 이 수 범위를 잘 모르겠다\n",
    "    # 반복문을 지나면서 i값은 피벗값보다 큰 값에 머물러 있으며 지나간 자리는 피벗값보다 작은 값만 남겨놓는다.\n",
    "    # 그리고 j값은 배열을 순회하면서 피벗값보다 작은 값만을 찾아다닌다.\n",
    "    # 따라서 i값과 j값을 교환함으로써 i가 지나간 자리에는 피벗값보다 작은 값만을 남기는 것이다.\n",
    "    # 왜냐하면 i+1부터는 피벗값보다 큰 값이기 때문에 i + 1과\n",
    "    # 반복문에서 j는 r-1까지의 범위이므로 반복문 종료 후 j + 1 = r이 된다.\n",
    "    # j + 1 인 r은 마지막 인덱스 이며 그 값이 피벗값 이므로 교환 해줘야\n",
    "    # i+1(pivot)값을 기준으로 왼쪽은 작은 값만, 오른쪽은 큰 값만을 갖기 때문이다.\n",
    "    return i + 1 # q 값으로 된다. (pivot값)"
   ],
   "id": "5c68c94b2aa89a4e",
   "outputs": [],
   "execution_count": 18
  },
  {
   "cell_type": "code",
   "id": "initial_id",
   "metadata": {
    "collapsed": true,
    "ExecuteTime": {
     "end_time": "2024-10-14T12:42:45.148381Z",
     "start_time": "2024-10-14T12:42:45.145849Z"
    }
   },
   "source": [
    "def Quick_sort(A,p,r): #A는 숫자의 배열\n",
    "    if p < r:\n",
    "        q = partition(A,p,r) # A[q]를 기준으로 그 앞은 작은 값만, 뒤로는 큰 값만 존재한다.\n",
    "        Quick_sort(A,p,q-1) #피벗값을 기준으로 앞의 배열들을 또 퀵정렬\n",
    "        Quick_sort(A,q+1,r) # 똑같이 뒤의 배열들을 또 퀵정렬"
   ],
   "outputs": [],
   "execution_count": 19
  },
  {
   "metadata": {
    "ExecuteTime": {
     "end_time": "2024-10-14T12:42:45.157747Z",
     "start_time": "2024-10-14T12:42:45.154773Z"
    }
   },
   "cell_type": "code",
   "source": [
    "import random\n",
    "a_r = [random.randint(1,11) for _ in range(10)]\n",
    "print(a_r)\n",
    "Quick_sort(a_r,0,len(a_r)-1)\n",
    "print(a_r)"
   ],
   "id": "d3a429e26a3a6d90",
   "outputs": [
    {
     "name": "stdout",
     "output_type": "stream",
     "text": [
      "[3, 1, 11, 6, 8, 11, 4, 3, 7, 6]\n",
      "[1, 3, 3, 4, 6, 6, 7, 8, 11, 11]\n"
     ]
    }
   ],
   "execution_count": 20
  }
 ],
 "metadata": {
  "kernelspec": {
   "display_name": "Python 3",
   "language": "python",
   "name": "python3"
  },
  "language_info": {
   "codemirror_mode": {
    "name": "ipython",
    "version": 2
   },
   "file_extension": ".py",
   "mimetype": "text/x-python",
   "name": "python",
   "nbconvert_exporter": "python",
   "pygments_lexer": "ipython2",
   "version": "2.7.6"
  }
 },
 "nbformat": 4,
 "nbformat_minor": 5
}
