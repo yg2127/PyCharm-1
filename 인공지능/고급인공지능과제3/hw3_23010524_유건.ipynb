{
 "cells": [
  {
   "cell_type": "code",
   "id": "initial_id",
   "metadata": {
    "collapsed": true,
    "ExecuteTime": {
     "end_time": "2024-11-06T12:06:57.015641Z",
     "start_time": "2024-11-06T12:06:57.010095Z"
    }
   },
   "source": [
    "import pandas as pd\n",
    "train = pd.read_csv(\"titanic.csv\")"
   ],
   "outputs": [],
   "execution_count": 29
  },
  {
   "metadata": {
    "ExecuteTime": {
     "end_time": "2024-11-06T12:06:57.028957Z",
     "start_time": "2024-11-06T12:06:57.025711Z"
    }
   },
   "cell_type": "code",
   "source": [
    "train_x = train.drop(['Survived'], axis = 1)\n",
    "train_y = train['Survived']"
   ],
   "id": "6db1f3018207f20",
   "outputs": [],
   "execution_count": 30
  },
  {
   "metadata": {
    "ExecuteTime": {
     "end_time": "2024-11-06T12:06:57.046028Z",
     "start_time": "2024-11-06T12:06:57.042323Z"
    }
   },
   "cell_type": "code",
   "source": "train_x = train_x.drop(['Name'], axis = 1)",
   "id": "12970d813090c9ac",
   "outputs": [],
   "execution_count": 31
  },
  {
   "metadata": {
    "ExecuteTime": {
     "end_time": "2024-11-06T12:06:57.067790Z",
     "start_time": "2024-11-06T12:06:57.060201Z"
    }
   },
   "cell_type": "code",
   "source": [
    "from sklearn.preprocessing import LabelEncoder\n",
    "le = LabelEncoder()\n",
    "empty_columns = train_x.dtypes[train_x.dtypes == 'object'].index.values\n",
    "for col in empty_columns:\n",
    "    train_x[col] = le.fit_transform(train_x[col])"
   ],
   "id": "bd691281e2b2a219",
   "outputs": [],
   "execution_count": 32
  },
  {
   "metadata": {
    "ExecuteTime": {
     "end_time": "2024-11-06T12:07:23.194782Z",
     "start_time": "2024-11-06T12:07:23.190445Z"
    }
   },
   "cell_type": "code",
   "source": "print(train_x, train_y)",
   "id": "768250316e78ba1",
   "outputs": [
    {
     "name": "stdout",
     "output_type": "stream",
     "text": [
      "[[ 0.82520863  0.73534203 -0.56367407 ... -0.47432585  0.91701764\n",
      "   0.58683958]\n",
      " [-1.57221121 -1.35991138  0.66921696 ... -0.47432585  1.28135338\n",
      "  -1.93955453]\n",
      " [ 0.82520863 -1.35991138 -0.25545131 ... -0.47432585  1.64568912\n",
      "   0.58683958]\n",
      " ...\n",
      " [ 0.82520863 -1.35991138 -0.10133993 ...  2.00611934  1.67563453\n",
      "   0.58683958]\n",
      " [-1.57221121  0.73534203 -0.25545131 ... -0.47432585 -1.64830528\n",
      "  -1.93955453]\n",
      " [ 0.82520863  0.73534203  0.20688282 ... -0.47432585  0.6325363\n",
      "  -0.67635748]] 0      0\n",
      "1      1\n",
      "2      1\n",
      "3      1\n",
      "4      0\n",
      "      ..\n",
      "884    0\n",
      "885    1\n",
      "886    0\n",
      "887    1\n",
      "888    0\n",
      "Name: Survived, Length: 889, dtype: int64\n"
     ]
    }
   ],
   "execution_count": 34
  },
  {
   "metadata": {},
   "cell_type": "markdown",
   "source": "이름이 있기 때문에 이름 열은 제거해줌",
   "id": "2c6b6e630ffc7cbc"
  },
  {
   "metadata": {
    "ExecuteTime": {
     "end_time": "2024-11-06T12:08:41.378611Z",
     "start_time": "2024-11-06T12:08:41.374840Z"
    }
   },
   "cell_type": "code",
   "source": [
    "from sklearn.preprocessing import StandardScaler\n",
    "sc = StandardScaler()\n",
    "train_x = sc.fit_transform(train_x)"
   ],
   "id": "ce79bf6501decb9c",
   "outputs": [],
   "execution_count": 36
  },
  {
   "metadata": {},
   "cell_type": "markdown",
   "source": "데이터 전처리 (정규분포화)",
   "id": "2b99a9af49caf1ce"
  },
  {
   "metadata": {
    "ExecuteTime": {
     "end_time": "2024-11-06T12:09:51.214272Z",
     "start_time": "2024-11-06T12:09:51.102749Z"
    }
   },
   "cell_type": "code",
   "source": [
    "from sklearn.model_selection import train_test_split\n",
    "train_x, valid_x, train_y, valid_y = train_test_split(train_x,train_y,test_size = 0.2, random_state = 42)"
   ],
   "id": "5dde467c50b28219",
   "outputs": [],
   "execution_count": 37
  },
  {
   "metadata": {
    "ExecuteTime": {
     "end_time": "2024-11-06T12:11:43.798031Z",
     "start_time": "2024-11-06T12:11:43.621942Z"
    }
   },
   "cell_type": "code",
   "source": [
    "from sklearn.neighbors import KNeighborsClassifier\n",
    "knn = KNeighborsClassifier()\n",
    "knn.fit(train_x, train_y)\n",
    "y1 = knn.predict(valid_x)"
   ],
   "id": "8ab1e088cf6906d2",
   "outputs": [],
   "execution_count": 38
  },
  {
   "metadata": {
    "ExecuteTime": {
     "end_time": "2024-11-06T12:13:20.763811Z",
     "start_time": "2024-11-06T12:13:20.751049Z"
    }
   },
   "cell_type": "code",
   "source": [
    "from sklearn.linear_model import LogisticRegression\n",
    "lg = LogisticRegression()\n",
    "lg.fit(train_x, train_y)\n",
    "y2 = lg.predict(valid_x)"
   ],
   "id": "3c8767326bf5cedd",
   "outputs": [],
   "execution_count": 39
  },
  {
   "metadata": {
    "ExecuteTime": {
     "end_time": "2024-11-06T12:17:21.006868Z",
     "start_time": "2024-11-06T12:17:21.000555Z"
    }
   },
   "cell_type": "code",
   "source": [
    "from sklearn.metrics import accuracy_score\n",
    "from sklearn.metrics import r2_score\n",
    "\n",
    "acc1 = accuracy_score(y1,valid_y)\n",
    "acc2 = r2_score(y2,valid_y)\n",
    "print('최근접 분류기 점수 = %f' %acc1)\n",
    "print('로지스틱 회귀 점수 = %f' %acc2)"
   ],
   "id": "595140c5330559d9",
   "outputs": [
    {
     "name": "stdout",
     "output_type": "stream",
     "text": [
      "최근접 분석기 점수 = 0.780899\n",
      "로지스틱 회귀 점수 = 0.155641\n"
     ]
    }
   ],
   "execution_count": 41
  },
  {
   "metadata": {},
   "cell_type": "code",
   "outputs": [],
   "execution_count": null,
   "source": "최근접 분류기와 로지스틱 회귀점수의 차이는 바로 해를 구하는 과정이 분류와 회귀에 있다는 것이다. 타이타닉 생존자 예측데이터는 생존 = 1, 사망 = 0으로 표기하는 분류 문제이다. 그러므로 이 데이터는 KNN이 더 적합하다고 볼 수 있다.",
   "id": "21d04b8e4da7e488"
  }
 ],
 "metadata": {
  "kernelspec": {
   "display_name": "Python 3",
   "language": "python",
   "name": "python3"
  },
  "language_info": {
   "codemirror_mode": {
    "name": "ipython",
    "version": 2
   },
   "file_extension": ".py",
   "mimetype": "text/x-python",
   "name": "python",
   "nbconvert_exporter": "python",
   "pygments_lexer": "ipython2",
   "version": "2.7.6"
  }
 },
 "nbformat": 4,
 "nbformat_minor": 5
}
