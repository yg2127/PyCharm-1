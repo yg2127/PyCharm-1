{
 "cells": [
  {
   "cell_type": "markdown",
   "metadata": {},
   "source": [
    "# Question 1: Insertion Sort Implementation and Analysis\n",
    "\n",
    "**(a) Insertion Sort: Ascending Order**"
   ]
  },
  {
   "cell_type": "code",
   "execution_count": 1,
   "metadata": {},
   "outputs": [],
   "source": [
    "import numpy as np\n",
    "from numpy import random\n",
    "import matplotlib.pyplot as plt\n",
    "import time"
   ]
  },
  {
   "cell_type": "code",
   "execution_count": 2,
   "metadata": {},
   "outputs": [
    {
     "name": "stdout",
     "output_type": "stream",
     "text": [
      "Sorted Array: [0 1 2 3 4 5 6 7 8 9]\n",
      "--- 0.000000 seconds ---\n"
     ]
    }
   ],
   "source": [
    "# (a)\n",
    "start_time = time.time()\n",
    "\n",
    "def insertion_sort(arr):  # Ascending\n",
    "\n",
    "    for i in range(1, len(arr)):\n",
    "        key = arr[i]\n",
    "        j = i - 1\n",
    "\n",
    "        while j >= 0 and arr[j] > key:\n",
    "            arr[j + 1] = arr[j]\n",
    "            j -= 1\n",
    "\n",
    "        arr[j + 1] = key\n",
    "\n",
    "    return arr\n",
    "\n",
    "# Test the insertion sort\n",
    "arr = np.array([5, 2, 7, 6, 0, 8, 3, 4, 9, 1])    # or just arr = [5, 2, 7, 6, 0, 8, 3, 4, 9, 1]\n",
    "arr = insertion_sort(arr)\n",
    "print(\"Sorted Array:\", arr)\n",
    "print(\"--- %f seconds ---\" % (time.time() - start_time))\n",
    "\n"
   ]
  },
  {
   "cell_type": "markdown",
   "metadata": {},
   "source": [
    "**(b) Rewrite the insertion sort procedure to sort into nonincreasing instead of nondecreasing order.** "
   ]
  },
  {
   "cell_type": "code",
   "execution_count": 3,
   "metadata": {},
   "outputs": [
    {
     "name": "stdout",
     "output_type": "stream",
     "text": [
      "Sorted Array: [9 8 7 6 5 4 3 2 1 0]\n",
      "--- 0.000000 seconds ---\n"
     ]
    }
   ],
   "source": [
    "# (b) \n",
    "start_time = time.time()\n",
    "\n",
    "def insertion_sort_descend(arr):  # Descending\n",
    "\n",
    "    for i in range(1, len(arr)):\n",
    "        key = arr[i]\n",
    "        j = i - 1\n",
    "\n",
    "        while j >= 0 and arr[j] < key:\n",
    "            arr[j + 1] = arr[j]\n",
    "            j -= 1\n",
    "\n",
    "        arr[j + 1] = key\n",
    "\n",
    "    return arr\n",
    "\n",
    "# Test the insertion sort\n",
    "arr = np.array([5, 2, 7, 6, 0, 8, 3, 4, 9, 1])    # or just arr = [5, 2, 7, 6, 0, 8, 3, 4, 9, 1]\n",
    "arr = insertion_sort_descend(arr)\n",
    "print(\"Sorted Array:\", arr)\n",
    "print(\"--- %f seconds ---\" % (time.time() - start_time))"
   ]
  },
  {
   "cell_type": "markdown",
   "metadata": {},
   "source": [
    "**(c) Repeat (a) for a random array of integers with size of 100, 1000, and 10000.**"
   ]
  },
  {
   "cell_type": "code",
   "execution_count": 4,
   "metadata": {},
   "outputs": [
    {
     "name": "stdout",
     "output_type": "stream",
     "text": [
      "Sorted Array: [ 0  0  4  5  6  7  8  8  8  9  9 10 10 10 10 11 18 18 19 21 21 23 24 24\n",
      " 26 26 27 28 30 32 32 34 36 36 37 38 39 39 39 40 42 42 43 44 46 49 49 49\n",
      " 50 50 50 51 52 52 52 54 54 55 55 56 57 59 60 61 61 62 65 67 67 67 67 68\n",
      " 69 71 72 73 73 76 76 76 77 78 81 83 84 84 86 86 87 87 87 89 90 91 92 92\n",
      " 93 95 95 96]\n",
      "--- 0.000000 seconds ---\n"
     ]
    }
   ],
   "source": [
    "# (c)\n",
    "arr=random.randint(100, size=(100))\n",
    "# arr=random.randint(1000, size=(1000))\n",
    "# arr=random.randint(10000, size=(10000))\n",
    "\n",
    "# Test the insertion sort\n",
    "start_time = time.time()\n",
    "\n",
    "arr = insertion_sort(arr)\n",
    "print(\"Sorted Array:\", arr)\n",
    "print(\"--- %f seconds ---\" % (time.time() - start_time))\n",
    "\n"
   ]
  },
  {
   "cell_type": "code",
   "execution_count": 5,
   "metadata": {},
   "outputs": [
    {
     "name": "stdout",
     "output_type": "stream",
     "text": [
      "Sorted Array: [   0    0    1 ... 9995 9999 9999]\n",
      "--- 7.414178 seconds ---\n"
     ]
    }
   ],
   "source": [
    "arr=random.randint(10000, size=(10000))\n",
    "\n",
    "# Test the insertion sort\n",
    "start_time = time.time()\n",
    "\n",
    "arr = insertion_sort(arr)\n",
    "print(\"Sorted Array:\", arr)\n",
    "print(\"--- %f seconds ---\" % (time.time() - start_time))"
   ]
  },
  {
   "cell_type": "markdown",
   "metadata": {},
   "source": [
    "# Question 2: Merge Sort Implementation and Analysis\n",
    "**(a) & (b)**"
   ]
  },
  {
   "cell_type": "code",
   "execution_count": 6,
   "metadata": {},
   "outputs": [
    {
     "name": "stdout",
     "output_type": "stream",
     "text": [
      "Sorted Array: [0, 1, 2, 3, 4, 5, 6, 7, 8, 9]\n",
      "--- 0.000998 seconds ---\n"
     ]
    }
   ],
   "source": [
    "# \n",
    "start_time = time.time()\n",
    "\n",
    "def merge_sort(arr):\n",
    "    if len(arr) > 1:\n",
    "        mid = len(arr) // 2\n",
    "        left_half = arr[:mid]\n",
    "        right_half = arr[mid:]\n",
    "        # print(left_half)\n",
    "\n",
    "        merge_sort(left_half)    # recursively sort\n",
    "        merge_sort(right_half)   # recursively sort\n",
    "        \n",
    "\n",
    "        i = j = k = 0\n",
    "\n",
    "        while i < len(left_half) and j < len(right_half):\n",
    "            if left_half[i] < right_half[j]:\n",
    "                arr[k] = left_half[i]\n",
    "                i += 1\n",
    "            else:\n",
    "                arr[k] = right_half[j]\n",
    "                j += 1\n",
    "            k += 1\n",
    "\n",
    "        while i < len(left_half):\n",
    "            arr[k] = left_half[i]\n",
    "            i += 1\n",
    "            k += 1\n",
    "\n",
    "        while j < len(right_half):\n",
    "            arr[k] = right_half[j]\n",
    "            j += 1\n",
    "            k += 1\n",
    "\n",
    "# Test the merge sort\n",
    "arr = [5, 2, 7, 6, 0, 8, 3, 4, 9, 1]\n",
    "#arr = random.randint(100, size=(100))\n",
    "#arr = random.randint(1000, size=(1000))\n",
    "#arr = random.randint(10000, size=(10000))\n",
    "\n",
    "merge_sort(arr)\n",
    "print(\"Sorted Array:\", arr)\n",
    "print(\"--- %f seconds ---\" % (time.time() - start_time))\n"
   ]
  },
  {
   "cell_type": "markdown",
   "metadata": {},
   "source": [
    "# Question 3: Insertion Sort vs. Merge Sort Analysis\n",
    "**(a)**"
   ]
  },
  {
   "cell_type": "code",
   "execution_count": 7,
   "metadata": {},
   "outputs": [
    {
     "data": {
      "image/png": "[encoded data removed]",
      "text/plain": [
       "<Figure size 432x288 with 1 Axes>"
      ]
     },
     "metadata": {
      "needs_background": "light"
     },
     "output_type": "display_data"
    }
   ],
   "source": [
    "# Compare execution time\n",
    "sizes = [10, 100, 1000]\n",
    "insertion_times = []\n",
    "merge_times = []\n",
    "\n",
    "for size in sizes:\n",
    "    arr_insertion = [random.randint(0, 1000) for _ in range(size)]\n",
    "    arr_merge = arr_insertion.copy()\n",
    "\n",
    "    start_time = time.time()\n",
    "    insertion_sort(arr_insertion)\n",
    "    insertion_times.append(time.time() - start_time)\n",
    "\n",
    "    start_time = time.time()\n",
    "    merge_sort(arr_merge)\n",
    "    merge_times.append(time.time() - start_time)\n",
    "\n",
    "plt.plot(sizes, insertion_times, label='Insertion Sort')\n",
    "plt.plot(sizes, merge_times, label='Merge Sort')\n",
    "plt.xlabel('Input Size')\n",
    "plt.ylabel('Execution Time')\n",
    "plt.legend()\n",
    "plt.show()"
   ]
  },
  {
   "cell_type": "code",
   "execution_count": 8,
   "metadata": {},
   "outputs": [
    {
     "data": {
      "image/png": "[encoded data removed]",
      "text/plain": [
       "<Figure size 432x288 with 1 Axes>"
      ]
     },
     "metadata": {
      "needs_background": "light"
     },
     "output_type": "display_data"
    }
   ],
   "source": [
    "# Compare execution time\n",
    "sizes = [10, 100, 1000, 10000]\n",
    "insertion_times = []\n",
    "merge_times = []\n",
    "\n",
    "for size in sizes:\n",
    "    arr_insertion = [random.randint(0, 10000) for _ in range(size)]\n",
    "    arr_merge = arr_insertion.copy()\n",
    "\n",
    "    start_time = time.time()\n",
    "    insertion_sort(arr_insertion)\n",
    "    insertion_times.append(time.time() - start_time)\n",
    "\n",
    "    start_time = time.time()\n",
    "    merge_sort(arr_merge)\n",
    "    merge_times.append(time.time() - start_time)\n",
    "\n",
    "plt.plot(sizes, insertion_times, label='Insertion Sort')\n",
    "plt.plot(sizes, merge_times, label='Merge Sort')\n",
    "plt.xlabel('Input Size')\n",
    "plt.ylabel('Execution Time')\n",
    "plt.legend()\n",
    "plt.show()"
   ]
  },
  {
   "cell_type": "code",
   "execution_count": null,
   "metadata": {},
   "outputs": [],
   "source": []
  },
  {
   "cell_type": "code",
   "execution_count": null,
   "metadata": {},
   "outputs": [],
   "source": []
  },
  {
   "cell_type": "code",
   "execution_count": null,
   "metadata": {},
   "outputs": [],
   "source": []
  }
 ],
 "metadata": {
  "kernelspec": {
   "display_name": "Python 3 (ipykernel)",
   "language": "python",
   "name": "python3"
  },
  "language_info": {
   "codemirror_mode": {
    "name": "ipython",
    "version": 3
   },
   "file_extension": ".py",
   "mimetype": "text/x-python",
   "name": "python",
   "nbconvert_exporter": "python",
   "pygments_lexer": "ipython3",
   "version": "3.11.7"
  }
 },
 "nbformat": 4,
 "nbformat_minor": 4
}
