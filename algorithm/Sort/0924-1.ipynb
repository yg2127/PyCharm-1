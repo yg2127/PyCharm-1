{
 "cells": [
  {
   "cell_type": "code",
   "id": "initial_id",
   "metadata": {
    "collapsed": true,
    "ExecuteTime": {
     "end_time": "2024-09-24T06:48:27.841420Z",
     "start_time": "2024-09-24T06:48:27.835562Z"
    }
   },
   "source": [
    "def left(i):\n",
    "    return 2*i+1\n",
    "def right(i):\n",
    "    return 2*i+2\n",
    "def parent(i):\n",
    "    return i//2\n",
    "    \n",
    "def heapify(arr,n,i):\n",
    "    \n",
    "    if (left(i) < len(arr) and arr[left(i)] > arr[i]):\n",
    "        largest = left(i)\n",
    "    else:\n",
    "        largest = i\n",
    "    if (right(i) < len(arr) and arr[right(i)] > arr[i]):\n",
    "        largest = right(i)\n",
    "    if largest != i:\n",
    "        arr[i],arr[largest] = arr[largest],arr[i]\n",
    "        heapify(arr,n,largest)\n",
    "\n",
    "def Build_max_heap(arr,n):\n",
    "    n = len(arr)\n",
    "    for i in range(n//2,1,-1):\n",
    "        heapify(arr,n,i)\n",
    "\n",
    "arr = [5,2,7,6,0,8,3,4,9,1]\n",
    "i = 0\n",
    "print(arr)\n",
    "print(heapify(arr,10,0))\n",
    "arr = Build_max_heap(arr,n)\n",
    "print(arr)"
   ],
   "outputs": [
    {
     "name": "stdout",
     "output_type": "stream",
     "text": [
      "[5, 2, 7, 6, 0, 8, 3, 4, 9, 1]\n",
      "None\n",
      "None\n"
     ]
    }
   ],
   "execution_count": 79
  }
 ],
 "metadata": {
  "kernelspec": {
   "display_name": "Python 3",
   "language": "python",
   "name": "python3"
  },
  "language_info": {
   "codemirror_mode": {
    "name": "ipython",
    "version": 2
   },
   "file_extension": ".py",
   "mimetype": "text/x-python",
   "name": "python",
   "nbconvert_exporter": "python",
   "pygments_lexer": "ipython2",
   "version": "2.7.6"
  }
 },
 "nbformat": 4,
 "nbformat_minor": 5
}
