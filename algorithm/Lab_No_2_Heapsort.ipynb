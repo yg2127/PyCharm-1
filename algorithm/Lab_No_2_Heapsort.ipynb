{
 "cells": [
  {
   "cell_type": "markdown",
   "metadata": {},
   "source": [
    "***Importing necessary libraries for data manipulation and visualization***"
   ]
  },
  {
   "cell_type": "code",
   "execution_count": 1,
   "metadata": {},
   "outputs": [],
   "source": [
    "from numpy import random\n",
    "import matplotlib.pyplot as plt\n",
    "import time"
   ]
  },
  {
   "cell_type": "markdown",
   "metadata": {},
   "source": [
    "# Question 1(a): Heapify Operation"
   ]
  },
  {
   "cell_type": "code",
   "execution_count": 2,
   "metadata": {},
   "outputs": [
    {
     "name": "stdout",
     "output_type": "stream",
     "text": [
      "Array after HEAPIFY: [7, 2, 8, 6, 0, 5, 3, 4, 9, 1]\n"
     ]
    }
   ],
   "source": [
    "def heapify(arr, n, i):\n",
    "    left_child = 2*i+1\n",
    "    right_child = 2*i+2\n",
    "    \n",
    "    if left_child < n and arr[left_child] > arr[i]:\n",
    "        largest = left_child\n",
    "    else: \n",
    "        largest = i\n",
    "    \n",
    "    if right_child < n and arr[right_child] > arr[largest]:\n",
    "        largest = right_child\n",
    "        \n",
    "    if largest != i:\n",
    "        arr[i], arr[largest] = arr[largest], arr[i]\n",
    "        heapify(arr, n, largest)\n",
    "\n",
    "        \n",
    "# Test heapify function\n",
    "arr = [5, 2, 7, 6, 0, 8, 3, 4, 9, 1] \n",
    "\n",
    "heapify(arr, len(arr), 0)   # ** index i = 0 only and then recursively index largest  **\n",
    "print(\"Array after HEAPIFY:\", arr) # Output: [7, 2, 8, 6, 0, 5, 3, 4, 9, 1]\n"
   ]
  },
  {
   "cell_type": "markdown",
   "metadata": {},
   "source": [
    "# Question 1(b): Build Max-Heap"
   ]
  },
  {
   "cell_type": "code",
   "execution_count": 3,
   "metadata": {},
   "outputs": [
    {
     "name": "stdout",
     "output_type": "stream",
     "text": [
      "Array after BUILD-MAX-HEAP: [9, 6, 8, 5, 1, 7, 3, 4, 2, 0]\n"
     ]
    }
   ],
   "source": [
    "def build_max_heap(arr, n):\n",
    "    for i in range(n // 2 - 1, -1, -1):  # range(start, stop, step)\n",
    "        heapify(arr, n, i)\n",
    "\n",
    "# Test build_max_heap function\n",
    "arr = [5, 2, 7, 6, 0, 8, 3, 4, 9, 1] \n",
    "n = len(arr)\n",
    "\n",
    "build_max_heap(arr, n)\n",
    "print(\"Array after BUILD-MAX-HEAP:\", arr) # Output:  [9, 6, 8, 5, 1, 7, 3, 4, 2, 0]"
   ]
  },
  {
   "cell_type": "markdown",
   "metadata": {},
   "source": [
    "# Question 1(c): Heapsort Algorithm"
   ]
  },
  {
   "cell_type": "code",
   "execution_count": 4,
   "metadata": {},
   "outputs": [
    {
     "name": "stdout",
     "output_type": "stream",
     "text": [
      "Sorted Array: [0, 1, 2, 3, 4, 5, 6, 7, 8, 9]\n"
     ]
    }
   ],
   "source": [
    "def heapsort(arr, n):\n",
    "    build_max_heap(arr, n)\n",
    "    for i in range(n - 1, 0, -1):\n",
    "        arr[0], arr[i] = arr[i], arr[0]\n",
    "\n",
    "        # Reduce the size of the heap (A.heapsize = A.heapsize - 1)\n",
    "        n-=1\n",
    "        heapify(arr, n, 0)\n",
    "\n",
    "# Test heapsort function\n",
    "arr = [5, 2, 7, 6, 0, 8, 3, 4, 9, 1] \n",
    "heapsort(arr, len(arr))\n",
    "print(\"Sorted Array:\", arr)   # Output: [0, 1, 2, 3, 4, 5, 6, 7, 8, 9]"
   ]
  },
  {
   "cell_type": "markdown",
   "metadata": {},
   "source": [
    "# Question 1(d): Time Analysis"
   ]
  },
  {
   "cell_type": "code",
   "execution_count": 5,
   "metadata": {},
   "outputs": [
    {
     "name": "stdout",
     "output_type": "stream",
     "text": [
      "arr1:  0.004004 seconds\n",
      "arr2:  0.420592 seconds\n",
      "arr3:  7.440087 seconds\n"
     ]
    }
   ],
   "source": [
    "# Test heapsort on various array sizes:\n",
    "arr1 = [random.randint(0, 1000) for _ in range(1000)]\n",
    "arr2 = [random.randint(0, 100000) for _ in range(100000)]\n",
    "arr3 = [random.randint(0, 1000000) for _ in range(1000000)]\n",
    "\n",
    "start_time = time.time()\n",
    "heapsort(arr1, len(arr1))\n",
    "# print(\"Sorted Array:\", arr1)   # Output: [5, 6, 7, 11, 12, 13]\n",
    "print(\"arr1:  %f seconds\" % (time.time() - start_time))\n",
    "\n",
    "start_time = time.time()\n",
    "heapsort(arr2, len(arr2))\n",
    "print(\"arr2:  %f seconds\" % (time.time() - start_time))\n",
    "\n",
    "start_time = time.time()\n",
    "heapsort(arr3, len(arr3))\n",
    "print(\"arr3:  %f seconds\" % (time.time() - start_time))\n"
   ]
  },
  {
   "cell_type": "markdown",
   "metadata": {},
   "source": [
    "# Question 2: Heapsort Algorithm (Descending Order)"
   ]
  },
  {
   "cell_type": "code",
   "execution_count": 6,
   "metadata": {},
   "outputs": [
    {
     "name": "stdout",
     "output_type": "stream",
     "text": [
      "Sorted Array in descending order: [9, 8, 7, 6, 5, 4, 3, 2, 1, 0]\n"
     ]
    }
   ],
   "source": [
    "def heapify_min(arr, n, i):\n",
    "    left_child = 2*i+1\n",
    "    right_child = 2*i+2\n",
    "    \n",
    "    if left_child < n and arr[left_child] < arr[i]:\n",
    "        smallest = left_child\n",
    "    else: \n",
    "        smallest = i\n",
    "    \n",
    "    if right_child < n and arr[right_child] < arr[smallest]:\n",
    "        smallest = right_child\n",
    "        \n",
    "    if smallest != i:\n",
    "        arr[i], arr[smallest] = arr[smallest], arr[i]\n",
    "        heapify_min(arr, n, smallest)\n",
    "\n",
    "        \n",
    "def build_min_heap(arr, n):\n",
    "    for i in range(n // 2 - 1, -1, -1):  # range(start, stop, step)\n",
    "        heapify_min(arr, n, i)\n",
    "\n",
    "def heapsort_descending(arr, n):\n",
    "    build_min_heap(arr, n)\n",
    "    for i in range(n - 1, 0, -1):\n",
    "        arr[0], arr[i] = arr[i], arr[0]\n",
    "\n",
    "        # Reduce the size of the heap (A.heapsize = A.heapsize - 1)\n",
    "        n-=1\n",
    "        heapify_min(arr, n, 0)\n",
    "\n",
    "# Test heapsort function\n",
    "arr = [5, 2, 7, 6, 0, 8, 3, 4, 9, 1] \n",
    "heapsort_descending(arr, len(arr))\n",
    "print(\"Sorted Array in descending order:\", arr)   # Output: [9, 8, 7, 6, 5, 4, 3, 2, 1, 0]"
   ]
  },
  {
   "cell_type": "markdown",
   "metadata": {},
   "source": [
    "# Question 4: Basic Heap Implementation"
   ]
  },
  {
   "cell_type": "code",
   "execution_count": 7,
   "metadata": {},
   "outputs": [
    {
     "name": "stdout",
     "output_type": "stream",
     "text": [
      "True\n",
      "10\n",
      "False\n"
     ]
    }
   ],
   "source": [
    "class MaxHeap:\n",
    "    def __init__(self):\n",
    "        self.heap = []\n",
    "        \n",
    "    def insert(self, val):\n",
    "        self.heap.append(val)\n",
    "        self._heapify_up(len(self.heap) - 1)\n",
    "        \n",
    "    def extract_max(self):\n",
    "        if len(self.heap) == 0:\n",
    "            return None\n",
    "        if len(self.heap) == 1:\n",
    "            return self.heap.pop()\n",
    "        \n",
    "        max_val = self.heap[0]\n",
    "        self.heap[0] = self.heap.pop()\n",
    "        self._heapify_down(0)\n",
    "        return max_val\n",
    "    \n",
    "    def is_empty(self):\n",
    "        return len(self.heap) == 0\n",
    "    \n",
    "    def _heapify_up(self, index):\n",
    "        parent = (index - 1) // 2\n",
    "        while parent >= 0 and self.heap[parent] < self.heap[index]:\n",
    "            self.heap[parent], self.heap[index] = self.heap[index], self.heap[parent]\n",
    "            index = parent\n",
    "            parent = (index - 1) // 2\n",
    "    \n",
    "    def _heapify_down(self, index):\n",
    "        left_child = 2 * index + 1\n",
    "        right_child = 2 * index + 2\n",
    "        largest = index\n",
    "        \n",
    "        if left_child < len(self.heap) and self.heap[left_child] > self.heap[largest]:\n",
    "            largest = left_child\n",
    "        if right_child < len(self.heap) and self.heap[right_child] > self.heap[largest]:\n",
    "            largest = right_child\n",
    "            \n",
    "        if largest != index:\n",
    "            self.heap[largest], self.heap[index] = self.heap[index], self.heap[largest]\n",
    "            self._heapify_down(largest)\n",
    "            \n",
    "# Test MaxHeap class\n",
    "max_heap = MaxHeap()\n",
    "\n",
    "print(max_heap.is_empty())\n",
    "\n",
    "max_heap.insert(5)\n",
    "max_heap.insert(10)\n",
    "max_heap.insert(3)\n",
    "print(max_heap.extract_max())  # Output: 10\n",
    "\n",
    "print(max_heap.is_empty())"
   ]
  },
  {
   "cell_type": "markdown",
   "metadata": {},
   "source": [
    "# Comparison: Inserion Sort, Merge Sort, Selection Sort, Heap Sort"
   ]
  },
  {
   "cell_type": "code",
   "execution_count": null,
   "metadata": {},
   "outputs": [],
   "source": [
    "# Compare execution time\n",
    "sizes = [100, 1000, 10000, 100000]\n",
    "insertion_times = []\n",
    "merge_times = []\n",
    "selection_times = []\n",
    "heap_times = []\n",
    "# - - - - - - - - - - - - - - - - - - - - - - - - - \n",
    "def insertion_sort(arr):  # Ascending\n",
    "    for i in range(1, len(arr)):\n",
    "        key = arr[i]\n",
    "        j = i - 1\n",
    "\n",
    "        while j >= 0 and arr[j] > key:\n",
    "            arr[j + 1] = arr[j]\n",
    "            j -= 1\n",
    "\n",
    "        arr[j + 1] = key\n",
    "# - - - - - - - - - - - - - - - - - - - - - - - - - \n",
    "def merge_sort(arr):\n",
    "    if len(arr) > 1:\n",
    "        mid = len(arr) // 2\n",
    "        left_half = arr[:mid]\n",
    "        right_half = arr[mid:]\n",
    "        # print(left_half)\n",
    "\n",
    "        merge_sort(left_half)    # recursively sort\n",
    "        merge_sort(right_half)   # recursively sort\n",
    "        \n",
    "\n",
    "        i = j = k = 0\n",
    "\n",
    "        while i < len(left_half) and j < len(right_half):\n",
    "            if left_half[i] < right_half[j]:\n",
    "                arr[k] = left_half[i]\n",
    "                i += 1\n",
    "            else:\n",
    "                arr[k] = right_half[j]\n",
    "                j += 1\n",
    "            k += 1\n",
    "\n",
    "        while i < len(left_half):\n",
    "            arr[k] = left_half[i]\n",
    "            i += 1\n",
    "            k += 1\n",
    "\n",
    "        while j < len(right_half):\n",
    "            arr[k] = right_half[j]\n",
    "            j += 1\n",
    "            k += 1\n",
    "# - - - - - - - - - - - - - - - - - - - - - - - - - \n",
    "def selection_sort(arr):\n",
    "    n = len(arr)\n",
    "    \n",
    "    for i in range(n):\n",
    "        min_index = i\n",
    "        \n",
    "        for j in range(i+1, n):\n",
    "            if arr[j] < arr[min_index]:\n",
    "                min_index = j\n",
    "        \n",
    "        # Swap the minimum element with the first element in the unsorted part\n",
    "        arr[i], arr[min_index] = arr[min_index], arr[i]\n",
    "# - - - - - - - - - - - - - - - - - - - - - - - - - \n",
    "\n",
    "for size in sizes:\n",
    "    arr_insertion = [random.randint(0, 10000) for _ in range(size)]\n",
    "    arr_merge = arr_insertion.copy()\n",
    "    arr_selection = arr_insertion.copy()\n",
    "    arr_heap = arr_insertion.copy()\n",
    "\n",
    "    start_time = time.time()\n",
    "    insertion_sort(arr_insertion)\n",
    "    insertion_times.append(time.time() - start_time)\n",
    "\n",
    "    start_time = time.time()\n",
    "    merge_sort(arr_merge)\n",
    "    merge_times.append(time.time() - start_time)\n",
    "    \n",
    "    start_time = time.time()\n",
    "    selection_sort(arr_selection)\n",
    "    selection_times.append(time.time() - start_time)\n",
    "    \n",
    "    start_time = time.time()\n",
    "    heapsort(arr_heap, len(arr_heap))\n",
    "    heap_times.append(time.time() - start_time)\n",
    "\n",
    "plt.plot(sizes, insertion_times, label='Insertion Sort')\n",
    "plt.plot(sizes, merge_times, label='Merge Sort')\n",
    "plt.plot(sizes, selection_times, label='Selection Sort')\n",
    "plt.plot(sizes, heap_times, label='Heap Sort')\n",
    "plt.xlabel('Input Size')\n",
    "plt.ylabel('Execution Time')\n",
    "plt.legend()\n",
    "plt.show()"
   ]
  },
  {
   "cell_type": "code",
   "execution_count": null,
   "metadata": {},
   "outputs": [],
   "source": []
  }
 ],
 "metadata": {
  "kernelspec": {
   "display_name": "Python 3 (ipykernel)",
   "language": "python",
   "name": "python3"
  },
  "language_info": {
   "codemirror_mode": {
    "name": "ipython",
    "version": 3
   },
   "file_extension": ".py",
   "mimetype": "text/x-python",
   "name": "python",
   "nbconvert_exporter": "python",
   "pygments_lexer": "ipython3",
   "version": "3.11.7"
  }
 },
 "nbformat": 4,
 "nbformat_minor": 4
}
