{
 "cells": [
  {
   "cell_type": "code",
   "id": "initial_id",
   "metadata": {
    "collapsed": true,
    "ExecuteTime": {
     "end_time": "2025-05-26T07:07:48.220071Z",
     "start_time": "2025-05-26T07:07:48.216474Z"
    }
   },
   "source": [
    "import torch as t\n",
    "import torch.nn as nn"
   ],
   "outputs": [],
   "execution_count": 11
  },
  {
   "metadata": {
    "ExecuteTime": {
     "end_time": "2025-05-26T07:08:08.997458Z",
     "start_time": "2025-05-26T07:08:08.991278Z"
    }
   },
   "cell_type": "code",
   "source": [
    "class MyLinear(nn.Module):\n",
    "    def __init__(self, input_dim=3, output_dim = 2):\n",
    "        self.input_dim = input_dim\n",
    "        self.output_dim = output_dim\n",
    "\n",
    "        super().__init__()\n",
    "\n",
    "        self.W = nn.Parameter(t.FloatTensor(input_dim, output_dim))\n",
    "        self.b = nn.Parameter(t.FloatTensor(output_dim))\n",
    "\n",
    "    def forward(self, x):\n",
    "        #선형 변환 수행: y = wx + b\n",
    "        y = t.matmul(x, self.W)+self.b\n",
    "        return y"
   ],
   "id": "ea7725acd291afe3",
   "outputs": [],
   "execution_count": 15
  },
  {
   "metadata": {
    "ExecuteTime": {
     "end_time": "2025-05-26T07:12:20.200234Z",
     "start_time": "2025-05-26T07:12:20.193751Z"
    }
   },
   "cell_type": "code",
   "source": [
    "W = t.FloatTensor([i for i in range(1,7)]).reshape(3,2)\n",
    "b = t.FloatTensor([2,2])\n",
    "x = t.FloatTensor(4,3)\n",
    "\n",
    "print(W, b, x)"
   ],
   "id": "b315813c32ea0a98",
   "outputs": [
    {
     "name": "stdout",
     "output_type": "stream",
     "text": [
      "tensor([[1., 2.],\n",
      "        [3., 4.],\n",
      "        [5., 6.]]) tensor([2., 2.]) tensor([[0., 0., 0.],\n",
      "        [0., 0., 0.],\n",
      "        [0., 0., 0.],\n",
      "        [0., 0., 0.]])\n"
     ]
    }
   ],
   "execution_count": 19
  },
  {
   "metadata": {
    "ExecuteTime": {
     "end_time": "2025-05-26T07:08:09.877932Z",
     "start_time": "2025-05-26T07:08:09.865294Z"
    }
   },
   "cell_type": "code",
   "source": [
    "linear = MyLinear(3,2)\n",
    "y = linear(x)\n",
    "\n",
    "for p in linear.parameters():\n",
    "    print(p)"
   ],
   "id": "40664e70863deeea",
   "outputs": [
    {
     "name": "stdout",
     "output_type": "stream",
     "text": [
      "Parameter containing:\n",
      "tensor([[0., 0.],\n",
      "        [0., 0.],\n",
      "        [0., 0.]], requires_grad=True)\n",
      "Parameter containing:\n",
      "tensor([0., 0.], requires_grad=True)\n"
     ]
    }
   ],
   "execution_count": 17
  },
  {
   "metadata": {
    "ExecuteTime": {
     "end_time": "2025-05-26T07:10:00.065531Z",
     "start_time": "2025-05-26T07:10:00.054718Z"
    }
   },
   "cell_type": "code",
   "source": [
    "#torch.nn에 구현된 선형 계층 사용하기\n",
    "\n",
    "linear = nn.Linear(3, 2)\n",
    "y = linear(x)\n",
    "\n",
    "for p in linear.parameters():\n",
    "    print(p)"
   ],
   "id": "966eca0b88aff7b8",
   "outputs": [
    {
     "name": "stdout",
     "output_type": "stream",
     "text": [
      "Parameter containing:\n",
      "tensor([[ 0.1862, -0.4688, -0.0785],\n",
      "        [ 0.0909, -0.2871,  0.0970]], requires_grad=True)\n",
      "Parameter containing:\n",
      "tensor([-0.4769,  0.4580], requires_grad=True)\n"
     ]
    }
   ],
   "execution_count": 18
  },
  {
   "metadata": {},
   "cell_type": "code",
   "outputs": [],
   "execution_count": null,
   "source": "",
   "id": "229e4e3b21ef9484"
  }
 ],
 "metadata": {
  "kernelspec": {
   "display_name": "Python 3",
   "language": "python",
   "name": "python3"
  },
  "language_info": {
   "codemirror_mode": {
    "name": "ipython",
    "version": 2
   },
   "file_extension": ".py",
   "mimetype": "text/x-python",
   "name": "python",
   "nbconvert_exporter": "python",
   "pygments_lexer": "ipython2",
   "version": "2.7.6"
  }
 },
 "nbformat": 4,
 "nbformat_minor": 5
}
