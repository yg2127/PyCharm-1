{
 "cells": [
  {
   "cell_type": "markdown",
   "metadata": {
    "id": "5VY4ER17dTnb"
   },
   "source": [
    "# Question 1: Left-Rotate Operation:\n",
    "**Construct a sample Red-Black Tree including color attribute. Implement the left-rotate operation for a Red-Black Tree. Write a Python function that takes the root of a tree and performs a left rotation.**"
   ]
  },
  {
   "cell_type": "code",
   "execution_count": 14,
   "metadata": {
    "colab": {
     "base_uri": "https://localhost:8080/"
    },
    "id": "jEpdxNLedTne",
    "outputId": "bf028e07-7e80-4f89-f174-807f9cde3073"
   },
   "outputs": [
    {
     "name": "stdout",
     "output_type": "stream",
     "text": [
      "Root: 10(B)\n",
      "    L--- 5(R)\n",
      "    R--- 15(R)\n",
      "        L--- 13(B)\n",
      "        R--- 17(B)\n"
     ]
    }
   ],
   "source": [
    "# Construct a simple RBT\n",
    "class TreeNode:\n",
    "    def __init__(self, key, color, left=None, right=None, parent=None):\n",
    "        self.key = key\n",
    "        self.color = color  # 'R' for red, 'B' for black\n",
    "        self.left = left\n",
    "        self.right = right\n",
    "        self.parent = parent\n",
    "\n",
    "# Function to print the tree for visualization\n",
    "def print_tree(root, level=0, prefix=\"Root: \"):\n",
    "    if root is not None:\n",
    "        print(\" \" * (level * 4) + prefix + str(root.key) + \"(\" + str(root.color) + \")\")\n",
    "        if root.left is not None or root.right is not None:\n",
    "            if root.left:\n",
    "                print_tree(root.left, level + 1, \"L--- \")\n",
    "            if root.right:\n",
    "                print_tree(root.right, level + 1, \"R--- \")\n",
    "\n",
    "\n",
    "# Create a sample Red-Black Tree\n",
    "root = TreeNode(10, 'B')\n",
    "root.left = TreeNode(5, 'R', parent=root)\n",
    "root.right = TreeNode(15, 'R', parent=root)\n",
    "root.right.left = TreeNode(13, 'B', parent=root.right)\n",
    "root.right.right = TreeNode(17, 'B', parent=root.right)\n",
    "\n",
    "print_tree(root)\n"
   ]
  },
  {
   "cell_type": "code",
   "execution_count": 15,
   "metadata": {
    "colab": {
     "base_uri": "https://localhost:8080/"
    },
    "id": "klHMf-L_meyU",
    "outputId": "23cbcca6-1d52-4405-8bbd-950118ab3c67"
   },
   "outputs": [
    {
     "name": "stdout",
     "output_type": "stream",
     "text": [
      "Original RBT\n",
      "Root: 10(B)\n",
      "    L--- 5(R)\n",
      "    R--- 15(R)\n",
      "        L--- 13(B)\n",
      "        R--- 17(B)\n",
      "RBT after Reft-Rotate\n",
      "Root: 10(B)\n",
      "    L--- 5(R)\n",
      "    R--- 17(B)\n",
      "        L--- 15(R)\n",
      "            L--- 13(B)\n"
     ]
    }
   ],
   "source": [
    "# Left Rotate Function\n",
    "def left_rotate(root, x):\n",
    "    y = x.right\n",
    "    x.right = y.left\n",
    "    if y.left:\n",
    "        y.left.parent = x\n",
    "    y.parent = x.parent\n",
    "    if not x.parent:\n",
    "        root = y\n",
    "    elif x == x.parent.left:\n",
    "        x.parent.left = y\n",
    "    else:\n",
    "        x.parent.right = y\n",
    "    y.left = x\n",
    "    x.parent = y\n",
    "    return root\n",
    "\n",
    "\n",
    "# Create a sample Red-Black Tree\n",
    "root = TreeNode(10, 'B')\n",
    "root.left = TreeNode(5, 'R', parent=root)\n",
    "root.right = TreeNode(15, 'R', parent=root)\n",
    "root.right.left = TreeNode(13, 'B', parent=root.right)\n",
    "root.right.right = TreeNode(17, 'B', parent=root.right)\n",
    "\n",
    "print(\"Original RBT\")\n",
    "print_tree(root)\n",
    "\n",
    "# Perform a left-rotate operation on the root\n",
    "root = left_rotate(root, root.right)   # '17 will rotate around 15'!\n",
    "# root = left_rotate(root, root)   \n",
    "\n",
    "print(\"RBT after Reft-Rotate\")\n",
    "print_tree(root)"
   ]
  },
  {
   "cell_type": "markdown",
   "metadata": {
    "id": "LQSYkFCCdTnj"
   },
   "source": [
    "# Question 2: Right-Rotate Operation\n",
    "**Implement the right-rotate operation for a Red-Black Tree. Write a Python function that takes the root of a tree and performs a right rotation.**"
   ]
  },
  {
   "cell_type": "code",
   "execution_count": 16,
   "metadata": {
    "colab": {
     "base_uri": "https://localhost:8080/"
    },
    "id": "r9tRIQwhdTnk",
    "outputId": "71e4b193-830f-4780-dfb2-1e0d25f0a0fe"
   },
   "outputs": [
    {
     "name": "stdout",
     "output_type": "stream",
     "text": [
      "===Before Right Rotation===\n",
      "Root: 10(B)\n",
      "    L--- 5(R)\n",
      "    R--- 15(R)\n",
      "        L--- 13(B)\n",
      "        R--- 17(B)\n",
      "===After Right Rotation===\n",
      "Root: 10(B)\n",
      "    L--- 5(R)\n",
      "    R--- 13(B)\n",
      "        R--- 15(R)\n",
      "            R--- 17(B)\n"
     ]
    }
   ],
   "source": [
    "class TreeNode:\n",
    "    def __init__(self, key, color, left=None, right=None, parent=None):\n",
    "        self.key = key\n",
    "        self.color = color  # 'R' for red, 'B' for black\n",
    "        self.left = left\n",
    "        self.right = right\n",
    "        self.parent = parent\n",
    "\n",
    "    \n",
    "def right_rotate(root, y):\n",
    "    x = y.left\n",
    "    y.left = x.right\n",
    "    if x.right:\n",
    "        x.right.parent = y\n",
    "    x.parent = y.parent\n",
    "    if not y.parent:\n",
    "        root = x\n",
    "    elif y == y.parent.right:\n",
    "        y.parent.right = x\n",
    "    else:\n",
    "        y.parent.left = x\n",
    "    x.right = y\n",
    "    y.parent = x\n",
    "    return root\n",
    "\n",
    "\n",
    "\n",
    "# Create a sample Red-Black Tree\n",
    "root = TreeNode(10, 'B')\n",
    "root.left = TreeNode(5, 'R', parent=root)\n",
    "root.right = TreeNode(15, 'R', parent=root)\n",
    "root.right.left = TreeNode(13, 'B', parent=root.right)\n",
    "root.right.right = TreeNode(17, 'B', parent=root.right)\n",
    "\n",
    "# Perform a right-rotate operation on the root\n",
    "print('===Before Right Rotation===')\n",
    "print_tree(root)\n",
    "\n",
    "root = right_rotate(root, root.right)\n",
    "# root = right_rotate(root, root)\n",
    "\n",
    "print('===After Right Rotation===')\n",
    "print_tree(root)\n"
   ]
  },
  {
   "cell_type": "markdown",
   "metadata": {
    "id": "SGuR5QK-dTnl"
   },
   "source": [
    "# Question 3: RB-Insert Operation\n",
    "**Implement the RB-Insert operation for a Red-Black Tree. Create a Python function that inserts a new node into the tree while preserving the Red-Black Tree properties. To do so, you need to call RB-Insert-FIXUP. Test the function by inserting multiple nodes and ensuring the tree remains balanced and correctly colored.**"
   ]
  },
  {
   "cell_type": "code",
   "execution_count": 3,
   "metadata": {
    "colab": {
     "base_uri": "https://localhost:8080/"
    },
    "id": "W4jzv1GedTnl",
    "outputId": "59e3bb65-f15c-438d-d1af-790b71cc8e9c"
   },
   "outputs": [
    {
     "name": "stdout",
     "output_type": "stream",
     "text": [
      "Red-Black Tree:\n",
      "└── 10 (B)\n",
      "    ├── 5 (B)\n",
      "    │   ├── 3 (R)\n",
      "    │   │   ├── None (B)\n",
      "    │   │   └── None (B)\n",
      "    │   └── 7 (R)\n",
      "    │       ├── None (B)\n",
      "    │       └── None (B)\n",
      "    └── 15 (B)\n",
      "        ├── 12 (R)\n",
      "        │   ├── None (B)\n",
      "        │   └── None (B)\n",
      "        └── 17 (R)\n",
      "            ├── None (B)\n",
      "            └── None (B)\n"
     ]
    }
   ],
   "source": [
    "# Red-Black Tree Node Structure\n",
    "class RBNode:\n",
    "    def __init__(self, key, color='R', left=None, right=None, parent=None):\n",
    "        self.key = key\n",
    "        self.color = color\n",
    "        self.left = left\n",
    "        self.right = right\n",
    "        self.parent = parent\n",
    "\n",
    "# Red-Black Tree Class\n",
    "class RedBlackTree:\n",
    "    def __init__(self):\n",
    "        self.nil = RBNode(None, 'B')\n",
    "        self.root = self.nil\n",
    "\n",
    "    # Define your RB-Insert and RB-Insert-FIXUP functions here.\n",
    "    def rb_insert(self, key):\n",
    "      new_node = RBNode(key)\n",
    "      y = self.nil\n",
    "      x = self.root\n",
    "\n",
    "      while x != self.nil:\n",
    "          y = x\n",
    "          if new_node.key < x.key:\n",
    "              x = x.left\n",
    "          else:\n",
    "              x = x.right\n",
    "\n",
    "      new_node.parent = y\n",
    "      if y == self.nil:\n",
    "          self.root = new_node\n",
    "      elif new_node.key < y.key:\n",
    "          y.left = new_node\n",
    "      else:\n",
    "          y.right = new_node\n",
    "\n",
    "      new_node.left = self.nil\n",
    "      new_node.right = self.nil\n",
    "      new_node.color = 'R'\n",
    "\n",
    "      self.rb_insert_fixup(new_node)\n",
    "\n",
    "    def rb_insert_fixup(self, z):\n",
    "      while z.parent.color == 'R':\n",
    "        if z.parent == z.parent.parent.left:\n",
    "            y = z.parent.parent.right\n",
    "            if y.color == 'R':\n",
    "                z.parent.color = 'B'\n",
    "                y.color = 'B'\n",
    "                z.parent.parent.color = 'R'\n",
    "                z = z.parent.parent\n",
    "            else:\n",
    "                if z == z.parent.right:\n",
    "                    z = z.parent\n",
    "                    self.left_rotate(z)\n",
    "                z.parent.color = 'B'\n",
    "                z.parent.parent.color = 'R'\n",
    "                self.right_rotate(z.parent.parent)\n",
    "        else:\n",
    "            y = z.parent.parent.left\n",
    "            if y.color == 'R':\n",
    "                z.parent.color = 'B'\n",
    "                y.color = 'B'\n",
    "                z.parent.parent.color = 'R'\n",
    "                z = z.parent.parent\n",
    "            else:\n",
    "                if z == z.parent.left:\n",
    "                    z = z.parent\n",
    "                    self.right_rotate(z)\n",
    "                z.parent.color = 'B'\n",
    "                z.parent.parent.color = 'R'\n",
    "                self.left_rotate(z.parent.parent)\n",
    "\n",
    "      self.root.color = 'B'\n",
    "    \n",
    "\n",
    "    def print_tree(self):\n",
    "        self.print_tree_recursive(self.root, \"\", True)\n",
    "\n",
    "    def print_tree_recursive(self, node, indent, last):\n",
    "        if node is not None:\n",
    "            color = \"R\" if node.color == 'R' else \"B\"\n",
    "            print(indent, end=\"\")\n",
    "            if last:\n",
    "                print(\"└── \", end=\"\")\n",
    "                indent += \"    \"\n",
    "            else:\n",
    "                print(\"├── \", end=\"\")\n",
    "                indent += \"│   \"\n",
    "            print(f\"{node.key} ({color})\")\n",
    "            self.print_tree_recursive(node.left, indent, False)\n",
    "            self.print_tree_recursive(node.right, indent, True)\n",
    "\n",
    "\n",
    "# ----------------------------------------------------\n",
    "# Testing the RB-Insert Operation\n",
    "# Create a Red-Black Tree instance\n",
    "rbt = RedBlackTree()\n",
    "\n",
    "# Insert nodes into the Red-Black Tree\n",
    "keys_to_insert = [10, 5, 15, 3, 7, 12, 17]\n",
    "\n",
    "for key in keys_to_insert:\n",
    "    rbt.rb_insert(key)\n",
    "\n",
    "print(\"Red-Black Tree:\")\n",
    "rbt.print_tree()"
   ]
  },
  {
   "cell_type": "code",
   "execution_count": 4,
   "metadata": {
    "scrolled": true
   },
   "outputs": [
    {
     "name": "stdout",
     "output_type": "stream",
     "text": [
      "└── 10 (B)\n",
      "    ├── 5 (B)\n",
      "    │   ├── 3 (R)\n",
      "    │   │   ├── None (B)\n",
      "    │   │   └── None (B)\n",
      "    │   └── 7 (R)\n",
      "    │       ├── None (B)\n",
      "    │       └── None (B)\n",
      "    └── 15 (R)\n",
      "        ├── 12 (B)\n",
      "        │   ├── None (B)\n",
      "        │   └── None (B)\n",
      "        └── 17 (B)\n",
      "            ├── None (B)\n",
      "            └── 20 (R)\n",
      "                ├── None (B)\n",
      "                └── None (B)\n"
     ]
    }
   ],
   "source": [
    "#\n",
    "rbt.rb_insert(20)\n",
    "rbt.print_tree()"
   ]
  },
  {
   "cell_type": "code",
   "execution_count": null,
   "metadata": {},
   "outputs": [],
   "source": []
  }
 ],
 "metadata": {
  "colab": {
   "provenance": []
  },
  "kernelspec": {
   "display_name": "Python 3",
   "language": "python",
   "name": "python3"
  },
  "language_info": {
   "codemirror_mode": {
    "name": "ipython",
    "version": 3
   },
   "file_extension": ".py",
   "mimetype": "text/x-python",
   "name": "python",
   "nbconvert_exporter": "python",
   "pygments_lexer": "ipython3",
   "version": "3.7.3"
  }
 },
 "nbformat": 4,
 "nbformat_minor": 4
}
