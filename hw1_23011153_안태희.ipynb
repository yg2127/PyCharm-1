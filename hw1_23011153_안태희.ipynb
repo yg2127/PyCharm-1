{
 "cells": [
  {
   "cell_type": "code",
   "id": "initial_id",
   "metadata": {
    "collapsed": true,
    "ExecuteTime": {
     "end_time": "2025-03-15T18:23:12.719662Z",
     "start_time": "2025-03-15T18:23:12.715311Z"
    }
   },
   "source": [
    "a = '2024'\n",
    "b = '09'\n",
    "print(a+b)"
   ],
   "outputs": [
    {
     "name": "stdout",
     "output_type": "stream",
     "text": [
      "202409\n"
     ]
    }
   ],
   "execution_count": 1
  },
  {
   "metadata": {
    "ExecuteTime": {
     "end_time": "2025-03-15T18:25:24.162084Z",
     "start_time": "2025-03-15T18:25:17.246283Z"
    }
   },
   "cell_type": "code",
   "source": [
    "n = int(input())\n",
    "print(2050-n+1)"
   ],
   "id": "692b1e49038ea597",
   "outputs": [
    {
     "name": "stdout",
     "output_type": "stream",
     "text": [
      "50\n"
     ]
    }
   ],
   "execution_count": 2
  },
  {
   "metadata": {
    "ExecuteTime": {
     "end_time": "2025-03-15T18:28:37.505603Z",
     "start_time": "2025-03-15T18:28:37.501849Z"
    }
   },
   "cell_type": "code",
   "source": [
    "sum = 0\n",
    "for i in range(1, 101):\n",
    "    if (i % 7 == 0):\n",
    "        sum += i\n",
    "print(sum)"
   ],
   "id": "6231fb5b7d05359b",
   "outputs": [
    {
     "name": "stdout",
     "output_type": "stream",
     "text": [
      "735\n"
     ]
    }
   ],
   "execution_count": 3
  },
  {
   "metadata": {
    "ExecuteTime": {
     "end_time": "2025-03-15T18:42:58.908678Z",
     "start_time": "2025-03-15T18:42:58.904328Z"
    }
   },
   "cell_type": "code",
   "source": [
    "import numpy as np\n",
    "x = np.array([[1,2,3,4,5],[6,7,8,9,10]], int)\n",
    "print(x)\n",
    "\n",
    "print(x[:,1::2])"
   ],
   "id": "343be4d9911473be",
   "outputs": [
    {
     "name": "stdout",
     "output_type": "stream",
     "text": [
      "[[ 1  2  3  4  5]\n",
      " [ 6  7  8  9 10]]\n",
      "[[2 4]\n",
      " [7 9]]\n"
     ]
    }
   ],
   "execution_count": 14
  },
  {
   "metadata": {},
   "cell_type": "code",
   "outputs": [],
   "execution_count": null,
   "source": "",
   "id": "a0d48c38a53235df"
  }
 ],
 "metadata": {
  "kernelspec": {
   "display_name": "Python 3",
   "language": "python",
   "name": "python3"
  },
  "language_info": {
   "codemirror_mode": {
    "name": "ipython",
    "version": 2
   },
   "file_extension": ".py",
   "mimetype": "text/x-python",
   "name": "python",
   "nbconvert_exporter": "python",
   "pygments_lexer": "ipython2",
   "version": "2.7.6"
  }
 },
 "nbformat": 4,
 "nbformat_minor": 5
}
