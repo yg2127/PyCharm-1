{
 "cells": [
  {
   "cell_type": "code",
   "id": "initial_id",
   "metadata": {
    "collapsed": true,
    "ExecuteTime": {
     "end_time": "2024-09-20T09:13:21.125935Z",
     "start_time": "2024-09-20T09:13:21.122203Z"
    }
   },
   "source": [
    "a = '2024'\n",
    "b = '09'\n",
    "print(a + b)"
   ],
   "outputs": [
    {
     "name": "stdout",
     "output_type": "stream",
     "text": [
      "202409\n"
     ]
    }
   ],
   "execution_count": 1
  },
  {
   "metadata": {
    "ExecuteTime": {
     "end_time": "2024-09-20T09:18:17.190696Z",
     "start_time": "2024-09-20T09:18:14.174669Z"
    }
   },
   "cell_type": "code",
   "source": [
    "n = int(input())\n",
    "b = 2050\n",
    "print(\"만 %d살\" %(b - n))"
   ],
   "id": "4303bb2c62ba72a8",
   "outputs": [
    {
     "name": "stdout",
     "output_type": "stream",
     "text": [
      "만 49살\n"
     ]
    }
   ],
   "execution_count": 5
  },
  {
   "metadata": {
    "ExecuteTime": {
     "end_time": "2024-09-20T09:16:14.639619Z",
     "start_time": "2024-09-20T09:16:14.635526Z"
    }
   },
   "cell_type": "code",
   "source": [
    "c = 0\n",
    "\n",
    "for i in range(1,101):\n",
    "    if i % 7 == 0:\n",
    "        c+=i\n",
    "print(c)"
   ],
   "id": "afbef1975454545",
   "outputs": [
    {
     "name": "stdout",
     "output_type": "stream",
     "text": [
      "735\n"
     ]
    }
   ],
   "execution_count": 3
  },
  {
   "metadata": {
    "ExecuteTime": {
     "end_time": "2025-03-15T18:34:44.274779Z",
     "start_time": "2025-03-15T18:34:44.271647Z"
    }
   },
   "cell_type": "code",
   "source": [
    "import numpy as np\n",
    "x = np.array([[2,4],[7,9]],int)\n",
    "print(x)"
   ],
   "id": "cfe31fa0b04430a1",
   "outputs": [
    {
     "name": "stdout",
     "output_type": "stream",
     "text": [
      "[[2 4]\n",
      " [7 9]]\n"
     ]
    }
   ],
   "execution_count": 2
  },
  {
   "metadata": {},
   "cell_type": "code",
   "outputs": [],
   "execution_count": null,
   "source": "",
   "id": "f11940b0aac20683"
  }
 ],
 "metadata": {
  "kernelspec": {
   "display_name": "Python 3",
   "language": "python",
   "name": "python3"
  },
  "language_info": {
   "codemirror_mode": {
    "name": "ipython",
    "version": 2
   },
   "file_extension": ".py",
   "mimetype": "text/x-python",
   "name": "python",
   "nbconvert_exporter": "python",
   "pygments_lexer": "ipython2",
   "version": "2.7.6"
  }
 },
 "nbformat": 4,
 "nbformat_minor": 5
}
