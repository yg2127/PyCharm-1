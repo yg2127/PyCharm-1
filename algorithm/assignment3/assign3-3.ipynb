{
 "cells": [
  {
   "cell_type": "code",
   "id": "initial_id",
   "metadata": {
    "collapsed": true,
    "ExecuteTime": {
     "end_time": "2024-11-25T12:48:15.349695Z",
     "start_time": "2024-11-25T12:48:15.344186Z"
    }
   },
   "source": [
    "# Linear Probing\n",
    "\n",
    "class HashTable_l:\n",
    "    def __init__(self, size):\n",
    "        self.size = size\n",
    "        self.table = [None] * size\n",
    "\n",
    "    def hash_function(self, key):\n",
    "        return key % self.size  # Using the Division Method\n",
    "\n",
    "    def insert(self, key, value):\n",
    "        index = self.hash_function(key)\n",
    "        if self.table[index] is None:\n",
    "            self.table[index] = (key, value)\n",
    "        else:\n",
    "            # Linear probing until an empty slot is found **************\n",
    "            while self.table[index] is not None:\n",
    "                index = (index + 1) % self.size        # <<<<<<<<<<< linear probing: 𝒉(𝒌)=(𝒉′(𝒌)+𝒊)  𝒎𝒐𝒅 𝒎 \n",
    "            self.table[index] = (key, value)\n",
    "\n",
    "    def search(self, key):\n",
    "        index = self.hash_function(key)\n",
    "        original_index = index\n",
    "        while self.table[index] is not None:\n",
    "            if self.table[index][0] == key:\n",
    "                return self.table[index][1]\n",
    "            index = (index + 1) % self.size\n",
    "            if index == original_index:\n",
    "                break\n",
    "        return None\n",
    "\n",
    "    def delete(self, key):\n",
    "        index = self.hash_function(key)\n",
    "        original_index = index\n",
    "        while self.table[index] is not None:\n",
    "            if self.table[index][0] == key:\n",
    "                self.table[index] = None\n",
    "                return\n",
    "            index = (index + 1) % self.size\n",
    "            if index == original_index:\n",
    "                break\n",
    "\n",
    "    def display(self):\n",
    "        for index, item in enumerate(self.table):\n",
    "            if item:\n",
    "                print(f\"Index {index}: Key: {item[0]}, Value: {item[1]}\")"
   ],
   "outputs": [],
   "execution_count": 1
  },
  {
   "metadata": {
    "ExecuteTime": {
     "end_time": "2024-11-25T12:50:10.671416Z",
     "start_time": "2024-11-25T12:50:10.668212Z"
    }
   },
   "cell_type": "code",
   "source": [
    "ht_a = HashTable_l(11)\n",
    "\n",
    "keys = [129, 315, 912, 439, 239, 328, 555, 101]\n",
    "for key in keys:\n",
    "    ht_a.insert(key, key)\n",
    "\n",
    "ht_a.display()"
   ],
   "id": "29ae1c880322aa75",
   "outputs": [
    {
     "name": "stdout",
     "output_type": "stream",
     "text": [
      "Index 0: Key: 439, Value: 439\n",
      "Index 1: Key: 328, Value: 328\n",
      "Index 2: Key: 101, Value: 101\n",
      "Index 5: Key: 555, Value: 555\n",
      "Index 7: Key: 315, Value: 315\n",
      "Index 8: Key: 129, Value: 129\n",
      "Index 9: Key: 239, Value: 239\n",
      "Index 10: Key: 912, Value: 912\n"
     ]
    }
   ],
   "execution_count": 2
  },
  {
   "metadata": {
    "ExecuteTime": {
     "end_time": "2024-11-25T12:51:39.548400Z",
     "start_time": "2024-11-25T12:51:39.537530Z"
    }
   },
   "cell_type": "code",
   "source": [
    "#Quadratic probing\n",
    "\n",
    "class HashTableQuadratic:\n",
    "    def __init__(self, size):\n",
    "        self.size = size\n",
    "        self.table = [None] * size\n",
    "\n",
    "    def hash_function(self, key):\n",
    "        return key % self.size  # Using the Division Method\n",
    "\n",
    "    def insert(self, key, value):\n",
    "        index = self.hash_function(key)\n",
    "        original_index = index\n",
    "        i = 1                                                 # <<<< Probes\n",
    "        while self.table[index] is not None:\n",
    "            index = (original_index + i ** 2) % self.size     # <<<<<<< Quadratic probing: 𝒉(𝒌,𝒊)=(𝒉′(𝒌)+𝒊^𝟐 )  𝒎𝒐𝒅 𝒎 ****\n",
    "            i += 1\n",
    "            if index == original_index:\n",
    "                raise ValueError(\"Table is full\")\n",
    "        self.table[index] = (key, value)\n",
    "\n",
    "    def search(self, key):\n",
    "        index = self.hash_function(key)\n",
    "        original_index = index\n",
    "        i = 1\n",
    "        while self.table[index] is not None:\n",
    "            if self.table[index][0] == key:\n",
    "                return self.table[index][1]\n",
    "            index = (original_index + i ** 2) % self.size\n",
    "            i += 1\n",
    "            if index == original_index:\n",
    "                break\n",
    "        return None\n",
    "\n",
    "    def delete(self, key):\n",
    "        index = self.hash_function(key)\n",
    "        original_index = index\n",
    "        i = 1\n",
    "        while self.table[index] is not None:\n",
    "            if self.table[index][0] == key:\n",
    "                self.table[index] = None\n",
    "                return\n",
    "            index = (original_index + i ** 2) % self.size\n",
    "            i += 1\n",
    "            if index == original_index:\n",
    "                break\n",
    "\n",
    "    def display(self):\n",
    "        for index, item in enumerate(self.table):\n",
    "            if item:\n",
    "                print(f\"Index {index}: Key: {item[0]}, Value: {item[1]}\")"
   ],
   "id": "5348f9475e99634a",
   "outputs": [],
   "execution_count": 3
  },
  {
   "metadata": {},
   "cell_type": "code",
   "outputs": [],
   "execution_count": null,
   "source": [
    "ht_b = HashTableQuadratic(11)\n",
    "\n",
    "keys = [129, 315, 912, 439, 239, 328, 555, 101]\n",
    "for key in keys:\n",
    "    ht_b.insert(key, key)\n",
    "\n",
    "ht_b.display()"
   ],
   "id": "99d3034889d32f4f"
  }
 ],
 "metadata": {
  "kernelspec": {
   "display_name": "Python 3",
   "language": "python",
   "name": "python3"
  },
  "language_info": {
   "codemirror_mode": {
    "name": "ipython",
    "version": 2
   },
   "file_extension": ".py",
   "mimetype": "text/x-python",
   "name": "python",
   "nbconvert_exporter": "python",
   "pygments_lexer": "ipython2",
   "version": "2.7.6"
  }
 },
 "nbformat": 4,
 "nbformat_minor": 5
}
