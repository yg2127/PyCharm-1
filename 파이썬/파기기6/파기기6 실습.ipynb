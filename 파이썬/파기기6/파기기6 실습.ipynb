{
 "cells": [
  {
   "cell_type": "code",
   "id": "initial_id",
   "metadata": {
    "collapsed": true,
    "ExecuteTime": {
     "end_time": "2024-11-19T17:20:30.300339Z",
     "start_time": "2024-11-19T17:20:30.275671Z"
    }
   },
   "source": [
    "import pandas as pd\n",
    "import numpy as np\n",
    "\n",
    "train = pd.read_csv('trainset.csv')\n",
    "test = pd.read_csv('test_x.csv')\n",
    "sample_submission = pd.read_csv('sample_submission.csv')"
   ],
   "outputs": [],
   "execution_count": 3
  },
  {
   "metadata": {
    "ExecuteTime": {
     "end_time": "2024-11-19T17:20:31.120523Z",
     "start_time": "2024-11-19T17:20:31.112173Z"
    }
   },
   "cell_type": "code",
   "source": "train.fillna(method='bfill', inplace=True)",
   "id": "6a4c9a51a9b98cca",
   "outputs": [
    {
     "name": "stderr",
     "output_type": "stream",
     "text": [
      "/var/folders/8s/4g_l84wj1tjg71_xcwhr91yw0000gn/T/ipykernel_32453/3950879406.py:1: FutureWarning: DataFrame.fillna with 'method' is deprecated and will raise in a future version. Use obj.ffill() or obj.bfill() instead.\n",
      "  train.fillna(method='bfill', inplace=True)\n"
     ]
    }
   ],
   "execution_count": 4
  },
  {
   "metadata": {
    "ExecuteTime": {
     "end_time": "2024-11-19T17:22:31.608664Z",
     "start_time": "2024-11-19T17:22:28.426447Z"
    }
   },
   "cell_type": "code",
   "source": [
    "from sklearn.preprocessing import LabelEncoder\n",
    "le = LabelEncoder()\n",
    "categorical_feature = train.dtypes[train.dtypes=='object'].index.values\n",
    "for feature in categorical_feature:\n",
    "    train[feature] = le.fit_transform(train[feature])\n",
    "c_f = test.dtypes[test.dtypes=='object'].index.values\n",
    "for f in c_f:\n",
    "    test[f] = le.fit_transform(test[f])"
   ],
   "id": "49d234faa41735d4",
   "outputs": [],
   "execution_count": 5
  },
  {
   "metadata": {
    "ExecuteTime": {
     "end_time": "2024-11-19T17:23:03.062784Z",
     "start_time": "2024-11-19T17:23:03.035660Z"
    }
   },
   "cell_type": "code",
   "source": [
    "for col in train.columns:\n",
    "    q1 = train[col].quantile(0.0001)\n",
    "    q3 = train[col].quantile(0.9999)\n",
    "    iqr = q3 - q1\n",
    "    lower_bound = q1 - 1.5 * iqr\n",
    "    upper_bound = q3 + 1.5 * iqr\n",
    "    train_encoded = train[(train[col] >= lower_bound) & (train[col] <= upper_bound)]"
   ],
   "id": "6f33a3b98890d880",
   "outputs": [],
   "execution_count": 6
  },
  {
   "metadata": {
    "ExecuteTime": {
     "end_time": "2024-11-19T17:23:23.036446Z",
     "start_time": "2024-11-19T17:23:23.031275Z"
    }
   },
   "cell_type": "code",
   "source": [
    "train_x = train.drop('selling_price', axis=1)\n",
    "train_y = train['selling_price']"
   ],
   "id": "a2fd396894b2413a",
   "outputs": [],
   "execution_count": 7
  },
  {
   "metadata": {
    "ExecuteTime": {
     "end_time": "2024-11-19T17:23:26.335168Z",
     "start_time": "2024-11-19T17:23:26.328211Z"
    }
   },
   "cell_type": "code",
   "source": "train_x.isnull().sum()",
   "id": "e717df8f371e85f3",
   "outputs": [
    {
     "data": {
      "text/plain": [
       "id                   0\n",
       "name                 0\n",
       "year                 0\n",
       "km_driven            0\n",
       "Region               0\n",
       "State or Province    0\n",
       "City                 0\n",
       "fuel                 0\n",
       "seller_type          0\n",
       "transmission         0\n",
       "owner                0\n",
       "mileage              0\n",
       "engine               0\n",
       "max_power            0\n",
       "torque               0\n",
       "seats                0\n",
       "sold                 0\n",
       "dtype: int64"
      ]
     },
     "execution_count": 8,
     "metadata": {},
     "output_type": "execute_result"
    }
   ],
   "execution_count": 8
  },
  {
   "metadata": {
    "ExecuteTime": {
     "end_time": "2024-11-19T17:24:01.773267Z",
     "start_time": "2024-11-19T17:23:56.676368Z"
    }
   },
   "cell_type": "code",
   "source": [
    "from sklearn.ensemble import RandomForestRegressor\n",
    "model = RandomForestRegressor()\n",
    "model.fit(train_x, train_y)\n",
    "score = model.score(train_x, train_y)\n",
    "print(score)"
   ],
   "id": "93e5f3751f906455",
   "outputs": [
    {
     "name": "stdout",
     "output_type": "stream",
     "text": [
      "0.9928863581222646\n"
     ]
    }
   ],
   "execution_count": 9
  },
  {
   "metadata": {
    "ExecuteTime": {
     "end_time": "2024-11-19T17:24:36.838129Z",
     "start_time": "2024-11-19T17:24:36.800201Z"
    }
   },
   "cell_type": "code",
   "source": [
    "y = model.predict(test)\n",
    "sample_submission['selling_price'] = y\n",
    "sample_submission.to_csv('submission.csv', index=False)\n",
    "import files"
   ],
   "id": "68e8008b63c5c6cd",
   "outputs": [],
   "execution_count": 10
  },
  {
   "metadata": {},
   "cell_type": "code",
   "outputs": [],
   "execution_count": null,
   "source": "",
   "id": "178be537976f193e"
  }
 ],
 "metadata": {
  "kernelspec": {
   "display_name": "Python 3",
   "language": "python",
   "name": "python3"
  },
  "language_info": {
   "codemirror_mode": {
    "name": "ipython",
    "version": 2
   },
   "file_extension": ".py",
   "mimetype": "text/x-python",
   "name": "python",
   "nbconvert_exporter": "python",
   "pygments_lexer": "ipython2",
   "version": "2.7.6"
  }
 },
 "nbformat": 4,
 "nbformat_minor": 5
}
