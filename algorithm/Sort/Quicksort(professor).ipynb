{
 "cells": [
  {
   "cell_type": "code",
   "id": "initial_id",
   "metadata": {
    "collapsed": true,
    "ExecuteTime": {
     "end_time": "2024-10-14T12:01:27.944424Z",
     "start_time": "2024-10-14T12:01:27.551345Z"
    }
   },
   "source": [
    "import numpy as np\n",
    "import random\n",
    "import matplotlib.pyplot as plt\n",
    "import time"
   ],
   "outputs": [],
   "execution_count": 1
  },
  {
   "metadata": {},
   "cell_type": "markdown",
   "source": "Question. 1",
   "id": "dcfedafeb085d7ee"
  },
  {
   "metadata": {
    "ExecuteTime": {
     "end_time": "2024-10-14T12:01:27.950649Z",
     "start_time": "2024-10-14T12:01:27.948197Z"
    }
   },
   "cell_type": "code",
   "source": [
    "def basic_quicksort(arr):\n",
    "    if len(arr) <= 1:\n",
    "        return arr\n",
    "    pivot = arr[len(arr) // 2]\n",
    "    left = [x for x in arr if x < pivot]\n",
    "    middle = [x for x in arr if x == pivot]\n",
    "    right = [x for x in arr if x > pivot]\n",
    "    return basic_quicksort(left) + middle + basic_quicksort(right)"
   ],
   "id": "7ce810ada31e4bb",
   "outputs": [],
   "execution_count": 2
  },
  {
   "metadata": {
    "ExecuteTime": {
     "end_time": "2024-10-14T12:03:06.523459Z",
     "start_time": "2024-10-14T12:03:06.520385Z"
    }
   },
   "cell_type": "code",
   "source": [
    "arr = [random.randint(1,11) for _ in range(10)]\n",
    "print(arr)\n",
    "arr = basic_quicksort(arr)\n",
    "print(arr)"
   ],
   "id": "6853dbae1fb31ed",
   "outputs": [
    {
     "name": "stdout",
     "output_type": "stream",
     "text": [
      "[10, 9, 1, 5, 2, 3, 3, 11, 8, 10]\n",
      "[1, 2, 3, 3, 5, 8, 9, 10, 10, 11]\n"
     ]
    }
   ],
   "execution_count": 4
  },
  {
   "metadata": {},
   "cell_type": "markdown",
   "source": "Question. 2",
   "id": "9aa3759b59cc09d7"
  },
  {
   "metadata": {
    "ExecuteTime": {
     "end_time": "2024-10-14T12:09:40.883579Z",
     "start_time": "2024-10-14T12:09:40.879846Z"
    }
   },
   "cell_type": "code",
   "source": [
    "def partition(arr,s,f):\n",
    "    pivot = arr[f]\n",
    "    i = s - 1\n",
    "    for j in range(s, f):\n",
    "        if arr[j] <= pivot:\n",
    "            i+=1\n",
    "            arr[i],arr[j] = arr[j],arr[i]\n",
    "    arr[i+1],arr[f] = arr[f],arr[i+1]\n",
    "    return i + 1"
   ],
   "id": "f0a314f361031d4c",
   "outputs": [],
   "execution_count": 5
  },
  {
   "metadata": {
    "ExecuteTime": {
     "end_time": "2024-10-14T12:10:43.915411Z",
     "start_time": "2024-10-14T12:10:43.910439Z"
    }
   },
   "cell_type": "code",
   "source": [
    "arr2 = [random.randint(1,11) for _ in range(10)]\n",
    "print(arr2)\n",
    "partition(arr2,0,len(arr2)-1)\n",
    "print(arr2)\n",
    "# 변경 전 마지막 인자값을 기준으로 왼쪽은 작은 값들만, 오른쪽은 큰 값만 있다."
   ],
   "id": "45dfd13b90c7833b",
   "outputs": [
    {
     "name": "stdout",
     "output_type": "stream",
     "text": [
      "[1, 6, 6, 10, 9, 5, 5, 10, 4, 3]\n",
      "[1, 3, 6, 10, 9, 5, 5, 10, 4, 6]\n"
     ]
    }
   ],
   "execution_count": 6
  },
  {
   "metadata": {},
   "cell_type": "markdown",
   "source": "Question. 3",
   "id": "4340baa41b14c6a6"
  },
  {
   "metadata": {
    "ExecuteTime": {
     "end_time": "2024-10-14T12:40:13.439081Z",
     "start_time": "2024-10-14T12:40:13.433618Z"
    }
   },
   "cell_type": "code",
   "source": [
    "def quicksort(arr,s,f):\n",
    "    if s < f:\n",
    "        pivot_index = partition(arr,s,f)\n",
    "        quicksort(arr,s,pivot_index-1)\n",
    "        quicksort(arr,pivot_index + 1,f)"
   ],
   "id": "95860134b835243f",
   "outputs": [],
   "execution_count": 7
  },
  {
   "metadata": {
    "ExecuteTime": {
     "end_time": "2024-10-14T12:41:11.488697Z",
     "start_time": "2024-10-14T12:41:11.484406Z"
    }
   },
   "cell_type": "code",
   "source": [
    "arr3 = [random.randint(1,11) for _ in range(10)]\n",
    "print(arr3)\n",
    "quicksort(arr3,0,len(arr3)-1)\n",
    "print(arr3)"
   ],
   "id": "63e1108a416512e7",
   "outputs": [
    {
     "name": "stdout",
     "output_type": "stream",
     "text": [
      "[11, 8, 5, 7, 3, 8, 6, 5, 6, 1]\n",
      "[1, 3, 5, 5, 6, 6, 7, 8, 8, 11]\n"
     ]
    }
   ],
   "execution_count": 9
  },
  {
   "metadata": {},
   "cell_type": "markdown",
   "source": "",
   "id": "4089690e55df048a"
  },
  {
   "metadata": {},
   "cell_type": "code",
   "outputs": [],
   "execution_count": null,
   "source": "",
   "id": "a581ed2e9d96b4da"
  }
 ],
 "metadata": {
  "kernelspec": {
   "display_name": "Python 3",
   "language": "python",
   "name": "python3"
  },
  "language_info": {
   "codemirror_mode": {
    "name": "ipython",
    "version": 2
   },
   "file_extension": ".py",
   "mimetype": "text/x-python",
   "name": "python",
   "nbconvert_exporter": "python",
   "pygments_lexer": "ipython2",
   "version": "2.7.6"
  }
 },
 "nbformat": 4,
 "nbformat_minor": 5
}
