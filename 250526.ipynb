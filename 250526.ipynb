{
 "cells": [
  {
   "cell_type": "code",
   "id": "initial_id",
   "metadata": {
    "collapsed": true,
    "ExecuteTime": {
     "end_time": "2025-05-26T05:31:28.364426Z",
     "start_time": "2025-05-26T05:31:27.703743Z"
    }
   },
   "source": "import torch as t",
   "outputs": [],
   "execution_count": 2
  },
  {
   "metadata": {
    "ExecuteTime": {
     "end_time": "2025-05-26T05:31:28.376862Z",
     "start_time": "2025-05-26T05:31:28.372004Z"
    }
   },
   "cell_type": "code",
   "source": [
    "a = t.FloatTensor([[1,2],\n",
    "                   [3,4]])\n",
    "b = t.FloatTensor([[2,2],\n",
    "                   [2,3]])"
   ],
   "id": "f00783de7c34c6ed",
   "outputs": [],
   "execution_count": 3
  },
  {
   "metadata": {
    "ExecuteTime": {
     "end_time": "2025-05-26T05:31:28.407386Z",
     "start_time": "2025-05-26T05:31:28.403612Z"
    }
   },
   "cell_type": "code",
   "source": [
    "print(a+b)\n",
    "print(a-b)\n",
    "print(a*b)\n",
    "print(a/b)"
   ],
   "id": "1181592ac75f1a5b",
   "outputs": [
    {
     "name": "stdout",
     "output_type": "stream",
     "text": [
      "tensor([[3., 4.],\n",
      "        [5., 7.]])\n",
      "tensor([[-1.,  0.],\n",
      "        [ 1.,  1.]])\n",
      "tensor([[ 2.,  4.],\n",
      "        [ 6., 12.]])\n",
      "tensor([[0.5000, 1.0000],\n",
      "        [1.5000, 1.3333]])\n"
     ]
    }
   ],
   "execution_count": 4
  },
  {
   "metadata": {
    "ExecuteTime": {
     "end_time": "2025-05-26T05:31:28.464199Z",
     "start_time": "2025-05-26T05:31:28.460883Z"
    }
   },
   "cell_type": "code",
   "source": [
    "print(a**b)\n",
    "print(a==b)\n",
    "print(a!=b)\n"
   ],
   "id": "6909f35caefc8ce8",
   "outputs": [
    {
     "name": "stdout",
     "output_type": "stream",
     "text": [
      "tensor([[ 1.,  4.],\n",
      "        [ 9., 64.]])\n",
      "tensor([[False,  True],\n",
      "        [False, False]])\n",
      "tensor([[ True, False],\n",
      "        [ True,  True]])\n"
     ]
    }
   ],
   "execution_count": 5
  },
  {
   "metadata": {
    "ExecuteTime": {
     "end_time": "2025-05-26T05:31:55.029636Z",
     "start_time": "2025-05-26T05:31:55.026638Z"
    }
   },
   "cell_type": "code",
   "source": [
    "x = t.FloatTensor([[1,2],\n",
    "                   [3,4]])\n",
    "print(x.size())"
   ],
   "id": "e3c3585e6674acea",
   "outputs": [
    {
     "name": "stdout",
     "output_type": "stream",
     "text": [
      "torch.Size([2, 2])\n"
     ]
    }
   ],
   "execution_count": 8
  },
  {
   "metadata": {
    "ExecuteTime": {
     "end_time": "2025-05-26T05:33:31.387380Z",
     "start_time": "2025-05-26T05:33:31.384113Z"
    }
   },
   "cell_type": "code",
   "source": [
    "a1 = t.FloatTensor([[1,2]])\n",
    "a2 = t.FloatTensor([[3],\n",
    "                    [4]])\n",
    "\n",
    "print(a1.size(), a2.size())"
   ],
   "id": "c2b6e62c69e1f632",
   "outputs": [
    {
     "name": "stdout",
     "output_type": "stream",
     "text": [
      "torch.Size([1, 2]) torch.Size([2, 1])\n"
     ]
    }
   ],
   "execution_count": 9
  },
  {
   "metadata": {
    "ExecuteTime": {
     "end_time": "2025-05-26T05:33:41.170756Z",
     "start_time": "2025-05-26T05:33:41.167804Z"
    }
   },
   "cell_type": "code",
   "source": "print(a1+a2)",
   "id": "b069392f8d2dead5",
   "outputs": [
    {
     "name": "stdout",
     "output_type": "stream",
     "text": [
      "tensor([[4., 5.],\n",
      "        [5., 6.]])\n"
     ]
    }
   ],
   "execution_count": 10
  },
  {
   "metadata": {
    "ExecuteTime": {
     "end_time": "2025-05-26T05:34:12.200871Z",
     "start_time": "2025-05-26T05:34:12.197914Z"
    }
   },
   "cell_type": "code",
   "source": "print((a1+a2).size())",
   "id": "eb5e546e4a891254",
   "outputs": [
    {
     "name": "stdout",
     "output_type": "stream",
     "text": [
      "torch.Size([2, 2])\n"
     ]
    }
   ],
   "execution_count": 11
  },
  {
   "metadata": {},
   "cell_type": "code",
   "outputs": [],
   "execution_count": null,
   "source": "",
   "id": "9b4c6bae9662e2dc"
  }
 ],
 "metadata": {
  "kernelspec": {
   "display_name": "Python 3",
   "language": "python",
   "name": "python3"
  },
  "language_info": {
   "codemirror_mode": {
    "name": "ipython",
    "version": 2
   },
   "file_extension": ".py",
   "mimetype": "text/x-python",
   "name": "python",
   "nbconvert_exporter": "python",
   "pygments_lexer": "ipython2",
   "version": "2.7.6"
  }
 },
 "nbformat": 4,
 "nbformat_minor": 5
}
