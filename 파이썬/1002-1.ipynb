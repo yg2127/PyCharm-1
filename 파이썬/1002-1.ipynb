{
 "cells": [
  {
   "cell_type": "code",
   "id": "initial_id",
   "metadata": {
    "collapsed": true,
    "ExecuteTime": {
     "end_time": "2024-10-02T09:11:31.027784Z",
     "start_time": "2024-10-02T09:11:31.024577Z"
    }
   },
   "source": [
    "import numpy as np\n",
    "arr = np.random.randint(10, size = 10)\n",
    "print(arr)"
   ],
   "outputs": [
    {
     "name": "stdout",
     "output_type": "stream",
     "text": [
      "[3 7 1 4 0 1 9 5 4 1]\n"
     ]
    }
   ],
   "execution_count": 17
  },
  {
   "metadata": {
    "ExecuteTime": {
     "end_time": "2024-10-02T09:11:32.079402Z",
     "start_time": "2024-10-02T09:11:32.075759Z"
    }
   },
   "cell_type": "code",
   "source": "print(np.sort(arr))",
   "id": "20f74645303ac38b",
   "outputs": [
    {
     "name": "stdout",
     "output_type": "stream",
     "text": [
      "[0 1 1 1 3 4 4 5 7 9]\n"
     ]
    }
   ],
   "execution_count": 18
  },
  {
   "metadata": {
    "ExecuteTime": {
     "end_time": "2024-10-02T09:11:33.315759Z",
     "start_time": "2024-10-02T09:11:33.312648Z"
    }
   },
   "cell_type": "code",
   "source": [
    "arr2 = np.random.randint(15, size = (3,4))\n",
    "print(arr2)"
   ],
   "id": "385b71ca446fce7a",
   "outputs": [
    {
     "name": "stdout",
     "output_type": "stream",
     "text": [
      "[[ 3 10  7 12]\n",
      " [ 9 14 13 10]\n",
      " [ 8  8  5 14]]\n"
     ]
    }
   ],
   "execution_count": 19
  },
  {
   "metadata": {
    "ExecuteTime": {
     "end_time": "2024-10-02T09:11:34.438667Z",
     "start_time": "2024-10-02T09:11:34.434661Z"
    }
   },
   "cell_type": "code",
   "source": [
    "print(np.sort(arr2, axis = 0))\n",
    "print(np.argsort(arr2, axis = 0))"
   ],
   "id": "b907da43f5a42831",
   "outputs": [
    {
     "name": "stdout",
     "output_type": "stream",
     "text": [
      "[[ 3  8  5 10]\n",
      " [ 8 10  7 12]\n",
      " [ 9 14 13 14]]\n",
      "[[0 2 2 1]\n",
      " [2 0 0 0]\n",
      " [1 1 1 2]]\n"
     ]
    }
   ],
   "execution_count": 20
  },
  {
   "metadata": {
    "ExecuteTime": {
     "end_time": "2024-10-02T09:11:36.138982Z",
     "start_time": "2024-10-02T09:11:36.136349Z"
    }
   },
   "cell_type": "code",
   "source": [
    "arr3 = np.arange(12)\n",
    "print(arr3,\"\\n\", arr3.ndim,\"\\n\")\n",
    "#차원을 늘려주는 reshape\n",
    "arr3 = arr3.reshape((3,4))\n",
    "print(arr3,\"\\n\", arr3.ndim)"
   ],
   "id": "26af07ba6263c421",
   "outputs": [
    {
     "name": "stdout",
     "output_type": "stream",
     "text": [
      "[ 0  1  2  3  4  5  6  7  8  9 10 11] \n",
      " 1 \n",
      "\n",
      "[[ 0  1  2  3]\n",
      " [ 4  5  6  7]\n",
      " [ 8  9 10 11]] \n",
      " 2\n"
     ]
    }
   ],
   "execution_count": 21
  },
  {
   "metadata": {
    "ExecuteTime": {
     "end_time": "2024-10-02T09:11:37.572198Z",
     "start_time": "2024-10-02T09:11:37.568607Z"
    }
   },
   "cell_type": "code",
   "source": [
    "arr3.resize(4,3)\n",
    "print(arr3)"
   ],
   "id": "ebbc0975a9162adf",
   "outputs": [
    {
     "name": "stdout",
     "output_type": "stream",
     "text": [
      "[[ 0  1  2]\n",
      " [ 3  4  5]\n",
      " [ 6  7  8]\n",
      " [ 9 10 11]]\n"
     ]
    }
   ],
   "execution_count": 22
  },
  {
   "metadata": {
    "ExecuteTime": {
     "end_time": "2024-10-02T09:11:38.802768Z",
     "start_time": "2024-10-02T09:11:38.799819Z"
    }
   },
   "cell_type": "code",
   "source": [
    "arr3 = arr3.ravel()\n",
    "print(arr3)"
   ],
   "id": "9f574e63dc3e36b8",
   "outputs": [
    {
     "name": "stdout",
     "output_type": "stream",
     "text": [
      "[ 0  1  2  3  4  5  6  7  8  9 10 11]\n"
     ]
    }
   ],
   "execution_count": 23
  },
  {
   "metadata": {
    "ExecuteTime": {
     "end_time": "2024-10-02T09:12:00.954879Z",
     "start_time": "2024-10-02T09:12:00.951562Z"
    }
   },
   "cell_type": "code",
   "source": [
    "arr3 = arr3.reshape(3,-1)\n",
    "print(arr3)"
   ],
   "id": "3c91233b698eaff",
   "outputs": [
    {
     "name": "stdout",
     "output_type": "stream",
     "text": [
      "[[ 0  1  2  3]\n",
      " [ 4  5  6  7]\n",
      " [ 8  9 10 11]]\n"
     ]
    }
   ],
   "execution_count": 24
  },
  {
   "metadata": {
    "ExecuteTime": {
     "end_time": "2024-10-02T09:14:10.060656Z",
     "start_time": "2024-10-02T09:14:10.056067Z"
    }
   },
   "cell_type": "code",
   "source": [
    "arr4 = np.array([1,2])\n",
    "print(arr4, arr4.shape)\n",
    "arr4 = np.expand_dims(arr4, axis = 1)\n",
    "print(arr4, arr4.shape)"
   ],
   "id": "ca81435cfc3ff46e",
   "outputs": [
    {
     "name": "stdout",
     "output_type": "stream",
     "text": [
      "[1 2] (2,)\n",
      "[[1]\n",
      " [2]] (2, 1)\n"
     ]
    }
   ],
   "execution_count": 25
  },
  {
   "metadata": {
    "ExecuteTime": {
     "end_time": "2024-10-02T09:39:02.189955Z",
     "start_time": "2024-10-02T09:39:02.184292Z"
    }
   },
   "cell_type": "code",
   "source": [
    "arr4 = np.array([[1,2]])\n",
    "print(\"arr4\",arr4, arr4.shape, arr4.ndim)\n",
    "arr4 = np.squeeze(arr4, axis = 0)\n",
    "print(\"arr4\",arr4, arr4.shape, arr4.ndim)\n",
    "\n",
    "arr5 = np.array([[[1,2,3]]])\n",
    "print(\"arr5\",arr5, arr5.shape, arr5.ndim)\n",
    "arr5 = np.squeeze(arr5)\n",
    "print(\"arr5\",arr5, arr5.shape, arr5.ndim)"
   ],
   "id": "2b92bbb6f80aebc0",
   "outputs": [
    {
     "name": "stdout",
     "output_type": "stream",
     "text": [
      "arr4 [[1 2]] (1, 2) 2\n",
      "arr4 [1 2] (2,) 1\n",
      "arr5 [[[1 2 3]]] (1, 1, 3) 3\n",
      "arr5 [1 2 3] (3,) 1\n"
     ]
    }
   ],
   "execution_count": 42
  },
  {
   "metadata": {
    "ExecuteTime": {
     "end_time": "2024-10-02T09:27:12.603969Z",
     "start_time": "2024-10-02T09:27:12.600736Z"
    }
   },
   "cell_type": "code",
   "source": [
    "ar = np.arange(1,7).reshape(2,3)\n",
    "ar2 = np.arange(7,13).reshape(2,3)\n",
    "\n",
    "ar3 = np.vstack((ar,ar2))\n",
    "print(ar3)"
   ],
   "id": "3740e8770c10db5e",
   "outputs": [
    {
     "name": "stdout",
     "output_type": "stream",
     "text": [
      "[[ 1  2  3]\n",
      " [ 4  5  6]\n",
      " [ 7  8  9]\n",
      " [10 11 12]]\n"
     ]
    }
   ],
   "execution_count": 37
  },
  {
   "metadata": {},
   "cell_type": "code",
   "outputs": [],
   "execution_count": null,
   "source": [
    "#vsplit() => axis = 0을 기준으로한다.\n",
    "#hsplit() => axis = 1을 기준으로 한다.\n",
    "# 2차원 기준임\n",
    "\n",
    "#"
   ],
   "id": "3e3624af58d46e87"
  }
 ],
 "metadata": {
  "kernelspec": {
   "display_name": "Python 3",
   "language": "python",
   "name": "python3"
  },
  "language_info": {
   "codemirror_mode": {
    "name": "ipython",
    "version": 2
   },
   "file_extension": ".py",
   "mimetype": "text/x-python",
   "name": "python",
   "nbconvert_exporter": "python",
   "pygments_lexer": "ipython2",
   "version": "2.7.6"
  }
 },
 "nbformat": 4,
 "nbformat_minor": 5
}
