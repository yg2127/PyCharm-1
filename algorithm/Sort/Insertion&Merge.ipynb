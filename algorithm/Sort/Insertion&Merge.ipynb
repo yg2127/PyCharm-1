{
 "cells": [
  {
   "cell_type": "code",
   "id": "initial_id",
   "metadata": {
    "collapsed": true,
    "ExecuteTime": {
     "end_time": "2024-10-05T09:56:09.569997Z",
     "start_time": "2024-10-05T09:56:09.566010Z"
    }
   },
   "source": [
    "#a\n",
    "\n",
    "x = [5,2,7,6,0,8,3,4,9,1]\n",
    "\n",
    "def Insertion_sort(a):\n",
    "    for i in range(1,len(a)):\n",
    "        key = a[i]\n",
    "        j = i-1\n",
    "        while(j >= 0 and a[j] > key):\n",
    "            a[j+1] = a[j]\n",
    "            j -= 1\n",
    "        a[j+1] = key\n",
    "    return a\n",
    "\n",
    "x = Insertion_sort(x)\n",
    "print(x)"
   ],
   "outputs": [
    {
     "name": "stdout",
     "output_type": "stream",
     "text": [
      "[0, 1, 2, 3, 4, 5, 6, 7, 8, 9]\n"
     ]
    }
   ],
   "execution_count": 3
  },
  {
   "metadata": {
    "ExecuteTime": {
     "end_time": "2024-10-05T09:56:11.442988Z",
     "start_time": "2024-10-05T09:56:11.438928Z"
    }
   },
   "cell_type": "code",
   "source": [
    "#b\n",
    "\n",
    "x = [5,2,7,6,0,8,3,4,9,1]\n",
    "\n",
    "def Insertion_rsort(a):\n",
    "    for i in range(1,len(a)):\n",
    "        key = a[i]\n",
    "        j = i-1\n",
    "        while(j >= 0 and a[j] < key):\n",
    "            a[j+1] = a[j]\n",
    "            j -= 1\n",
    "        a[j+1] = key\n",
    "    return a\n",
    "\n",
    "x = Insertion_sort(x)\n",
    "print(x)"
   ],
   "id": "adeffa55f68c0582",
   "outputs": [
    {
     "name": "stdout",
     "output_type": "stream",
     "text": [
      "[0, 1, 2, 3, 4, 5, 6, 7, 8, 9]\n"
     ]
    }
   ],
   "execution_count": 4
  },
  {
   "metadata": {
    "ExecuteTime": {
     "end_time": "2024-10-05T09:56:21.022583Z",
     "start_time": "2024-10-05T09:56:17.355820Z"
    }
   },
   "cell_type": "code",
   "source": [
    "#c\n",
    "\n",
    "from numpy import random\n",
    "\n",
    "import time\n",
    "start_time = time.time()\n",
    "print(Insertion_sort(random.randint(10000, size = (10000))))\n",
    "print(\"%f second\"%(time.time()-start_time))"
   ],
   "id": "39d66c755442e301",
   "outputs": [
    {
     "name": "stdout",
     "output_type": "stream",
     "text": [
      "[   0   14   15 ... 9999 9999 9999]\n",
      "3.664564 second\n"
     ]
    }
   ],
   "execution_count": 6
  },
  {
   "metadata": {
    "ExecuteTime": {
     "end_time": "2024-10-05T09:56:31.063198Z",
     "start_time": "2024-10-05T09:56:31.056491Z"
    }
   },
   "cell_type": "code",
   "source": [
    "def merge_sort(A,p,q,r):\n",
    "    nl = q-p+1\n",
    "    nr = r-q\n",
    "    L = A[0:nl-1]\n",
    "    R = A[0:nr-1]\n",
    "    for i in range(nl):\n",
    "        L[i] = A[p+i]\n",
    "    for j in range(nr):\n",
    "        R[j] = A[q+j+1]\n",
    "    i = 0\n",
    "    j = 0\n",
    "    k = p\n",
    "    while(i < nl and j < nr):\n",
    "        if L[i] <= R[j]:\n",
    "            A[k] = L[i]\n",
    "            i += 1\n",
    "        else A[k] = R[j]:\n",
    "            j += 1\n",
    "        k+=1\n",
    "    while i < nl:\n",
    "        A[k] = L[i]\n",
    "        i += 1\n",
    "        k += 1\n",
    "    while j < nr:\n",
    "        A[k] = R[j]\n",
    "        j += 1\n",
    "        k += 1"
   ],
   "id": "b5ccccdad2eeb748",
   "outputs": [
    {
     "ename": "SyntaxError",
     "evalue": "invalid syntax (2595101419.py, line 17)",
     "output_type": "error",
     "traceback": [
      "\u001B[0;36m  Cell \u001B[0;32mIn[9], line 17\u001B[0;36m\u001B[0m\n\u001B[0;31m    else A[k] = R[j]:\u001B[0m\n\u001B[0m         ^\u001B[0m\n\u001B[0;31mSyntaxError\u001B[0m\u001B[0;31m:\u001B[0m invalid syntax\n"
     ]
    }
   ],
   "execution_count": 9
  },
  {
   "metadata": {
    "ExecuteTime": {
     "end_time": "2024-10-05T10:05:24.284941Z",
     "start_time": "2024-10-05T10:05:24.281434Z"
    }
   },
   "cell_type": "code",
   "source": [
    "def merge_sort(A, p, q, r):\n",
    "    nl = q - p + 1\n",
    "    nr = r - q\n",
    "    L = A[0:nl]  # 왼쪽 배열\n",
    "    R = A[0:nr]  # 오른쪽 배열\n",
    "    \n",
    "    # L 배열에 왼쪽 절반 복사\n",
    "    for i in range(nl):\n",
    "        L[i] = A[p + i]\n",
    "    \n",
    "    # R 배열에 오른쪽 절반 복사\n",
    "    for j in range(nr):\n",
    "        R[j] = A[q + j + 1]\n",
    "    \n",
    "    i = 0\n",
    "    j = 0\n",
    "    k = p\n",
    "\n",
    "    # L과 R을 비교하여 A에 병합\n",
    "    while i < nl and j < nr:\n",
    "        if L[i] <= R[j]:\n",
    "            A[k] = L[i]\n",
    "            i += 1\n",
    "        else:\n",
    "            A[k] = R[j]\n",
    "            j += 1\n",
    "        k += 1\n",
    "\n",
    "    # L 배열에 남은 요소를 A에 복사\n",
    "    while i < nl:\n",
    "        A[k] = L[i]\n",
    "        i += 1\n",
    "        k += 1\n",
    "\n",
    "    # R 배열에 남은 요소를 A에 복사\n",
    "    while j < nr:\n",
    "        A[k] = R[j]\n",
    "        j += 1\n",
    "        k += 1"
   ],
   "id": "30715307db2a0e5a",
   "outputs": [],
   "execution_count": 14
  },
  {
   "metadata": {
    "ExecuteTime": {
     "end_time": "2024-10-05T10:18:23.144915Z",
     "start_time": "2024-10-05T10:18:23.140069Z"
    }
   },
   "cell_type": "code",
   "source": [
    "#교수님 코드\n",
    "def merge_sort(arr):\n",
    "    if len(arr)>1:\n",
    "        mid = len(arr) // 2\n",
    "        left_half = arr[:mid]\n",
    "        right_half = arr[mid:]\n",
    "        \n",
    "        merge_sort(left_half)\n",
    "        merge_sort(right_half)\n",
    "        \n",
    "        i = j = k = 0\n",
    "        while i < len(left_half) and j < len(right_half):\n",
    "            if left_half[i] < right_half[j]:\n",
    "                arr[k] = left_half[i]\n",
    "                i+=1\n",
    "            else:\n",
    "                arr[k] = right_half[j]\n",
    "                j+=1\n",
    "        while i < len(left_half):\n",
    "            arr[k] = left_half[i]\n",
    "            i += 1\n",
    "            j += 1\n",
    "        while j < len(right_half):\n",
    "            arr[k] = right_half[j]\n",
    "            j+=1\n",
    "            k+=1"
   ],
   "id": "fa717a8ec7292829",
   "outputs": [],
   "execution_count": 15
  },
  {
   "metadata": {},
   "cell_type": "code",
   "outputs": [],
   "execution_count": null,
   "source": "",
   "id": "2190957abf3e7a18"
  }
 ],
 "metadata": {
  "kernelspec": {
   "display_name": "Python 3",
   "language": "python",
   "name": "python3"
  },
  "language_info": {
   "codemirror_mode": {
    "name": "ipython",
    "version": 2
   },
   "file_extension": ".py",
   "mimetype": "text/x-python",
   "name": "python",
   "nbconvert_exporter": "python",
   "pygments_lexer": "ipython2",
   "version": "2.7.6"
  }
 },
 "nbformat": 4,
 "nbformat_minor": 5
}
